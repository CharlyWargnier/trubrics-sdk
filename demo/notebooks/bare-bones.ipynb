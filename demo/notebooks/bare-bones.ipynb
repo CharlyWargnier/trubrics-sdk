{
 "cells": [
  {
   "cell_type": "code",
   "execution_count": null,
   "id": "8bea10f0-d706-4574-8f14-1e7e033cc2c4",
   "metadata": {},
   "outputs": [],
   "source": [
    "from sklearn.metrics import accuracy_score"
   ]
  },
  {
   "cell_type": "code",
   "execution_count": null,
   "id": "ff3cfd24-ad17-431f-8911-cf16ab53743b",
   "metadata": {},
   "outputs": [],
   "source": [
    "import joblib\n",
    "model = joblib.load(\"../models/rf_model.pkl\")"
   ]
  },
  {
   "cell_type": "code",
   "execution_count": null,
   "id": "1c5683ce-6678-407e-b75d-21771ca45056",
   "metadata": {},
   "outputs": [],
   "source": [
    "import pandas as pd\n",
    "test_df = pd.read_csv(\"../data/preprocessed_train.csv\")\n",
    "test_df.head()"
   ]
  },
  {
   "cell_type": "code",
   "execution_count": null,
   "id": "ea619546-1731-4f55-81c7-72e27d3ecfeb",
   "metadata": {},
   "outputs": [],
   "source": [
    "# test model\n",
    "model.predict(test_df[[col for col in test_df.columns if col != \"Survived\"]])[:2]"
   ]
  },
  {
   "cell_type": "code",
   "execution_count": null,
   "id": "3998902b-240b-447e-a807-40dc425e090e",
   "metadata": {},
   "outputs": [],
   "source": [
    "from trubrics.context import DataContext, ModelContext\n",
    "data_context = DataContext(\n",
    "    testing_data=test_df,\n",
    "    target_column=\"Survived\"\n",
    ")\n",
    "model_context = ModelContext(\n",
    "    estimator=model,\n",
    "    evaluation_function=accuracy_score\n",
    ")"
   ]
  },
  {
   "cell_type": "code",
   "execution_count": null,
   "id": "572db6c0-a5a7-4b95-a77b-2ec744468602",
   "metadata": {},
   "outputs": [],
   "source": [
    "from trubrics.testers.sklearn import SklearnTester\n",
    "model_tester = SklearnTester(data=data_context, model=model_context)"
   ]
  },
  {
   "cell_type": "code",
   "execution_count": null,
   "id": "eefe00bd-51fb-4f05-b0ba-df4920c7dcd1",
   "metadata": {},
   "outputs": [],
   "source": [
    "model_tester.list_model_features()"
   ]
  },
  {
   "cell_type": "code",
   "execution_count": null,
   "id": "ea9769d2-0b9b-4e24-8ef9-68c88e4302ca",
   "metadata": {},
   "outputs": [],
   "source": [
    "model_tester.test_performance_against_threshold(threshold=0.7)"
   ]
  },
  {
   "cell_type": "code",
   "execution_count": null,
   "id": "4fe97754-8f69-4e24-9deb-f49fde043f06",
   "metadata": {},
   "outputs": [],
   "source": []
  }
 ],
 "metadata": {
  "kernelspec": {
   "display_name": "trubrics-venv",
   "language": "python",
   "name": "trubrics-venv"
  },
  "language_info": {
   "codemirror_mode": {
    "name": "ipython",
    "version": 3
   },
   "file_extension": ".py",
   "mimetype": "text/x-python",
   "name": "python",
   "nbconvert_exporter": "python",
   "pygments_lexer": "ipython3",
   "version": "3.7.9"
  }
 },
 "nbformat": 4,
 "nbformat_minor": 5
}
