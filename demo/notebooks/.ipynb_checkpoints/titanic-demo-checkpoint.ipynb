{
 "cells": [
  {
   "cell_type": "code",
   "execution_count": null,
   "id": "38b47bf6",
   "metadata": {},
   "outputs": [],
   "source": [
    "import pandas as pd\n",
    "import numpy as np\n",
    "\n",
    "from sklearn.ensemble import RandomForestClassifier\n",
    "from sklearn.preprocessing import OneHotEncoder, MinMaxScaler\n",
    "from sklearn.impute import SimpleImputer\n",
    "from sklearn.pipeline import Pipeline\n",
    "from sklearn.compose import ColumnTransformer\n",
    "from sklearn.model_selection import train_test_split\n",
    "from sklearn.metrics import accuracy_score\n",
    "import joblib"
   ]
  },
  {
   "cell_type": "code",
   "execution_count": null,
   "id": "4541671c",
   "metadata": {},
   "outputs": [],
   "source": [
    "train_df = pd.read_csv(\"../data/train.csv\")"
   ]
  },
  {
   "cell_type": "markdown",
   "id": "a176bd43",
   "metadata": {},
   "source": [
    "## preprocess"
   ]
  },
  {
   "cell_type": "code",
   "execution_count": null,
   "id": "b49f9f5b",
   "metadata": {},
   "outputs": [],
   "source": [
    "def _strip_title(row):\n",
    "    return row.split(\",\")[1].split(\".\")[0].replace(\" \", \"\")\n",
    "\n",
    "def preprocess(df):\n",
    "    return (\n",
    "        df\n",
    "        .assign(Title=lambda x: x[\"Name\"].apply(_strip_title))\n",
    "        .assign(Fare=lambda x: x[\"Fare\"].round(2))\n",
    "        .drop([\"Ticket\", \"Cabin\", \"Name\", \"PassengerId\"], axis=1)\n",
    "    )\n",
    "\n",
    "\n",
    "preprocessed_train = train_df.pipe(preprocess)"
   ]
  },
  {
   "cell_type": "markdown",
   "id": "76cf76dc",
   "metadata": {},
   "source": [
    "## train"
   ]
  },
  {
   "cell_type": "code",
   "execution_count": null,
   "id": "f5e7f3be",
   "metadata": {},
   "outputs": [],
   "source": [
    "def init_training(categorical_features, numerical_features):\n",
    "    numeric_pipeline = Pipeline(steps=[\n",
    "        ('impute', SimpleImputer(strategy='mean')),\n",
    "        ('scale', MinMaxScaler())\n",
    "    ])\n",
    "\n",
    "    categorical_pipeline = Pipeline(steps=[\n",
    "        ('impute', SimpleImputer(strategy='most_frequent')),\n",
    "        ('one-hot', OneHotEncoder(handle_unknown='ignore', sparse=False))\n",
    "    ])\n",
    "\n",
    "    processor = ColumnTransformer(transformers=[\n",
    "        ('number', numeric_pipeline, numerical_features),\n",
    "        ('category', categorical_pipeline, categorical_features)\n",
    "    ])\n",
    "\n",
    "    pipeline = Pipeline(steps=[\n",
    "        ('processor', processor),\n",
    "        ('regressor', RandomForestClassifier(random_state=88))\n",
    "    ])\n",
    "    return pipeline\n",
    "\n",
    "\n",
    "def get_features(df, target):\n",
    "     return [col for col in df.columns if col != target]\n",
    "\n",
    "\n",
    "#config\n",
    "TARGET = \"Survived\"\n",
    "CATEGORICAL_COLS = [\"Sex\", \"Embarked\", \"Title\"]\n",
    "NUMERICAL_COLS = [col for col in preprocessed_train.columns if col not in CATEGORICAL_COLS+[TARGET]]\n",
    "\n",
    "#model\n",
    "training_pipeline = init_training(CATEGORICAL_COLS, NUMERICAL_COLS)\n",
    "X_train, X_test, y_train, y_test = train_test_split(\n",
    "    preprocessed_train[CATEGORICAL_COLS+NUMERICAL_COLS],\n",
    "    preprocessed_train[TARGET],\n",
    "    test_size=0.33,\n",
    "    random_state=88,\n",
    ")\n",
    "rf_model = training_pipeline.fit(X_train, y_train)"
   ]
  },
  {
   "cell_type": "markdown",
   "id": "aaba7266",
   "metadata": {},
   "source": [
    "## evaluate"
   ]
  },
  {
   "cell_type": "code",
   "execution_count": null,
   "id": "f3b3f329",
   "metadata": {},
   "outputs": [],
   "source": [
    "accuracy = accuracy_score(rf_model.predict(X_test), y_test)\n",
    "accuracy"
   ]
  },
  {
   "cell_type": "markdown",
   "id": "4933b061",
   "metadata": {},
   "source": [
    "## explain"
   ]
  },
  {
   "cell_type": "code",
   "execution_count": null,
   "id": "041057f2",
   "metadata": {},
   "outputs": [],
   "source": [
    "ohe_cols_raw = (\n",
    "    rf_model\n",
    "    .named_steps[\"processor\"]\n",
    "    .named_transformers_[\"category\"]\n",
    "    .named_steps[\"one-hot\"]\n",
    "    .get_feature_names_out()\n",
    ")\n",
    "OHE_COLS = [\n",
    "    col\n",
    "    .replace(\"x0\", \"Sex\")\n",
    "    .replace(\"x1\", \"Embarked\")\n",
    "    .replace(\"x2\", \"Title\")\n",
    "    for col in ohe_cols_raw\n",
    "]"
   ]
  },
  {
   "cell_type": "code",
   "execution_count": null,
   "id": "c01e034d",
   "metadata": {},
   "outputs": [],
   "source": [
    "feature_importance = {key: value for key, value in zip(NUMERICAL_COLS+OHE_COLS, rf_model.named_steps[\"regressor\"].feature_importances_)}\n",
    "feature_importance"
   ]
  },
  {
   "cell_type": "markdown",
   "id": "558d7ae3",
   "metadata": {},
   "source": [
    "## trubrics tests"
   ]
  },
  {
   "cell_type": "code",
   "execution_count": null,
   "id": "5ab9ea2c",
   "metadata": {},
   "outputs": [],
   "source": [
    "from trubrics.utils.loader import get_business_test_data, save_test_to_json\n",
    "from trubrics.mltests.robustness import test_single_edge_case\n",
    "from trubrics.mltests.fairness import test_biased_performance_across_category\n",
    "from trubrics.mltests.explainability import test_feature_in_top_n_important_features\n",
    "from trubrics.mltests.performance import test_performance_against_threshold"
   ]
  },
  {
   "cell_type": "code",
   "execution_count": null,
   "id": "8b329c00",
   "metadata": {},
   "outputs": [],
   "source": [
    "RUNNER = \"notebook\""
   ]
  },
  {
   "cell_type": "code",
   "execution_count": null,
   "id": "20239fd9",
   "metadata": {},
   "outputs": [],
   "source": [
    "# read test data and run single outlier test\n",
    "data, expected_outcome = get_business_test_data(tracking=False)\n",
    "\n",
    "test_single_edge_case(rf_model, data, expected_outcome, runner=RUNNER)"
   ]
  },
  {
   "cell_type": "code",
   "execution_count": null,
   "id": "662eb252",
   "metadata": {},
   "outputs": [],
   "source": [
    "test_biased_performance_across_category(\n",
    "    rf_model,\n",
    "    X_test.assign(Survived=y_test),\n",
    "    category=\"Sex\",\n",
    "    target=TARGET,\n",
    "    runner=RUNNER,\n",
    "    threshold=0.05,\n",
    ")\n",
    "test_biased_performance_across_category(\n",
    "    rf_model,\n",
    "    X_test.assign(Survived=y_test),\n",
    "    category=\"Embarked\",\n",
    "    target=TARGET,\n",
    "    runner=\"notebook\",\n",
    "    threshold=0.1,\n",
    ")"
   ]
  },
  {
   "cell_type": "code",
   "execution_count": null,
   "id": "bd993b3e",
   "metadata": {},
   "outputs": [],
   "source": [
    "test_feature_in_top_n_important_features(\n",
    "    feature=\"Age\",\n",
    "    feature_importance=feature_importance,\n",
    "    top_n_features=2,\n",
    "    runner=RUNNER\n",
    ")\n",
    "test_feature_in_top_n_important_features(\n",
    "    feature=\"Sex_female\",\n",
    "    feature_importance=feature_importance,\n",
    "    runner=RUNNER\n",
    ")"
   ]
  },
  {
   "cell_type": "code",
   "execution_count": null,
   "id": "750ac6d2",
   "metadata": {},
   "outputs": [],
   "source": [
    "test_performance_against_threshold(\n",
    "    model=rf_model,\n",
    "    test_data=X_test.assign(Survived=y_test),\n",
    "    evaluation_function=accuracy_score,\n",
    "    target=TARGET,\n",
    "    runner=RUNNER,\n",
    "    threshold=0.75,\n",
    ")\n",
    "test_performance_against_threshold(\n",
    "    model=rf_model,\n",
    "    test_data=X_test.assign(Survived=y_test),\n",
    "    evaluation_function=accuracy_score,\n",
    "    target=TARGET,\n",
    "    runner=RUNNER,\n",
    "    threshold=0.8,\n",
    ")"
   ]
  },
  {
   "cell_type": "markdown",
   "id": "49387ba7",
   "metadata": {},
   "source": [
    "## save models"
   ]
  },
  {
   "cell_type": "code",
   "execution_count": null,
   "id": "7c8ac093",
   "metadata": {},
   "outputs": [],
   "source": [
    "# save and load models\n",
    "#joblib.dump(rf_model, '../models/rf_model.pkl')\n",
    "#rf_model = joblib.load('../assets/models/rf_model.pkl')"
   ]
  },
  {
   "cell_type": "code",
   "execution_count": null,
   "id": "049f9786",
   "metadata": {},
   "outputs": [],
   "source": []
  }
 ],
 "metadata": {
  "kernelspec": {
   "display_name": "trubrics-venv",
   "language": "python",
   "name": "trubrics-venv"
  },
  "language_info": {
   "codemirror_mode": {
    "name": "ipython",
    "version": 3
   },
   "file_extension": ".py",
   "mimetype": "text/x-python",
   "name": "python",
   "nbconvert_exporter": "python",
   "pygments_lexer": "ipython3",
   "version": "3.7.9"
  }
 },
 "nbformat": 4,
 "nbformat_minor": 5
}
