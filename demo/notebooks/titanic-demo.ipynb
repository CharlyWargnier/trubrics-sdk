{
 "cells": [
  {
   "cell_type": "code",
   "execution_count": null,
   "id": "38b47bf6",
   "metadata": {},
   "outputs": [],
   "source": [
    "import pandas as pd\n",
    "import numpy as np\n",
    "\n",
    "from sklearn.ensemble import RandomForestClassifier\n",
    "from sklearn.preprocessing import OneHotEncoder, MinMaxScaler\n",
    "from sklearn.impute import SimpleImputer\n",
    "from sklearn.pipeline import Pipeline\n",
    "from sklearn.compose import ColumnTransformer\n",
    "from sklearn.model_selection import train_test_split\n",
    "from sklearn.metrics import accuracy_score\n",
    "import joblib"
   ]
  },
  {
   "cell_type": "code",
   "execution_count": null,
   "id": "4541671c",
   "metadata": {},
   "outputs": [],
   "source": [
    "train_df = pd.read_csv(\"../data/train.csv\")"
   ]
  },
  {
   "cell_type": "markdown",
   "id": "a176bd43",
   "metadata": {},
   "source": [
    "## preprocess"
   ]
  },
  {
   "cell_type": "code",
   "execution_count": null,
   "id": "b49f9f5b",
   "metadata": {},
   "outputs": [],
   "source": [
    "def _strip_title(row):\n",
    "    return row.split(\",\")[1].split(\".\")[0].replace(\" \", \"\")\n",
    "\n",
    "def preprocess(df):\n",
    "    return (\n",
    "        df\n",
    "        .assign(Title=lambda x: x[\"Name\"].apply(_strip_title))\n",
    "        .assign(Fare=lambda x: x[\"Fare\"].round(2))\n",
    "        .drop([\"Ticket\", \"Cabin\", \"Name\", \"PassengerId\"], axis=1)\n",
    "    )\n",
    "\n",
    "\n",
    "preprocessed_train = train_df.pipe(preprocess)\n",
    "preprocessed_train.to_csv(\"../data/preprocessed_train.csv\", index=False)"
   ]
  },
  {
   "cell_type": "markdown",
   "id": "76cf76dc",
   "metadata": {},
   "source": [
    "## train"
   ]
  },
  {
   "cell_type": "code",
   "execution_count": null,
   "id": "f5e7f3be",
   "metadata": {},
   "outputs": [],
   "source": [
    "def init_training(categorical_features, numerical_features):\n",
    "    numeric_pipeline = Pipeline(steps=[\n",
    "        ('impute', SimpleImputer(strategy='mean')),\n",
    "        ('scale', MinMaxScaler())\n",
    "    ])\n",
    "\n",
    "    categorical_pipeline = Pipeline(steps=[\n",
    "        ('impute', SimpleImputer(strategy='most_frequent')),\n",
    "        ('one-hot', OneHotEncoder(handle_unknown='ignore', sparse=False))\n",
    "    ])\n",
    "\n",
    "    processor = ColumnTransformer(transformers=[\n",
    "        ('number', numeric_pipeline, numerical_features),\n",
    "        ('category', categorical_pipeline, categorical_features)\n",
    "    ])\n",
    "\n",
    "    pipeline = Pipeline(steps=[\n",
    "        ('processor', processor),\n",
    "        ('regressor', RandomForestClassifier(random_state=88))\n",
    "    ])\n",
    "    return pipeline\n",
    "\n",
    "\n",
    "#config\n",
    "TARGET = \"Survived\"\n",
    "CATEGORICAL_COLS = [\"Sex\", \"Embarked\", \"Title\"]\n",
    "NUMERICAL_COLS = [col for col in preprocessed_train.columns if col not in CATEGORICAL_COLS + [TARGET]]\n",
    "\n",
    "#model\n",
    "training_pipeline = init_training(CATEGORICAL_COLS, NUMERICAL_COLS)\n",
    "X_train, X_test, y_train, y_test = train_test_split(\n",
    "    preprocessed_train[CATEGORICAL_COLS+NUMERICAL_COLS],\n",
    "    preprocessed_train[TARGET],\n",
    "    test_size=0.33,\n",
    "    random_state=88,\n",
    ")\n",
    "rf_model = training_pipeline.fit(X_train, y_train)\n",
    "\n",
    "#save\n",
    "joblib.dump(rf_model, '../models/rf_model.pkl')"
   ]
  },
  {
   "cell_type": "markdown",
   "id": "aaba7266",
   "metadata": {},
   "source": [
    "## evaluate"
   ]
  },
  {
   "cell_type": "code",
   "execution_count": null,
   "id": "f3b3f329",
   "metadata": {},
   "outputs": [],
   "source": [
    "accuracy = accuracy_score(rf_model.predict(X_test), y_test)\n",
    "accuracy"
   ]
  },
  {
   "cell_type": "markdown",
   "id": "4933b061",
   "metadata": {},
   "source": [
    "## explain"
   ]
  },
  {
   "cell_type": "code",
   "execution_count": null,
   "id": "041057f2",
   "metadata": {},
   "outputs": [],
   "source": [
    "ohe_cols_raw = (\n",
    "    rf_model\n",
    "    .named_steps[\"processor\"]\n",
    "    .named_transformers_[\"category\"]\n",
    "    .named_steps[\"one-hot\"]\n",
    "    .get_feature_names_out()\n",
    ")\n",
    "OHE_COLS = [\n",
    "    col\n",
    "    .replace(\"x0\", \"Sex\")\n",
    "    .replace(\"x1\", \"Embarked\")\n",
    "    .replace(\"x2\", \"Title\")\n",
    "    for col in ohe_cols_raw\n",
    "]"
   ]
  },
  {
   "cell_type": "code",
   "execution_count": null,
   "id": "c01e034d",
   "metadata": {},
   "outputs": [],
   "source": [
    "feature_importance = {key: value for key, value in zip(NUMERICAL_COLS+OHE_COLS, rf_model.named_steps[\"regressor\"].feature_importances_)}\n",
    "feature_importance"
   ]
  },
  {
   "cell_type": "markdown",
   "id": "558d7ae3",
   "metadata": {},
   "source": [
    "## Init trubrics model"
   ]
  },
  {
   "cell_type": "code",
   "execution_count": null,
   "id": "a003e2c4-74bc-48f4-b766-2d1ccd8b5056",
   "metadata": {},
   "outputs": [],
   "source": [
    "from trubrics.context import DataContext, ModelContext"
   ]
  },
  {
   "cell_type": "code",
   "execution_count": null,
   "id": "164b70d3-6aff-4fa2-ba51-524ef4f25699",
   "metadata": {},
   "outputs": [],
   "source": [
    "data_context = DataContext(\n",
    "    name=\"my_datasource\",\n",
    "    training_data=X_train.assign(Survived=y_train),\n",
    "    testing_data=X_test.assign(Survived=y_test),\n",
    "    target_column=\"Survived\"\n",
    ")\n",
    "model_context = ModelContext(\n",
    "    name=\"my_model\",\n",
    "    version=\"0.1\",\n",
    "    estimator=rf_model,\n",
    "    evaluation_function=accuracy_score\n",
    ")"
   ]
  },
  {
   "cell_type": "code",
   "execution_count": null,
   "id": "5e99bba3-065b-47bb-8858-7df580b9e032",
   "metadata": {},
   "outputs": [],
   "source": [
    "from trubrics.testers.sklearn import SklearnTester"
   ]
  },
  {
   "cell_type": "code",
   "execution_count": null,
   "id": "b991339f-3318-4741-b0a1-8ab05533e818",
   "metadata": {},
   "outputs": [],
   "source": [
    "model_tester = SklearnTester(data=data_context, model=model_context)"
   ]
  },
  {
   "cell_type": "code",
   "execution_count": null,
   "id": "68ccbeda-d9fa-48e3-a41d-6566682eb810",
   "metadata": {},
   "outputs": [],
   "source": [
    "model_tester.list_model_features()"
   ]
  },
  {
   "cell_type": "markdown",
   "id": "c586484c-a49c-4e25-bb09-8df9008a8d95",
   "metadata": {
    "tags": []
   },
   "source": [
    "## DS example tests"
   ]
  },
  {
   "cell_type": "code",
   "execution_count": null,
   "id": "fe0aa688-2622-49c3-8ee7-827b66362fac",
   "metadata": {},
   "outputs": [],
   "source": [
    "# robustness test\n",
    "(\n",
    "    model_tester.test_single_edge_case(edge_case_data=data_context.testing_data.tail(1), desired_output=1), # example of fail\n",
    "    model_tester.test_single_edge_case(edge_case_data=data_context.testing_data.head(1), desired_output=1) # example of pass\n",
    ")"
   ]
  },
  {
   "cell_type": "code",
   "execution_count": null,
   "id": "90323425-1677-432e-a3c2-950565282e24",
   "metadata": {},
   "outputs": [],
   "source": [
    "# performance test\n",
    "(\n",
    "    model_tester.test_performance_against_threshold(threshold=0.8),\n",
    "    model_tester.test_performance_against_threshold(threshold=0.75)\n",
    ")"
   ]
  },
  {
   "cell_type": "code",
   "execution_count": null,
   "id": "6641f5c1-8978-4866-83a0-ac40c69f75d1",
   "metadata": {},
   "outputs": [],
   "source": [
    "# fairness test\n",
    "(\n",
    "    model_tester.test_biased_performance_across_category(category=\"Embarked\", threshold=0.1),\n",
    "    model_tester.test_biased_performance_across_category(category=\"Sex\", threshold=0.05)\n",
    ")"
   ]
  },
  {
   "cell_type": "code",
   "execution_count": null,
   "id": "ed68144d-70ef-438c-ba47-8141dbb7a731",
   "metadata": {},
   "outputs": [],
   "source": [
    "# explainability test\n",
    "(\n",
    "    model_tester.test_feature_in_top_n_important_features(feature=\"Sex_female\", feature_importance=feature_importance, top_n_features=3),\n",
    "    model_tester.test_feature_in_top_n_important_features(feature=\"Age\", feature_importance=feature_importance, top_n_features=2)\n",
    ")"
   ]
  },
  {
   "cell_type": "markdown",
   "id": "82f4d137-430b-400d-b77c-6dff3f4ef190",
   "metadata": {},
   "source": [
    "## Business user example tests"
   ]
  },
  {
   "cell_type": "code",
   "execution_count": null,
   "id": "20239fd9",
   "metadata": {},
   "outputs": [],
   "source": [
    "from trubrics.utils.loader import get_business_test_data\n",
    "# read test data and run single outlier test\n",
    "data, expected_outcome = get_business_test_data(tracking=False)"
   ]
  },
  {
   "cell_type": "code",
   "execution_count": null,
   "id": "870e0bb3-b995-483b-ba5e-975271486ad4",
   "metadata": {},
   "outputs": [],
   "source": [
    "model_tester.test_single_edge_case(edge_case_data=data, desired_output=expected_outcome)"
   ]
  }
 ],
 "metadata": {
  "kernelspec": {
   "display_name": "trubrics-venv",
   "language": "python",
   "name": "trubrics-venv"
  },
  "language_info": {
   "codemirror_mode": {
    "name": "ipython",
    "version": 3
   },
   "file_extension": ".py",
   "mimetype": "text/x-python",
   "name": "python",
   "nbconvert_exporter": "python",
   "pygments_lexer": "ipython3",
   "version": "3.7.9"
  }
 },
 "nbformat": 4,
 "nbformat_minor": 5
}
