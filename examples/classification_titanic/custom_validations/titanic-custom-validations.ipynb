{
 "cells": [
  {
   "cell_type": "code",
   "execution_count": null,
   "id": "8f7f4b84-923d-4be3-8715-73a2d50eabc2",
   "metadata": {},
   "outputs": [],
   "source": [
    "#! pip install trubrics"
   ]
  },
  {
   "cell_type": "markdown",
   "id": "b1f5da53-431b-4b76-8beb-be24bbfcef6b",
   "metadata": {
    "tags": []
   },
   "source": [
    "## Load titanic data"
   ]
  },
  {
   "cell_type": "code",
   "execution_count": null,
   "id": "7730264d-82e8-4676-9ec1-b20d9e33b3b9",
   "metadata": {},
   "outputs": [],
   "source": [
    "from trubrics.example import get_titanic_data_and_model\n",
    "train_df, test_df, model = get_titanic_data_and_model()"
   ]
  },
  {
   "cell_type": "markdown",
   "id": "a8d2b6fa-2653-4bf4-8a26-bb8e28f96152",
   "metadata": {
    "tags": []
   },
   "source": [
    "## Init DataContext"
   ]
  },
  {
   "cell_type": "code",
   "execution_count": null,
   "id": "1ac49b41-71d3-4abc-9358-e1690ce04f37",
   "metadata": {},
   "outputs": [],
   "source": [
    "from trubrics.context import DataContext"
   ]
  },
  {
   "cell_type": "code",
   "execution_count": null,
   "id": "c491f35a-519f-4171-b233-28b0f5378a23",
   "metadata": {},
   "outputs": [],
   "source": [
    "data_context = DataContext(\n",
    "    name=\"my_first_dataset\",\n",
    "    version=0.1,\n",
    "    training_data=train_df,\n",
    "    testing_data=test_df,\n",
    "    target=\"Survived\"\n",
    ")"
   ]
  },
  {
   "cell_type": "markdown",
   "id": "7fc1a5d1-d0cd-44c2-a97c-d3e0dad8660b",
   "metadata": {},
   "source": [
    "## Custom model / algorithm"
   ]
  },
  {
   "cell_type": "code",
   "execution_count": null,
   "id": "38215c93-5a22-4099-8969-dc9e27ce8899",
   "metadata": {},
   "outputs": [],
   "source": [
    "class ExampleCustomModel:\n",
    "    \"\"\"\n",
    "    This is a custom model that scores passengers based on probability of survival.\n",
    "    \"\"\"\n",
    "    def __init__(self, model):\n",
    "        self.model = model\n",
    "        self._estimator_type = \"regressor\"\n",
    "\n",
    "    def predict(self, df):\n",
    "        return self.model.predict(df)\n",
    "    \n",
    "    def fit(self, X_train, y_train):\n",
    "        return self.model.fit(X_train, y_train)\n",
    "    \n",
    "    def get_params(self, deep):\n",
    "        return {\"model\": self.model}"
   ]
  },
  {
   "cell_type": "code",
   "execution_count": null,
   "id": "51d31042-405f-4a82-bb63-4475bf119b93",
   "metadata": {},
   "outputs": [],
   "source": [
    "# example first 5 scores\n",
    "ExampleCustomModel(model=model).predict(data_context.X_test)[:5]"
   ]
  },
  {
   "cell_type": "code",
   "execution_count": null,
   "id": "3beddb17-4eac-49a5-8bb5-6e96455f0ab5",
   "metadata": {},
   "outputs": [],
   "source": [
    "custom_model = ExampleCustomModel(model=model)"
   ]
  },
  {
   "cell_type": "markdown",
   "id": "58c80010-227c-4001-8e5f-cdd340feae7a",
   "metadata": {},
   "source": [
    "## Build custom validations"
   ]
  },
  {
   "cell_type": "markdown",
   "id": "c68d92bd-145e-4092-8ef1-5d2e3b8ebcbd",
   "metadata": {},
   "source": [
    "Lets build the following custom validations:\n",
    "\n",
    "**Data validations**\n",
    "- validate that passengers with the title \"master\" are younger than a certain age\n",
    "\n",
    "**Training validations**\n",
    "- validate that CV scores are within a certain std\n",
    "\n",
    "**Model validations**\n",
    "- validate that the model scores are on average higher for females than for males"
   ]
  },
  {
   "cell_type": "code",
   "execution_count": null,
   "id": "c16a3c85-1503-455e-9459-c31d1410ec61",
   "metadata": {},
   "outputs": [],
   "source": [
    "from examples.classification_titanic.training_validations.custom_validator import CustomValidator"
   ]
  },
  {
   "cell_type": "code",
   "execution_count": null,
   "id": "070a446c-f843-4553-a04a-d3eba5994745",
   "metadata": {},
   "outputs": [],
   "source": [
    "validator = CustomValidator(data=data_context, model=custom_model)"
   ]
  },
  {
   "cell_type": "code",
   "execution_count": null,
   "id": "2fa3b046-ffdc-4a9b-8ab4-1548d6cf0634",
   "metadata": {},
   "outputs": [],
   "source": [
    "validations = [\n",
    "    validator.validate_master_age(age_limit_master=13),\n",
    "    validator.validate_model_scores_females_higher(severity=\"experiment\"),\n",
    "    validator.validate_cv_scores(cv=5, threshold_std=0.05, metric=\"precision\"),\n",
    "    validator.validate_cv_scores(cv=5, threshold_std=0.05, metric=\"recall\"),\n",
    "]"
   ]
  },
  {
   "cell_type": "markdown",
   "id": "d247683f-799e-4e4d-812a-14c8699809cb",
   "metadata": {},
   "source": [
    "## Save validations as a trubric"
   ]
  },
  {
   "cell_type": "code",
   "execution_count": null,
   "id": "124bdeea-c7bc-4833-b89c-c184f056045c",
   "metadata": {},
   "outputs": [],
   "source": [
    "from trubrics.validations import Trubric\n",
    "\n",
    "trubric = Trubric(\n",
    "    trubric_name=\"my_first_trubric\",\n",
    "    model_name=\"my_model\",\n",
    "    model_version=0.1,\n",
    "    data_context_name=data_context.name,\n",
    "    data_context_version=data_context.version,\n",
    "    metadata={\"tag\": \"master\"}, # tag any metadata here\n",
    "    validations=validations,\n",
    ")"
   ]
  },
  {
   "cell_type": "code",
   "execution_count": null,
   "id": "0bcda747-2567-4a0d-a486-15c36914655c",
   "metadata": {},
   "outputs": [],
   "source": [
    "# save trubric to a local .json\n",
    "trubric.save_local(path=\".\")"
   ]
  },
  {
   "cell_type": "markdown",
   "id": "a31e3a15-da05-4c2d-ba74-0ef27bd1f461",
   "metadata": {},
   "source": [
    "## Run trubric from CICDCT"
   ]
  },
  {
   "cell_type": "markdown",
   "id": "ea12a31f-7b70-4eb7-b471-4340c9bda34b",
   "metadata": {},
   "source": [
    "The last step is to run the validations from the trubric .json against new data / models everytime there is any potential change. See our [CLI docs](https://trubrics.github.io/trubrics-sdk/trubrics_cli/) for info."
   ]
  }
 ],
 "metadata": {
  "kernelspec": {
   "display_name": "trubrics-venv",
   "language": "python",
   "name": "trubrics-venv"
  },
  "language_info": {
   "codemirror_mode": {
    "name": "ipython",
    "version": 3
   },
   "file_extension": ".py",
   "mimetype": "text/x-python",
   "name": "python",
   "nbconvert_exporter": "python",
   "pygments_lexer": "ipython3",
   "version": "3.7.9"
  }
 },
 "nbformat": 4,
 "nbformat_minor": 5
}
