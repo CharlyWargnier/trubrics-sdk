{
 "cells": [
  {
   "cell_type": "code",
   "execution_count": null,
   "id": "de561029-fea3-4f79-8c94-6b03f8e3a632",
   "metadata": {},
   "outputs": [],
   "source": [
    "! pip install trubrics"
   ]
  },
  {
   "cell_type": "markdown",
   "id": "249214ce-4183-480d-8bef-de29f8a0fd9a",
   "metadata": {},
   "source": [
    "## Load data & model"
   ]
  },
  {
   "cell_type": "code",
   "execution_count": null,
   "id": "4541671c",
   "metadata": {},
   "outputs": [],
   "source": [
    "from trubrics.example import get_titanic_data_and_model\n",
    "train_df, test_df, model = get_titanic_data_and_model()"
   ]
  },
  {
   "cell_type": "markdown",
   "id": "558d7ae3",
   "metadata": {
    "tags": []
   },
   "source": [
    "## Init DataContext"
   ]
  },
  {
   "cell_type": "code",
   "execution_count": null,
   "id": "a003e2c4-74bc-48f4-b766-2d1ccd8b5056",
   "metadata": {},
   "outputs": [],
   "source": [
    "from trubrics.context import DataContext"
   ]
  },
  {
   "cell_type": "code",
   "execution_count": null,
   "id": "164b70d3-6aff-4fa2-ba51-524ef4f25699",
   "metadata": {},
   "outputs": [],
   "source": [
    "data_context = DataContext(\n",
    "    name=\"my_first_dataset\",\n",
    "    version=\"0.0.1\",\n",
    "    target=\"Survived\",\n",
    "    training_data=train_df,\n",
    "    testing_data=test_df,\n",
    ")"
   ]
  },
  {
   "cell_type": "markdown",
   "id": "021b8997-3020-40f8-84f3-0a32bf18477b",
   "metadata": {},
   "source": [
    "## Init ModelValidator"
   ]
  },
  {
   "cell_type": "code",
   "execution_count": null,
   "id": "5e99bba3-065b-47bb-8858-7df580b9e032",
   "metadata": {},
   "outputs": [],
   "source": [
    "from trubrics.validations import ModelValidator\n",
    "model_validator = ModelValidator(data=data_context, model=model)"
   ]
  },
  {
   "cell_type": "markdown",
   "id": "c586484c-a49c-4e25-bb09-8df9008a8d95",
   "metadata": {
    "tags": []
   },
   "source": [
    "## Build validations"
   ]
  },
  {
   "cell_type": "code",
   "execution_count": null,
   "id": "9830abac-9bbc-43c8-8522-59cff2d0605c",
   "metadata": {},
   "outputs": [],
   "source": [
    "import rich # pretty print"
   ]
  },
  {
   "cell_type": "code",
   "execution_count": null,
   "id": "90323425-1677-432e-a3c2-950565282e24",
   "metadata": {
    "tags": []
   },
   "outputs": [],
   "source": [
    "performance_validations = [\n",
    "    model_validator.validate_performance_against_threshold(metric=\"recall\", threshold=0.8, severity=\"experiment\"),\n",
    "    model_validator.validate_test_performance_against_dummy(metric=\"accuracy\", strategy=\"constant\", dummy_kwargs={\"constant\": 0}),\n",
    "]\n",
    "for performance_val in performance_validations:\n",
    "    rich.print(performance_val)"
   ]
  },
  {
   "cell_type": "markdown",
   "id": "164771de-4f83-40ec-89a0-5457f1d6658f",
   "metadata": {},
   "source": [
    "Check out the docs for many more [out-of-the-box validations](https://trubrics.github.io/trubrics-sdk/validations/) and [custom validations](https://trubrics.github.io/trubrics-sdk/custom_validations/)."
   ]
  },
  {
   "cell_type": "markdown",
   "id": "6c45ce41-d3f0-4e98-b638-7fb0ff817971",
   "metadata": {},
   "source": [
    "## Group validations in a trubric"
   ]
  },
  {
   "cell_type": "code",
   "execution_count": null,
   "id": "124bdeea-c7bc-4833-b89c-c184f056045c",
   "metadata": {},
   "outputs": [],
   "source": [
    "from trubrics.validations import Trubric\n",
    "\n",
    "trubric = Trubric(\n",
    "    name=\"classification_trubric\",\n",
    "    model_name=\"my_model\",\n",
    "    model_version=\"0.0.1\",\n",
    "    data_context_name=data_context.name,\n",
    "    data_context_version=data_context.version,\n",
    "    tags=[\"nb-demo\"],\n",
    "    validations=performance_validations,\n",
    ")"
   ]
  },
  {
   "cell_type": "markdown",
   "id": "989be88e-4f12-4c9e-a291-33ce85c7c75c",
   "metadata": {},
   "source": [
    "## Save Locally"
   ]
  },
  {
   "cell_type": "code",
   "execution_count": null,
   "id": "792e0cd3-8c54-459c-b7db-3f0134f6faf8",
   "metadata": {},
   "outputs": [],
   "source": [
    "# save trubric to a local .json\n",
    "trubric.save_local(path=\"my_first_trubric.json\")"
   ]
  },
  {
   "cell_type": "markdown",
   "id": "a026a771-d21a-4c2d-95c0-35db8e2685bf",
   "metadata": {},
   "source": [
    "## Save trubric to the Trubrics platform"
   ]
  },
  {
   "cell_type": "markdown",
   "id": "205ba80e-65bf-4852-887f-fc2b68ab39ac",
   "metadata": {},
   "source": [
    "First, we run `trubrics init` to connect to the platform:"
   ]
  },
  {
   "cell_type": "code",
   "execution_count": null,
   "id": "74003a73-34c0-4710-9e5d-4cbb460b53a3",
   "metadata": {},
   "outputs": [],
   "source": [
    "import os\n",
    "import getpass\n",
    "os.environ[\"TRUBRICS_CONFIG_EMAIL\"] = input(\"Enter your Trubrics account email:\")\n",
    "os.environ[\"TRUBRICS_CONFIG_PASSWORD\"] = getpass.getpass(\"Enter your password:\")\n",
    "os.environ[\"TRUBRICS_PROJECT_NAME\"] = input(\"Enter your Trubrics project name:\")"
   ]
  },
  {
   "cell_type": "code",
   "execution_count": null,
   "id": "db3e51d2-bb3b-4071-aed6-7c11f77d7b77",
   "metadata": {},
   "outputs": [],
   "source": [
    "! trubrics init --trubrics-user --project-name \"$TRUBRICS_PROJECT_NAME\""
   ]
  },
  {
   "cell_type": "markdown",
   "id": "3611a2b2-fa78-4175-8c6b-6ed8f51091e5",
   "metadata": {},
   "source": [
    "Now we can save our `trubric` (or `new_trubric`) with the save_ui() method directly from our notebook, or a python script:"
   ]
  },
  {
   "cell_type": "code",
   "execution_count": null,
   "id": "bf29db54-3c01-4bf2-9fea-6ecd3e983023",
   "metadata": {},
   "outputs": [],
   "source": [
    "try:\n",
    "    trubric.save_ui()\n",
    "except Exception as e:\n",
    "    print(f\"Error in saving to the Trubrics platform:\\n{e}\")"
   ]
  },
  {
   "cell_type": "markdown",
   "id": "726205c0-36a8-438d-86fb-a8e31f444275",
   "metadata": {},
   "source": [
    "or we can save it within an automated pipeline with the CLI:"
   ]
  },
  {
   "cell_type": "code",
   "execution_count": null,
   "id": "da42a01d-5c4f-4ded-8000-660572bcb99b",
   "metadata": {},
   "outputs": [],
   "source": [
    "! trubrics run \\\n",
    "  --save-ui \\\n",
    "  --run-context-path titanic-example-trubric \\\n",
    "  --trubric-output-file-path \"cli_demo_trubric.json\""
   ]
  },
  {
   "cell_type": "markdown",
   "id": "31d2ca3f-f826-4d86-8369-b96e63879cf4",
   "metadata": {},
   "source": [
    "Note: this demo of our CLI will run our example trubric, not the trubric that we have saved in this tutorial."
   ]
  }
 ],
 "metadata": {
  "kernelspec": {
   "display_name": "venv37",
   "language": "python",
   "name": "venv37"
  },
  "language_info": {
   "codemirror_mode": {
    "name": "ipython",
    "version": 3
   },
   "file_extension": ".py",
   "mimetype": "text/x-python",
   "name": "python",
   "nbconvert_exporter": "python",
   "pygments_lexer": "ipython3",
   "version": "3.7.9"
  }
 },
 "nbformat": 4,
 "nbformat_minor": 5
}
