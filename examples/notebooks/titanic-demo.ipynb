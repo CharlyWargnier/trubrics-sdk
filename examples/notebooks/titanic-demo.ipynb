{
 "cells": [
  {
   "cell_type": "code",
   "execution_count": 1,
   "id": "21a30678-583c-4d85-9cf4-a691a84aaa77",
   "metadata": {
    "tags": []
   },
   "outputs": [],
   "source": [
    "import sys\n",
    "relative_root = \"../..\"\n",
    "sys.path.append(relative_root)"
   ]
  },
  {
   "cell_type": "code",
   "execution_count": 2,
   "id": "38b47bf6",
   "metadata": {},
   "outputs": [],
   "source": [
    "import joblib\n",
    "import rich\n",
    "import pandas as pd\n",
    "from sklearn.metrics import accuracy_score\n",
    "import json\n",
    "from examples.training import titanic_config\n",
    "from pathlib import Path"
   ]
  },
  {
   "cell_type": "markdown",
   "id": "249214ce-4183-480d-8bef-de29f8a0fd9a",
   "metadata": {},
   "source": [
    "## Load data & model"
   ]
  },
  {
   "cell_type": "code",
   "execution_count": 3,
   "id": "4541671c",
   "metadata": {},
   "outputs": [],
   "source": [
    "try:\n",
    "    preprocessed_train = pd.read_csv(Path(relative_root) / titanic_config.LOCAL_TRAIN_FILENAME)\n",
    "    preprocessed_test = pd.read_csv(Path(relative_root) / titanic_config.LOCAL_TEST_FILENAME)\n",
    "    rf_model = joblib.load(Path(relative_root) / titanic_config.LOCAL_MODEL_FILENAME)\n",
    "    with open(Path(relative_root) / titanic_config.LOCAL_FI_FILENAME, \"r\") as file:\n",
    "        feature_importance = json.loads(file.read())\n",
    "except FileNotFoundError:\n",
    "    raise FileNotFoundError(\"To generate these files, run `make train-titanic`\")"
   ]
  },
  {
   "cell_type": "code",
   "execution_count": 4,
   "id": "c9e26e96-2e3a-44fe-8894-69e20b244c49",
   "metadata": {},
   "outputs": [
    {
     "data": {
      "text/plain": [
       "1"
      ]
     },
     "execution_count": 4,
     "metadata": {},
     "output_type": "execute_result"
    }
   ],
   "source": [
    "rf_model.predict(preprocessed_test)[0]  # test model inference"
   ]
  },
  {
   "cell_type": "markdown",
   "id": "558d7ae3",
   "metadata": {
    "tags": []
   },
   "source": [
    "## Init trubrics context"
   ]
  },
  {
   "cell_type": "code",
   "execution_count": 5,
   "id": "a003e2c4-74bc-48f4-b766-2d1ccd8b5056",
   "metadata": {},
   "outputs": [],
   "source": [
    "from trubrics.context import DataContext"
   ]
  },
  {
   "cell_type": "code",
   "execution_count": 6,
   "id": "164b70d3-6aff-4fa2-ba51-524ef4f25699",
   "metadata": {},
   "outputs": [],
   "source": [
    "data_context = DataContext(\n",
    "    name=\"my_first_dataset\",\n",
    "    version=0.1,\n",
    "    training_data=preprocessed_train,\n",
    "    testing_data=preprocessed_test,\n",
    "    target_column=titanic_config.TARGET\n",
    ")"
   ]
  },
  {
   "cell_type": "markdown",
   "id": "021b8997-3020-40f8-84f3-0a32bf18477b",
   "metadata": {},
   "source": [
    "## Init trubrics validator"
   ]
  },
  {
   "cell_type": "code",
   "execution_count": 7,
   "id": "5e99bba3-065b-47bb-8858-7df580b9e032",
   "metadata": {},
   "outputs": [],
   "source": [
    "from trubrics.validations.base import Validator"
   ]
  },
  {
   "cell_type": "code",
   "execution_count": 8,
   "id": "233de65a-b70f-4c85-9258-fb7f78ff6730",
   "metadata": {},
   "outputs": [
    {
     "data": {
      "text/html": [
       "<pre style=\"white-space:pre;overflow-x:auto;line-height:normal;font-family:Menlo,'DejaVu Sans Mono',consolas,'Courier New',monospace\">Choose error metric from sklearn defaults: \n",
       "<span style=\"font-weight: bold\">[</span>\n",
       "    <span style=\"color: #008000; text-decoration-color: #008000\">'explained_variance'</span>,\n",
       "    <span style=\"color: #008000; text-decoration-color: #008000\">'r2'</span>,\n",
       "    <span style=\"color: #008000; text-decoration-color: #008000\">'max_error'</span>,\n",
       "    <span style=\"color: #008000; text-decoration-color: #008000\">'neg_median_absolute_error'</span>,\n",
       "    <span style=\"color: #008000; text-decoration-color: #008000\">'neg_mean_absolute_error'</span>,\n",
       "    <span style=\"color: #008000; text-decoration-color: #008000\">'neg_mean_absolute_percentage_error'</span>,\n",
       "    <span style=\"color: #008000; text-decoration-color: #008000\">'neg_mean_squared_error'</span>,\n",
       "    <span style=\"color: #008000; text-decoration-color: #008000\">'neg_mean_squared_log_error'</span>,\n",
       "    <span style=\"color: #008000; text-decoration-color: #008000\">'neg_root_mean_squared_error'</span>,\n",
       "    <span style=\"color: #008000; text-decoration-color: #008000\">'neg_mean_poisson_deviance'</span>,\n",
       "    <span style=\"color: #008000; text-decoration-color: #008000\">'neg_mean_gamma_deviance'</span>,\n",
       "    <span style=\"color: #008000; text-decoration-color: #008000\">'accuracy'</span>,\n",
       "    <span style=\"color: #008000; text-decoration-color: #008000\">'top_k_accuracy'</span>,\n",
       "    <span style=\"color: #008000; text-decoration-color: #008000\">'roc_auc'</span>,\n",
       "    <span style=\"color: #008000; text-decoration-color: #008000\">'roc_auc_ovr'</span>,\n",
       "    <span style=\"color: #008000; text-decoration-color: #008000\">'roc_auc_ovo'</span>,\n",
       "    <span style=\"color: #008000; text-decoration-color: #008000\">'roc_auc_ovr_weighted'</span>,\n",
       "    <span style=\"color: #008000; text-decoration-color: #008000\">'roc_auc_ovo_weighted'</span>,\n",
       "    <span style=\"color: #008000; text-decoration-color: #008000\">'balanced_accuracy'</span>,\n",
       "    <span style=\"color: #008000; text-decoration-color: #008000\">'average_precision'</span>,\n",
       "    <span style=\"color: #008000; text-decoration-color: #008000\">'neg_log_loss'</span>,\n",
       "    <span style=\"color: #008000; text-decoration-color: #008000\">'neg_brier_score'</span>,\n",
       "    <span style=\"color: #008000; text-decoration-color: #008000\">'adjusted_rand_score'</span>,\n",
       "    <span style=\"color: #008000; text-decoration-color: #008000\">'rand_score'</span>,\n",
       "    <span style=\"color: #008000; text-decoration-color: #008000\">'homogeneity_score'</span>,\n",
       "    <span style=\"color: #008000; text-decoration-color: #008000\">'completeness_score'</span>,\n",
       "    <span style=\"color: #008000; text-decoration-color: #008000\">'v_measure_score'</span>,\n",
       "    <span style=\"color: #008000; text-decoration-color: #008000\">'mutual_info_score'</span>,\n",
       "    <span style=\"color: #008000; text-decoration-color: #008000\">'adjusted_mutual_info_score'</span>,\n",
       "    <span style=\"color: #008000; text-decoration-color: #008000\">'normalized_mutual_info_score'</span>,\n",
       "    <span style=\"color: #008000; text-decoration-color: #008000\">'fowlkes_mallows_score'</span>,\n",
       "    <span style=\"color: #008000; text-decoration-color: #008000\">'precision'</span>,\n",
       "    <span style=\"color: #008000; text-decoration-color: #008000\">'precision_macro'</span>,\n",
       "    <span style=\"color: #008000; text-decoration-color: #008000\">'precision_micro'</span>,\n",
       "    <span style=\"color: #008000; text-decoration-color: #008000\">'precision_samples'</span>,\n",
       "    <span style=\"color: #008000; text-decoration-color: #008000\">'precision_weighted'</span>,\n",
       "    <span style=\"color: #008000; text-decoration-color: #008000\">'recall'</span>,\n",
       "    <span style=\"color: #008000; text-decoration-color: #008000\">'recall_macro'</span>,\n",
       "    <span style=\"color: #008000; text-decoration-color: #008000\">'recall_micro'</span>,\n",
       "    <span style=\"color: #008000; text-decoration-color: #008000\">'recall_samples'</span>,\n",
       "    <span style=\"color: #008000; text-decoration-color: #008000\">'recall_weighted'</span>,\n",
       "    <span style=\"color: #008000; text-decoration-color: #008000\">'f1'</span>,\n",
       "    <span style=\"color: #008000; text-decoration-color: #008000\">'f1_macro'</span>,\n",
       "    <span style=\"color: #008000; text-decoration-color: #008000\">'f1_micro'</span>,\n",
       "    <span style=\"color: #008000; text-decoration-color: #008000\">'f1_samples'</span>,\n",
       "    <span style=\"color: #008000; text-decoration-color: #008000\">'f1_weighted'</span>,\n",
       "    <span style=\"color: #008000; text-decoration-color: #008000\">'jaccard'</span>,\n",
       "    <span style=\"color: #008000; text-decoration-color: #008000\">'jaccard_macro'</span>,\n",
       "    <span style=\"color: #008000; text-decoration-color: #008000\">'jaccard_micro'</span>,\n",
       "    <span style=\"color: #008000; text-decoration-color: #008000\">'jaccard_samples'</span>,\n",
       "    <span style=\"color: #008000; text-decoration-color: #008000\">'jaccard_weighted'</span>\n",
       "<span style=\"font-weight: bold\">]</span>\n",
       "</pre>\n"
      ],
      "text/plain": [
       "Choose error metric from sklearn defaults: \n",
       "\u001b[1m[\u001b[0m\n",
       "    \u001b[32m'explained_variance'\u001b[0m,\n",
       "    \u001b[32m'r2'\u001b[0m,\n",
       "    \u001b[32m'max_error'\u001b[0m,\n",
       "    \u001b[32m'neg_median_absolute_error'\u001b[0m,\n",
       "    \u001b[32m'neg_mean_absolute_error'\u001b[0m,\n",
       "    \u001b[32m'neg_mean_absolute_percentage_error'\u001b[0m,\n",
       "    \u001b[32m'neg_mean_squared_error'\u001b[0m,\n",
       "    \u001b[32m'neg_mean_squared_log_error'\u001b[0m,\n",
       "    \u001b[32m'neg_root_mean_squared_error'\u001b[0m,\n",
       "    \u001b[32m'neg_mean_poisson_deviance'\u001b[0m,\n",
       "    \u001b[32m'neg_mean_gamma_deviance'\u001b[0m,\n",
       "    \u001b[32m'accuracy'\u001b[0m,\n",
       "    \u001b[32m'top_k_accuracy'\u001b[0m,\n",
       "    \u001b[32m'roc_auc'\u001b[0m,\n",
       "    \u001b[32m'roc_auc_ovr'\u001b[0m,\n",
       "    \u001b[32m'roc_auc_ovo'\u001b[0m,\n",
       "    \u001b[32m'roc_auc_ovr_weighted'\u001b[0m,\n",
       "    \u001b[32m'roc_auc_ovo_weighted'\u001b[0m,\n",
       "    \u001b[32m'balanced_accuracy'\u001b[0m,\n",
       "    \u001b[32m'average_precision'\u001b[0m,\n",
       "    \u001b[32m'neg_log_loss'\u001b[0m,\n",
       "    \u001b[32m'neg_brier_score'\u001b[0m,\n",
       "    \u001b[32m'adjusted_rand_score'\u001b[0m,\n",
       "    \u001b[32m'rand_score'\u001b[0m,\n",
       "    \u001b[32m'homogeneity_score'\u001b[0m,\n",
       "    \u001b[32m'completeness_score'\u001b[0m,\n",
       "    \u001b[32m'v_measure_score'\u001b[0m,\n",
       "    \u001b[32m'mutual_info_score'\u001b[0m,\n",
       "    \u001b[32m'adjusted_mutual_info_score'\u001b[0m,\n",
       "    \u001b[32m'normalized_mutual_info_score'\u001b[0m,\n",
       "    \u001b[32m'fowlkes_mallows_score'\u001b[0m,\n",
       "    \u001b[32m'precision'\u001b[0m,\n",
       "    \u001b[32m'precision_macro'\u001b[0m,\n",
       "    \u001b[32m'precision_micro'\u001b[0m,\n",
       "    \u001b[32m'precision_samples'\u001b[0m,\n",
       "    \u001b[32m'precision_weighted'\u001b[0m,\n",
       "    \u001b[32m'recall'\u001b[0m,\n",
       "    \u001b[32m'recall_macro'\u001b[0m,\n",
       "    \u001b[32m'recall_micro'\u001b[0m,\n",
       "    \u001b[32m'recall_samples'\u001b[0m,\n",
       "    \u001b[32m'recall_weighted'\u001b[0m,\n",
       "    \u001b[32m'f1'\u001b[0m,\n",
       "    \u001b[32m'f1_macro'\u001b[0m,\n",
       "    \u001b[32m'f1_micro'\u001b[0m,\n",
       "    \u001b[32m'f1_samples'\u001b[0m,\n",
       "    \u001b[32m'f1_weighted'\u001b[0m,\n",
       "    \u001b[32m'jaccard'\u001b[0m,\n",
       "    \u001b[32m'jaccard_macro'\u001b[0m,\n",
       "    \u001b[32m'jaccard_micro'\u001b[0m,\n",
       "    \u001b[32m'jaccard_samples'\u001b[0m,\n",
       "    \u001b[32m'jaccard_weighted'\u001b[0m\n",
       "\u001b[1m]\u001b[0m\n"
      ]
     },
     "metadata": {},
     "output_type": "display_data"
    }
   ],
   "source": [
    "import sklearn.metrics as s\n",
    "rich.print(\"Choose error metric from sklearn defaults: \", list(s.SCORERS))"
   ]
  },
  {
   "cell_type": "code",
   "execution_count": 15,
   "id": "b991339f-3318-4741-b0a1-8ab05533e818",
   "metadata": {},
   "outputs": [
    {
     "name": "stdout",
     "output_type": "stream",
     "text": [
      "Scoring on testing set...\n"
     ]
    },
    {
     "data": {
      "text/html": [
       "<pre style=\"white-space:pre;overflow-x:auto;line-height:normal;font-family:Menlo,'DejaVu Sans Mono',consolas,'Courier New',monospace\">Test set accuracy score <span style=\"color: #008080; text-decoration-color: #008080; font-weight: bold\">0.7966101694915254</span>\n",
       "</pre>\n"
      ],
      "text/plain": [
       "Test set accuracy score \u001b[1;36m0.7966101694915254\u001b[0m\n"
      ]
     },
     "metadata": {},
     "output_type": "display_data"
    }
   ],
   "source": [
    "model_validator = Validator(metric=\"accuracy\", data=data_context, model=rf_model)\n",
    "rich.print(f\"Test set {model_validator.metric} score\", model_validator.score_test)"
   ]
  },
  {
   "cell_type": "markdown",
   "id": "c586484c-a49c-4e25-bb09-8df9008a8d95",
   "metadata": {
    "tags": []
   },
   "source": [
    "## Use the trubrics validator to create out-of-the-box validations"
   ]
  },
  {
   "cell_type": "code",
   "execution_count": 16,
   "id": "76440fef-3b53-4b58-8a61-faef07b48207",
   "metadata": {},
   "outputs": [],
   "source": [
    "edge_case = {\n",
    "    \"Sex\": \"male\",\n",
    "    \"Embarked\": \"S\",\n",
    "    \"Title\": \"Master\",\n",
    "    \"Pclass\": 2,\n",
    "    \"Age\": 28,\n",
    "    \"SibSp\": 0,\n",
    "    \"Parch\": 0,\n",
    "    \"Fare\": 37\n",
    "}"
   ]
  },
  {
   "cell_type": "code",
   "execution_count": 17,
   "id": "fe0aa688-2622-49c3-8ee7-827b66362fac",
   "metadata": {},
   "outputs": [
    {
     "data": {
      "text/html": [
       "<pre style=\"white-space:pre;overflow-x:auto;line-height:normal;font-family:Menlo,'DejaVu Sans Mono',consolas,'Courier New',monospace\"><span style=\"font-weight: bold\">{</span>\n",
       "    <span style=\"color: #008000; text-decoration-color: #008000\">'validation_type'</span>: <span style=\"color: #008000; text-decoration-color: #008000\">'validate_single_edge_case'</span>,\n",
       "    <span style=\"color: #008000; text-decoration-color: #008000\">'validation_kwargs'</span>: <span style=\"font-weight: bold\">{</span>\n",
       "        <span style=\"color: #008000; text-decoration-color: #008000\">'args'</span>: <span style=\"font-weight: bold\">()</span>,\n",
       "        <span style=\"color: #008000; text-decoration-color: #008000\">'kwargs'</span>: <span style=\"font-weight: bold\">{</span>\n",
       "            <span style=\"color: #008000; text-decoration-color: #008000\">'edge_case_data'</span>: <span style=\"font-weight: bold\">{</span>\n",
       "                <span style=\"color: #008000; text-decoration-color: #008000\">'Sex'</span>: <span style=\"color: #008000; text-decoration-color: #008000\">'male'</span>,\n",
       "                <span style=\"color: #008000; text-decoration-color: #008000\">'Embarked'</span>: <span style=\"color: #008000; text-decoration-color: #008000\">'S'</span>,\n",
       "                <span style=\"color: #008000; text-decoration-color: #008000\">'Title'</span>: <span style=\"color: #008000; text-decoration-color: #008000\">'Master'</span>,\n",
       "                <span style=\"color: #008000; text-decoration-color: #008000\">'Pclass'</span>: <span style=\"color: #008080; text-decoration-color: #008080; font-weight: bold\">2</span>,\n",
       "                <span style=\"color: #008000; text-decoration-color: #008000\">'Age'</span>: <span style=\"color: #008080; text-decoration-color: #008080; font-weight: bold\">28</span>,\n",
       "                <span style=\"color: #008000; text-decoration-color: #008000\">'SibSp'</span>: <span style=\"color: #008080; text-decoration-color: #008080; font-weight: bold\">0</span>,\n",
       "                <span style=\"color: #008000; text-decoration-color: #008000\">'Parch'</span>: <span style=\"color: #008080; text-decoration-color: #008080; font-weight: bold\">0</span>,\n",
       "                <span style=\"color: #008000; text-decoration-color: #008000\">'Fare'</span>: <span style=\"color: #008080; text-decoration-color: #008080; font-weight: bold\">37</span>\n",
       "            <span style=\"font-weight: bold\">}</span>,\n",
       "            <span style=\"color: #008000; text-decoration-color: #008000\">'desired_output'</span>: <span style=\"color: #008080; text-decoration-color: #008080; font-weight: bold\">0</span>\n",
       "        <span style=\"font-weight: bold\">}</span>\n",
       "    <span style=\"font-weight: bold\">}</span>,\n",
       "    <span style=\"color: #008000; text-decoration-color: #008000\">'outcome'</span>: <span style=\"color: #008000; text-decoration-color: #008000\">'fail'</span>,\n",
       "    <span style=\"color: #008000; text-decoration-color: #008000\">'severity'</span>: <span style=\"color: #008000; text-decoration-color: #008000\">'warning'</span>,\n",
       "    <span style=\"color: #008000; text-decoration-color: #008000\">'result'</span>: <span style=\"font-weight: bold\">{</span><span style=\"color: #008000; text-decoration-color: #008000\">'prediction'</span>: <span style=\"color: #008080; text-decoration-color: #008080; font-weight: bold\">1</span><span style=\"font-weight: bold\">}</span>\n",
       "<span style=\"font-weight: bold\">}</span>\n",
       "</pre>\n"
      ],
      "text/plain": [
       "\u001b[1m{\u001b[0m\n",
       "    \u001b[32m'validation_type'\u001b[0m: \u001b[32m'validate_single_edge_case'\u001b[0m,\n",
       "    \u001b[32m'validation_kwargs'\u001b[0m: \u001b[1m{\u001b[0m\n",
       "        \u001b[32m'args'\u001b[0m: \u001b[1m(\u001b[0m\u001b[1m)\u001b[0m,\n",
       "        \u001b[32m'kwargs'\u001b[0m: \u001b[1m{\u001b[0m\n",
       "            \u001b[32m'edge_case_data'\u001b[0m: \u001b[1m{\u001b[0m\n",
       "                \u001b[32m'Sex'\u001b[0m: \u001b[32m'male'\u001b[0m,\n",
       "                \u001b[32m'Embarked'\u001b[0m: \u001b[32m'S'\u001b[0m,\n",
       "                \u001b[32m'Title'\u001b[0m: \u001b[32m'Master'\u001b[0m,\n",
       "                \u001b[32m'Pclass'\u001b[0m: \u001b[1;36m2\u001b[0m,\n",
       "                \u001b[32m'Age'\u001b[0m: \u001b[1;36m28\u001b[0m,\n",
       "                \u001b[32m'SibSp'\u001b[0m: \u001b[1;36m0\u001b[0m,\n",
       "                \u001b[32m'Parch'\u001b[0m: \u001b[1;36m0\u001b[0m,\n",
       "                \u001b[32m'Fare'\u001b[0m: \u001b[1;36m37\u001b[0m\n",
       "            \u001b[1m}\u001b[0m,\n",
       "            \u001b[32m'desired_output'\u001b[0m: \u001b[1;36m0\u001b[0m\n",
       "        \u001b[1m}\u001b[0m\n",
       "    \u001b[1m}\u001b[0m,\n",
       "    \u001b[32m'outcome'\u001b[0m: \u001b[32m'fail'\u001b[0m,\n",
       "    \u001b[32m'severity'\u001b[0m: \u001b[32m'warning'\u001b[0m,\n",
       "    \u001b[32m'result'\u001b[0m: \u001b[1m{\u001b[0m\u001b[32m'prediction'\u001b[0m: \u001b[1;36m1\u001b[0m\u001b[1m}\u001b[0m\n",
       "\u001b[1m}\u001b[0m\n"
      ]
     },
     "metadata": {},
     "output_type": "display_data"
    },
    {
     "data": {
      "text/html": [
       "<pre style=\"white-space:pre;overflow-x:auto;line-height:normal;font-family:Menlo,'DejaVu Sans Mono',consolas,'Courier New',monospace\"><span style=\"font-weight: bold\">{</span>\n",
       "    <span style=\"color: #008000; text-decoration-color: #008000\">'validation_type'</span>: <span style=\"color: #008000; text-decoration-color: #008000\">'validate_single_edge_case'</span>,\n",
       "    <span style=\"color: #008000; text-decoration-color: #008000\">'validation_kwargs'</span>: <span style=\"font-weight: bold\">{</span>\n",
       "        <span style=\"color: #008000; text-decoration-color: #008000\">'args'</span>: <span style=\"font-weight: bold\">()</span>,\n",
       "        <span style=\"color: #008000; text-decoration-color: #008000\">'kwargs'</span>: <span style=\"font-weight: bold\">{</span>\n",
       "            <span style=\"color: #008000; text-decoration-color: #008000\">'edge_case_data'</span>: <span style=\"font-weight: bold\">{</span>\n",
       "                <span style=\"color: #008000; text-decoration-color: #008000\">'Sex'</span>: <span style=\"color: #008000; text-decoration-color: #008000\">'male'</span>,\n",
       "                <span style=\"color: #008000; text-decoration-color: #008000\">'Embarked'</span>: <span style=\"color: #008000; text-decoration-color: #008000\">'S'</span>,\n",
       "                <span style=\"color: #008000; text-decoration-color: #008000\">'Title'</span>: <span style=\"color: #008000; text-decoration-color: #008000\">'Master'</span>,\n",
       "                <span style=\"color: #008000; text-decoration-color: #008000\">'Pclass'</span>: <span style=\"color: #008080; text-decoration-color: #008080; font-weight: bold\">2</span>,\n",
       "                <span style=\"color: #008000; text-decoration-color: #008000\">'Age'</span>: <span style=\"color: #008080; text-decoration-color: #008080; font-weight: bold\">28</span>,\n",
       "                <span style=\"color: #008000; text-decoration-color: #008000\">'SibSp'</span>: <span style=\"color: #008080; text-decoration-color: #008080; font-weight: bold\">0</span>,\n",
       "                <span style=\"color: #008000; text-decoration-color: #008000\">'Parch'</span>: <span style=\"color: #008080; text-decoration-color: #008080; font-weight: bold\">0</span>,\n",
       "                <span style=\"color: #008000; text-decoration-color: #008000\">'Fare'</span>: <span style=\"color: #008080; text-decoration-color: #008080; font-weight: bold\">37</span>\n",
       "            <span style=\"font-weight: bold\">}</span>,\n",
       "            <span style=\"color: #008000; text-decoration-color: #008000\">'desired_output'</span>: <span style=\"color: #008080; text-decoration-color: #008080; font-weight: bold\">1</span>\n",
       "        <span style=\"font-weight: bold\">}</span>\n",
       "    <span style=\"font-weight: bold\">}</span>,\n",
       "    <span style=\"color: #008000; text-decoration-color: #008000\">'outcome'</span>: <span style=\"color: #008000; text-decoration-color: #008000\">'pass'</span>,\n",
       "    <span style=\"color: #008000; text-decoration-color: #008000\">'severity'</span>: <span style=\"color: #008000; text-decoration-color: #008000\">'experiment'</span>,\n",
       "    <span style=\"color: #008000; text-decoration-color: #008000\">'result'</span>: <span style=\"font-weight: bold\">{</span><span style=\"color: #008000; text-decoration-color: #008000\">'prediction'</span>: <span style=\"color: #008080; text-decoration-color: #008080; font-weight: bold\">1</span><span style=\"font-weight: bold\">}</span>\n",
       "<span style=\"font-weight: bold\">}</span>\n",
       "</pre>\n"
      ],
      "text/plain": [
       "\u001b[1m{\u001b[0m\n",
       "    \u001b[32m'validation_type'\u001b[0m: \u001b[32m'validate_single_edge_case'\u001b[0m,\n",
       "    \u001b[32m'validation_kwargs'\u001b[0m: \u001b[1m{\u001b[0m\n",
       "        \u001b[32m'args'\u001b[0m: \u001b[1m(\u001b[0m\u001b[1m)\u001b[0m,\n",
       "        \u001b[32m'kwargs'\u001b[0m: \u001b[1m{\u001b[0m\n",
       "            \u001b[32m'edge_case_data'\u001b[0m: \u001b[1m{\u001b[0m\n",
       "                \u001b[32m'Sex'\u001b[0m: \u001b[32m'male'\u001b[0m,\n",
       "                \u001b[32m'Embarked'\u001b[0m: \u001b[32m'S'\u001b[0m,\n",
       "                \u001b[32m'Title'\u001b[0m: \u001b[32m'Master'\u001b[0m,\n",
       "                \u001b[32m'Pclass'\u001b[0m: \u001b[1;36m2\u001b[0m,\n",
       "                \u001b[32m'Age'\u001b[0m: \u001b[1;36m28\u001b[0m,\n",
       "                \u001b[32m'SibSp'\u001b[0m: \u001b[1;36m0\u001b[0m,\n",
       "                \u001b[32m'Parch'\u001b[0m: \u001b[1;36m0\u001b[0m,\n",
       "                \u001b[32m'Fare'\u001b[0m: \u001b[1;36m37\u001b[0m\n",
       "            \u001b[1m}\u001b[0m,\n",
       "            \u001b[32m'desired_output'\u001b[0m: \u001b[1;36m1\u001b[0m\n",
       "        \u001b[1m}\u001b[0m\n",
       "    \u001b[1m}\u001b[0m,\n",
       "    \u001b[32m'outcome'\u001b[0m: \u001b[32m'pass'\u001b[0m,\n",
       "    \u001b[32m'severity'\u001b[0m: \u001b[32m'experiment'\u001b[0m,\n",
       "    \u001b[32m'result'\u001b[0m: \u001b[1m{\u001b[0m\u001b[32m'prediction'\u001b[0m: \u001b[1;36m1\u001b[0m\u001b[1m}\u001b[0m\n",
       "\u001b[1m}\u001b[0m\n"
      ]
     },
     "metadata": {},
     "output_type": "display_data"
    }
   ],
   "source": [
    "robustness = [\n",
    "    model_validator.validate_single_edge_case(edge_case_data=edge_case, desired_output=0), # example of fail\n",
    "    model_validator.validate_single_edge_case(edge_case_data=edge_case, desired_output=1) # example of pass\n",
    "]\n",
    "robustness[0].severity = \"warning\"  # change the severity of a validation\n",
    "robustness[1].severity = \"experiment\"\n",
    "\n",
    "_ = [rich.print(val.dict()) for val in robustness]"
   ]
  },
  {
   "cell_type": "code",
   "execution_count": 18,
   "id": "90323425-1677-432e-a3c2-950565282e24",
   "metadata": {},
   "outputs": [
    {
     "data": {
      "text/html": [
       "<pre style=\"white-space:pre;overflow-x:auto;line-height:normal;font-family:Menlo,'DejaVu Sans Mono',consolas,'Courier New',monospace\"><span style=\"font-weight: bold\">{</span>\n",
       "    <span style=\"color: #008000; text-decoration-color: #008000\">'validation_type'</span>: <span style=\"color: #008000; text-decoration-color: #008000\">'validate_performance_against_threshold'</span>,\n",
       "    <span style=\"color: #008000; text-decoration-color: #008000\">'validation_kwargs'</span>: <span style=\"font-weight: bold\">{</span><span style=\"color: #008000; text-decoration-color: #008000\">'args'</span>: <span style=\"font-weight: bold\">()</span>, <span style=\"color: #008000; text-decoration-color: #008000\">'kwargs'</span>: <span style=\"font-weight: bold\">{</span><span style=\"color: #008000; text-decoration-color: #008000\">'threshold'</span>: <span style=\"color: #008080; text-decoration-color: #008080; font-weight: bold\">0.8</span><span style=\"font-weight: bold\">}}</span>,\n",
       "    <span style=\"color: #008000; text-decoration-color: #008000\">'outcome'</span>: <span style=\"color: #008000; text-decoration-color: #008000\">'pass'</span>,\n",
       "    <span style=\"color: #008000; text-decoration-color: #008000\">'severity'</span>: <span style=\"color: #008000; text-decoration-color: #008000\">'error'</span>,\n",
       "    <span style=\"color: #008000; text-decoration-color: #008000\">'result'</span>: <span style=\"font-weight: bold\">{</span><span style=\"color: #008000; text-decoration-color: #008000\">'performance'</span>: <span style=\"color: #008080; text-decoration-color: #008080; font-weight: bold\">0.7966101694915254</span><span style=\"font-weight: bold\">}</span>\n",
       "<span style=\"font-weight: bold\">}</span>\n",
       "</pre>\n"
      ],
      "text/plain": [
       "\u001b[1m{\u001b[0m\n",
       "    \u001b[32m'validation_type'\u001b[0m: \u001b[32m'validate_performance_against_threshold'\u001b[0m,\n",
       "    \u001b[32m'validation_kwargs'\u001b[0m: \u001b[1m{\u001b[0m\u001b[32m'args'\u001b[0m: \u001b[1m(\u001b[0m\u001b[1m)\u001b[0m, \u001b[32m'kwargs'\u001b[0m: \u001b[1m{\u001b[0m\u001b[32m'threshold'\u001b[0m: \u001b[1;36m0.8\u001b[0m\u001b[1m}\u001b[0m\u001b[1m}\u001b[0m,\n",
       "    \u001b[32m'outcome'\u001b[0m: \u001b[32m'pass'\u001b[0m,\n",
       "    \u001b[32m'severity'\u001b[0m: \u001b[32m'error'\u001b[0m,\n",
       "    \u001b[32m'result'\u001b[0m: \u001b[1m{\u001b[0m\u001b[32m'performance'\u001b[0m: \u001b[1;36m0.7966101694915254\u001b[0m\u001b[1m}\u001b[0m\n",
       "\u001b[1m}\u001b[0m\n"
      ]
     },
     "metadata": {},
     "output_type": "display_data"
    },
    {
     "data": {
      "text/html": [
       "<pre style=\"white-space:pre;overflow-x:auto;line-height:normal;font-family:Menlo,'DejaVu Sans Mono',consolas,'Courier New',monospace\"><span style=\"font-weight: bold\">{</span>\n",
       "    <span style=\"color: #008000; text-decoration-color: #008000\">'validation_type'</span>: <span style=\"color: #008000; text-decoration-color: #008000\">'validate_performance_against_threshold'</span>,\n",
       "    <span style=\"color: #008000; text-decoration-color: #008000\">'validation_kwargs'</span>: <span style=\"font-weight: bold\">{</span><span style=\"color: #008000; text-decoration-color: #008000\">'args'</span>: <span style=\"font-weight: bold\">()</span>, <span style=\"color: #008000; text-decoration-color: #008000\">'kwargs'</span>: <span style=\"font-weight: bold\">{</span><span style=\"color: #008000; text-decoration-color: #008000\">'threshold'</span>: <span style=\"color: #008080; text-decoration-color: #008080; font-weight: bold\">0.75</span><span style=\"font-weight: bold\">}}</span>,\n",
       "    <span style=\"color: #008000; text-decoration-color: #008000\">'outcome'</span>: <span style=\"color: #008000; text-decoration-color: #008000\">'fail'</span>,\n",
       "    <span style=\"color: #008000; text-decoration-color: #008000\">'severity'</span>: <span style=\"color: #008000; text-decoration-color: #008000\">'error'</span>,\n",
       "    <span style=\"color: #008000; text-decoration-color: #008000\">'result'</span>: <span style=\"font-weight: bold\">{</span><span style=\"color: #008000; text-decoration-color: #008000\">'performance'</span>: <span style=\"color: #008080; text-decoration-color: #008080; font-weight: bold\">0.7966101694915254</span><span style=\"font-weight: bold\">}</span>\n",
       "<span style=\"font-weight: bold\">}</span>\n",
       "</pre>\n"
      ],
      "text/plain": [
       "\u001b[1m{\u001b[0m\n",
       "    \u001b[32m'validation_type'\u001b[0m: \u001b[32m'validate_performance_against_threshold'\u001b[0m,\n",
       "    \u001b[32m'validation_kwargs'\u001b[0m: \u001b[1m{\u001b[0m\u001b[32m'args'\u001b[0m: \u001b[1m(\u001b[0m\u001b[1m)\u001b[0m, \u001b[32m'kwargs'\u001b[0m: \u001b[1m{\u001b[0m\u001b[32m'threshold'\u001b[0m: \u001b[1;36m0.75\u001b[0m\u001b[1m}\u001b[0m\u001b[1m}\u001b[0m,\n",
       "    \u001b[32m'outcome'\u001b[0m: \u001b[32m'fail'\u001b[0m,\n",
       "    \u001b[32m'severity'\u001b[0m: \u001b[32m'error'\u001b[0m,\n",
       "    \u001b[32m'result'\u001b[0m: \u001b[1m{\u001b[0m\u001b[32m'performance'\u001b[0m: \u001b[1;36m0.7966101694915254\u001b[0m\u001b[1m}\u001b[0m\n",
       "\u001b[1m}\u001b[0m\n"
      ]
     },
     "metadata": {},
     "output_type": "display_data"
    },
    {
     "data": {
      "text/html": [
       "<pre style=\"white-space:pre;overflow-x:auto;line-height:normal;font-family:Menlo,'DejaVu Sans Mono',consolas,'Courier New',monospace\"><span style=\"font-weight: bold\">{</span>\n",
       "    <span style=\"color: #008000; text-decoration-color: #008000\">'validation_type'</span>: <span style=\"color: #008000; text-decoration-color: #008000\">'validate_performance_against_dummy'</span>,\n",
       "    <span style=\"color: #008000; text-decoration-color: #008000\">'validation_kwargs'</span>: <span style=\"font-weight: bold\">{</span><span style=\"color: #008000; text-decoration-color: #008000\">'args'</span>: <span style=\"font-weight: bold\">()</span>, <span style=\"color: #008000; text-decoration-color: #008000\">'kwargs'</span>: <span style=\"font-weight: bold\">{}}</span>,\n",
       "    <span style=\"color: #008000; text-decoration-color: #008000\">'outcome'</span>: <span style=\"color: #008000; text-decoration-color: #008000\">'pass'</span>,\n",
       "    <span style=\"color: #008000; text-decoration-color: #008000\">'severity'</span>: <span style=\"color: #008000; text-decoration-color: #008000\">'error'</span>,\n",
       "    <span style=\"color: #008000; text-decoration-color: #008000\">'result'</span>: <span style=\"font-weight: bold\">{</span><span style=\"color: #008000; text-decoration-color: #008000\">'dummy_performance'</span>: <span style=\"color: #008080; text-decoration-color: #008080; font-weight: bold\">0.6508474576271186</span>, <span style=\"color: #008000; text-decoration-color: #008000\">'test_performance'</span>: <span style=\"color: #008080; text-decoration-color: #008080; font-weight: bold\">0.7966101694915254</span><span style=\"font-weight: bold\">}</span>\n",
       "<span style=\"font-weight: bold\">}</span>\n",
       "</pre>\n"
      ],
      "text/plain": [
       "\u001b[1m{\u001b[0m\n",
       "    \u001b[32m'validation_type'\u001b[0m: \u001b[32m'validate_performance_against_dummy'\u001b[0m,\n",
       "    \u001b[32m'validation_kwargs'\u001b[0m: \u001b[1m{\u001b[0m\u001b[32m'args'\u001b[0m: \u001b[1m(\u001b[0m\u001b[1m)\u001b[0m, \u001b[32m'kwargs'\u001b[0m: \u001b[1m{\u001b[0m\u001b[1m}\u001b[0m\u001b[1m}\u001b[0m,\n",
       "    \u001b[32m'outcome'\u001b[0m: \u001b[32m'pass'\u001b[0m,\n",
       "    \u001b[32m'severity'\u001b[0m: \u001b[32m'error'\u001b[0m,\n",
       "    \u001b[32m'result'\u001b[0m: \u001b[1m{\u001b[0m\u001b[32m'dummy_performance'\u001b[0m: \u001b[1;36m0.6508474576271186\u001b[0m, \u001b[32m'test_performance'\u001b[0m: \u001b[1;36m0.7966101694915254\u001b[0m\u001b[1m}\u001b[0m\n",
       "\u001b[1m}\u001b[0m\n"
      ]
     },
     "metadata": {},
     "output_type": "display_data"
    },
    {
     "data": {
      "text/html": [
       "<pre style=\"white-space:pre;overflow-x:auto;line-height:normal;font-family:Menlo,'DejaVu Sans Mono',consolas,'Courier New',monospace\"><span style=\"font-weight: bold\">{</span>\n",
       "    <span style=\"color: #008000; text-decoration-color: #008000\">'validation_type'</span>: <span style=\"color: #008000; text-decoration-color: #008000\">'validate_performance_against_dummy'</span>,\n",
       "    <span style=\"color: #008000; text-decoration-color: #008000\">'validation_kwargs'</span>: <span style=\"font-weight: bold\">{</span><span style=\"color: #008000; text-decoration-color: #008000\">'args'</span>: <span style=\"font-weight: bold\">()</span>, <span style=\"color: #008000; text-decoration-color: #008000\">'kwargs'</span>: <span style=\"font-weight: bold\">{</span><span style=\"color: #008000; text-decoration-color: #008000\">'strategy'</span>: <span style=\"color: #008000; text-decoration-color: #008000\">'stratified'</span><span style=\"font-weight: bold\">}}</span>,\n",
       "    <span style=\"color: #008000; text-decoration-color: #008000\">'outcome'</span>: <span style=\"color: #008000; text-decoration-color: #008000\">'pass'</span>,\n",
       "    <span style=\"color: #008000; text-decoration-color: #008000\">'severity'</span>: <span style=\"color: #008000; text-decoration-color: #008000\">'error'</span>,\n",
       "    <span style=\"color: #008000; text-decoration-color: #008000\">'result'</span>: <span style=\"font-weight: bold\">{</span><span style=\"color: #008000; text-decoration-color: #008000\">'dummy_performance'</span>: <span style=\"color: #008080; text-decoration-color: #008080; font-weight: bold\">0.5084745762711864</span>, <span style=\"color: #008000; text-decoration-color: #008000\">'test_performance'</span>: <span style=\"color: #008080; text-decoration-color: #008080; font-weight: bold\">0.7966101694915254</span><span style=\"font-weight: bold\">}</span>\n",
       "<span style=\"font-weight: bold\">}</span>\n",
       "</pre>\n"
      ],
      "text/plain": [
       "\u001b[1m{\u001b[0m\n",
       "    \u001b[32m'validation_type'\u001b[0m: \u001b[32m'validate_performance_against_dummy'\u001b[0m,\n",
       "    \u001b[32m'validation_kwargs'\u001b[0m: \u001b[1m{\u001b[0m\u001b[32m'args'\u001b[0m: \u001b[1m(\u001b[0m\u001b[1m)\u001b[0m, \u001b[32m'kwargs'\u001b[0m: \u001b[1m{\u001b[0m\u001b[32m'strategy'\u001b[0m: \u001b[32m'stratified'\u001b[0m\u001b[1m}\u001b[0m\u001b[1m}\u001b[0m,\n",
       "    \u001b[32m'outcome'\u001b[0m: \u001b[32m'pass'\u001b[0m,\n",
       "    \u001b[32m'severity'\u001b[0m: \u001b[32m'error'\u001b[0m,\n",
       "    \u001b[32m'result'\u001b[0m: \u001b[1m{\u001b[0m\u001b[32m'dummy_performance'\u001b[0m: \u001b[1;36m0.5084745762711864\u001b[0m, \u001b[32m'test_performance'\u001b[0m: \u001b[1;36m0.7966101694915254\u001b[0m\u001b[1m}\u001b[0m\n",
       "\u001b[1m}\u001b[0m\n"
      ]
     },
     "metadata": {},
     "output_type": "display_data"
    }
   ],
   "source": [
    "performance = [\n",
    "    model_validator.validate_performance_against_threshold(threshold=0.8),\n",
    "    model_validator.validate_performance_against_threshold(threshold=0.75),\n",
    "    model_validator.validate_performance_against_dummy(),\n",
    "    model_validator.validate_performance_against_dummy(strategy=\"stratified\"),\n",
    "]\n",
    "_ = [rich.print(val.dict()) for val in performance]"
   ]
  },
  {
   "cell_type": "code",
   "execution_count": 19,
   "id": "6641f5c1-8978-4866-83a0-ac40c69f75d1",
   "metadata": {},
   "outputs": [
    {
     "data": {
      "text/html": [
       "<pre style=\"white-space:pre;overflow-x:auto;line-height:normal;font-family:Menlo,'DejaVu Sans Mono',consolas,'Courier New',monospace\"><span style=\"font-weight: bold\">{</span>\n",
       "    <span style=\"color: #008000; text-decoration-color: #008000\">'validation_type'</span>: <span style=\"color: #008000; text-decoration-color: #008000\">'validate_biased_performance_across_category'</span>,\n",
       "    <span style=\"color: #008000; text-decoration-color: #008000\">'validation_kwargs'</span>: <span style=\"font-weight: bold\">{</span><span style=\"color: #008000; text-decoration-color: #008000\">'args'</span>: <span style=\"font-weight: bold\">()</span>, <span style=\"color: #008000; text-decoration-color: #008000\">'kwargs'</span>: <span style=\"font-weight: bold\">{</span><span style=\"color: #008000; text-decoration-color: #008000\">'category'</span>: <span style=\"color: #008000; text-decoration-color: #008000\">'Embarked'</span>, <span style=\"color: #008000; text-decoration-color: #008000\">'threshold'</span>: <span style=\"color: #008080; text-decoration-color: #008080; font-weight: bold\">0.1</span><span style=\"font-weight: bold\">}}</span>,\n",
       "    <span style=\"color: #008000; text-decoration-color: #008000\">'outcome'</span>: <span style=\"color: #008000; text-decoration-color: #008000\">'fail'</span>,\n",
       "    <span style=\"color: #008000; text-decoration-color: #008000\">'severity'</span>: <span style=\"color: #008000; text-decoration-color: #008000\">'error'</span>,\n",
       "    <span style=\"color: #008000; text-decoration-color: #008000\">'result'</span>: <span style=\"font-weight: bold\">{</span><span style=\"color: #008000; text-decoration-color: #008000\">'max_performance_difference'</span>: <span style=\"color: #008080; text-decoration-color: #008080; font-weight: bold\">0.15235267245317496</span><span style=\"font-weight: bold\">}</span>\n",
       "<span style=\"font-weight: bold\">}</span>\n",
       "</pre>\n"
      ],
      "text/plain": [
       "\u001b[1m{\u001b[0m\n",
       "    \u001b[32m'validation_type'\u001b[0m: \u001b[32m'validate_biased_performance_across_category'\u001b[0m,\n",
       "    \u001b[32m'validation_kwargs'\u001b[0m: \u001b[1m{\u001b[0m\u001b[32m'args'\u001b[0m: \u001b[1m(\u001b[0m\u001b[1m)\u001b[0m, \u001b[32m'kwargs'\u001b[0m: \u001b[1m{\u001b[0m\u001b[32m'category'\u001b[0m: \u001b[32m'Embarked'\u001b[0m, \u001b[32m'threshold'\u001b[0m: \u001b[1;36m0.1\u001b[0m\u001b[1m}\u001b[0m\u001b[1m}\u001b[0m,\n",
       "    \u001b[32m'outcome'\u001b[0m: \u001b[32m'fail'\u001b[0m,\n",
       "    \u001b[32m'severity'\u001b[0m: \u001b[32m'error'\u001b[0m,\n",
       "    \u001b[32m'result'\u001b[0m: \u001b[1m{\u001b[0m\u001b[32m'max_performance_difference'\u001b[0m: \u001b[1;36m0.15235267245317496\u001b[0m\u001b[1m}\u001b[0m\n",
       "\u001b[1m}\u001b[0m\n"
      ]
     },
     "metadata": {},
     "output_type": "display_data"
    },
    {
     "data": {
      "text/html": [
       "<pre style=\"white-space:pre;overflow-x:auto;line-height:normal;font-family:Menlo,'DejaVu Sans Mono',consolas,'Courier New',monospace\"><span style=\"font-weight: bold\">{</span>\n",
       "    <span style=\"color: #008000; text-decoration-color: #008000\">'validation_type'</span>: <span style=\"color: #008000; text-decoration-color: #008000\">'validate_biased_performance_across_category'</span>,\n",
       "    <span style=\"color: #008000; text-decoration-color: #008000\">'validation_kwargs'</span>: <span style=\"font-weight: bold\">{</span><span style=\"color: #008000; text-decoration-color: #008000\">'args'</span>: <span style=\"font-weight: bold\">()</span>, <span style=\"color: #008000; text-decoration-color: #008000\">'kwargs'</span>: <span style=\"font-weight: bold\">{</span><span style=\"color: #008000; text-decoration-color: #008000\">'category'</span>: <span style=\"color: #008000; text-decoration-color: #008000\">'Sex'</span>, <span style=\"color: #008000; text-decoration-color: #008000\">'threshold'</span>: <span style=\"color: #008080; text-decoration-color: #008080; font-weight: bold\">0.05</span><span style=\"font-weight: bold\">}}</span>,\n",
       "    <span style=\"color: #008000; text-decoration-color: #008000\">'outcome'</span>: <span style=\"color: #008000; text-decoration-color: #008000\">'pass'</span>,\n",
       "    <span style=\"color: #008000; text-decoration-color: #008000\">'severity'</span>: <span style=\"color: #008000; text-decoration-color: #008000\">'error'</span>,\n",
       "    <span style=\"color: #008000; text-decoration-color: #008000\">'result'</span>: <span style=\"font-weight: bold\">{</span><span style=\"color: #008000; text-decoration-color: #008000\">'max_performance_difference'</span>: <span style=\"color: #008080; text-decoration-color: #008080; font-weight: bold\">0.0361426429642322</span><span style=\"font-weight: bold\">}</span>\n",
       "<span style=\"font-weight: bold\">}</span>\n",
       "</pre>\n"
      ],
      "text/plain": [
       "\u001b[1m{\u001b[0m\n",
       "    \u001b[32m'validation_type'\u001b[0m: \u001b[32m'validate_biased_performance_across_category'\u001b[0m,\n",
       "    \u001b[32m'validation_kwargs'\u001b[0m: \u001b[1m{\u001b[0m\u001b[32m'args'\u001b[0m: \u001b[1m(\u001b[0m\u001b[1m)\u001b[0m, \u001b[32m'kwargs'\u001b[0m: \u001b[1m{\u001b[0m\u001b[32m'category'\u001b[0m: \u001b[32m'Sex'\u001b[0m, \u001b[32m'threshold'\u001b[0m: \u001b[1;36m0.05\u001b[0m\u001b[1m}\u001b[0m\u001b[1m}\u001b[0m,\n",
       "    \u001b[32m'outcome'\u001b[0m: \u001b[32m'pass'\u001b[0m,\n",
       "    \u001b[32m'severity'\u001b[0m: \u001b[32m'error'\u001b[0m,\n",
       "    \u001b[32m'result'\u001b[0m: \u001b[1m{\u001b[0m\u001b[32m'max_performance_difference'\u001b[0m: \u001b[1;36m0.0361426429642322\u001b[0m\u001b[1m}\u001b[0m\n",
       "\u001b[1m}\u001b[0m\n"
      ]
     },
     "metadata": {},
     "output_type": "display_data"
    }
   ],
   "source": [
    "fairness = [\n",
    "    model_validator.validate_biased_performance_across_category(category=\"Embarked\", threshold=0.1),\n",
    "    model_validator.validate_biased_performance_across_category(category=\"Sex\", threshold=0.05)\n",
    "]\n",
    "_ = [rich.print(val.dict()) for val in fairness]"
   ]
  },
  {
   "cell_type": "code",
   "execution_count": 20,
   "id": "ed68144d-70ef-438c-ba47-8141dbb7a731",
   "metadata": {},
   "outputs": [
    {
     "ename": "AttributeError",
     "evalue": "'Validator' object has no attribute 'validate_feature_in_top_n_important_features'",
     "output_type": "error",
     "traceback": [
      "\u001b[0;31m---------------------------------------------------------------------------\u001b[0m",
      "\u001b[0;31mAttributeError\u001b[0m                            Traceback (most recent call last)",
      "\u001b[0;32m/var/folders/c5/2nw4z_nx453cgq3k6cq02zp00000gp/T/ipykernel_79219/3289855564.py\u001b[0m in \u001b[0;36m<module>\u001b[0;34m\u001b[0m\n\u001b[1;32m      1\u001b[0m explainability = [\n\u001b[0;32m----> 2\u001b[0;31m     \u001b[0mmodel_validator\u001b[0m\u001b[0;34m.\u001b[0m\u001b[0mvalidate_feature_in_top_n_important_features\u001b[0m\u001b[0;34m(\u001b[0m\u001b[0mfeature\u001b[0m\u001b[0;34m=\u001b[0m\u001b[0;34m\"Sex_female\"\u001b[0m\u001b[0;34m,\u001b[0m \u001b[0mfeature_importance\u001b[0m\u001b[0;34m=\u001b[0m\u001b[0mfeature_importance\u001b[0m\u001b[0;34m,\u001b[0m \u001b[0mtop_n_features\u001b[0m\u001b[0;34m=\u001b[0m\u001b[0;36m3\u001b[0m\u001b[0;34m)\u001b[0m\u001b[0;34m,\u001b[0m\u001b[0;34m\u001b[0m\u001b[0;34m\u001b[0m\u001b[0m\n\u001b[0m\u001b[1;32m      3\u001b[0m     \u001b[0mmodel_validator\u001b[0m\u001b[0;34m.\u001b[0m\u001b[0mvalidate_feature_in_top_n_important_features\u001b[0m\u001b[0;34m(\u001b[0m\u001b[0mfeature\u001b[0m\u001b[0;34m=\u001b[0m\u001b[0;34m\"Age\"\u001b[0m\u001b[0;34m,\u001b[0m \u001b[0mfeature_importance\u001b[0m\u001b[0;34m=\u001b[0m\u001b[0mfeature_importance\u001b[0m\u001b[0;34m,\u001b[0m \u001b[0mtop_n_features\u001b[0m\u001b[0;34m=\u001b[0m\u001b[0;36m2\u001b[0m\u001b[0;34m)\u001b[0m\u001b[0;34m\u001b[0m\u001b[0;34m\u001b[0m\u001b[0m\n\u001b[1;32m      4\u001b[0m ]\n\u001b[1;32m      5\u001b[0m \u001b[0m_\u001b[0m \u001b[0;34m=\u001b[0m \u001b[0;34m[\u001b[0m\u001b[0mrich\u001b[0m\u001b[0;34m.\u001b[0m\u001b[0mprint\u001b[0m\u001b[0;34m(\u001b[0m\u001b[0mval\u001b[0m\u001b[0;34m.\u001b[0m\u001b[0mdict\u001b[0m\u001b[0;34m(\u001b[0m\u001b[0;34m)\u001b[0m\u001b[0;34m)\u001b[0m \u001b[0;32mfor\u001b[0m \u001b[0mval\u001b[0m \u001b[0;32min\u001b[0m \u001b[0mexplainability\u001b[0m\u001b[0;34m]\u001b[0m\u001b[0;34m\u001b[0m\u001b[0;34m\u001b[0m\u001b[0m\n",
      "\u001b[0;31mAttributeError\u001b[0m: 'Validator' object has no attribute 'validate_feature_in_top_n_important_features'"
     ]
    }
   ],
   "source": [
    "explainability = [\n",
    "    model_validator.validate_feature_in_top_n_important_features(feature=\"Sex_female\", feature_importance=feature_importance, top_n_features=3),\n",
    "    model_validator.validate_feature_in_top_n_important_features(feature=\"Age\", feature_importance=feature_importance, top_n_features=2)\n",
    "]\n",
    "_ = [rich.print(val.dict()) for val in explainability]"
   ]
  },
  {
   "cell_type": "markdown",
   "id": "82f4d137-430b-400d-b77c-6dff3f4ef190",
   "metadata": {},
   "source": [
    "## Collect user feedback from app"
   ]
  },
  {
   "cell_type": "code",
   "execution_count": 21,
   "id": "20239fd9",
   "metadata": {},
   "outputs": [
    {
     "data": {
      "text/plain": [
       "{'feedback_type': 'Other',\n",
       " 'metadata': {'description': 'model seems to have more errors for passengers who paid less - is this normal?',\n",
       "  'what_if_input': {'Sex': {'0': 'male'},\n",
       "   'Embarked': {'0': 'S'},\n",
       "   'Title': {'0': 'Master'},\n",
       "   'Pclass': {'0': 2},\n",
       "   'Age': {'0': 28},\n",
       "   'SibSp': {'0': 0},\n",
       "   'Parch': {'0': 0},\n",
       "   'Fare': {'0': 37}}}}"
      ]
     },
     "metadata": {},
     "output_type": "display_data"
    }
   ],
   "source": [
    "from trubrics.utils.loader import get_business_feedback_data\n",
    "# read test data and run single outlier test\n",
    "try:\n",
    "    data = get_business_feedback_data(tracking=False)\n",
    "    display(data)\n",
    "except FileNotFoundError:\n",
    "    print(\"Please generate feedback from the streamlit app in order to read it back here\")"
   ]
  },
  {
   "cell_type": "markdown",
   "id": "a4840809-38fe-4da0-a6a7-dcdc8ab920e2",
   "metadata": {},
   "source": [
    "--> **DS response: \"It isn't normal, the model should not be more accurate for different groups of people. I'll add a test for this.\"**"
   ]
  },
  {
   "cell_type": "markdown",
   "id": "ad3f59af-9cce-4017-89ad-e2b476285a13",
   "metadata": {},
   "source": [
    "## Create custom validations"
   ]
  },
  {
   "cell_type": "code",
   "execution_count": null,
   "id": "870e0bb3-b995-483b-ba5e-975271486ad4",
   "metadata": {},
   "outputs": [],
   "source": [
    "from trubrics.validations.validation_output import validation_output, validation_output_type\n",
    "\n",
    "\n",
    "class CustomValidator(Validator):\n",
    "    def __init__(self, data: DataContext, model: ModelContext):\n",
    "        super().__init__(data, model)\n",
    "        \n",
    "    @validation_output\n",
    "    def validate_performance_for_different_fares(self, fare_cutoff):\n",
    "        return self._validate_performance_for_different_fares(fare_cutoff)\n",
    "\n",
    "    def _validate_performance_for_different_fares(self, fare_cutoff: int = 50) -> validation_output_type:\n",
    "        \"\"\"\n",
    "        Write your custom validation function here.\n",
    "        \n",
    "        Notes\n",
    "        -----\n",
    "            This method is separated from validate_performance_for_different_fares\n",
    "            to apply @validation_output and for unit testing.\n",
    "\n",
    "            The @validation_output decorator allows you to generate a Validation object,\n",
    "            and must be used to be able to save your validation as part of a Trubric.\n",
    "            This decorator requires you to return values with the same type as validation_output_type.\n",
    "        \"\"\"\n",
    "        \n",
    "        errors_df = self.trubrics_model.explore_test_set_errors()\n",
    "        number_of_errors_by_fare_ratio = (\n",
    "            errors_df.loc[lambda x: x[\"Fare\"] <= fare_cutoff].shape[0]\n",
    "            / errors_df.loc[lambda x: x[\"Fare\"] > fare_cutoff].shape[0]\n",
    "        )\n",
    "        return (\n",
    "            number_of_errors_by_fare_ratio > 0.5 and number_of_errors_by_fare_ratio < 1.5,\n",
    "            {\"number_of_errors_by_fare_ratio\": round(number_of_errors_by_fare_ratio, 3)}\n",
    "        )"
   ]
  },
  {
   "cell_type": "code",
   "execution_count": null,
   "id": "aecf1b64-6d66-44f5-955f-9fd75db8529e",
   "metadata": {},
   "outputs": [],
   "source": [
    "model_custom_validator = CustomValidator(data=data_context, model=model_context)"
   ]
  },
  {
   "cell_type": "code",
   "execution_count": null,
   "id": "efcf10c3-2299-4cbb-860b-33e7b87208f9",
   "metadata": {},
   "outputs": [],
   "source": [
    "custom = [model_custom_validator.validate_performance_for_different_fares(fare_cutoff=25)]\n",
    "custom[0].severity = \"warning\"  # change the severity of a validation\n",
    "_ = [rich.print(val.dict()) for val in custom]"
   ]
  },
  {
   "cell_type": "markdown",
   "id": "6c45ce41-d3f0-4e98-b638-7fb0ff817971",
   "metadata": {},
   "source": [
    "## Save trubric"
   ]
  },
  {
   "cell_type": "code",
   "execution_count": null,
   "id": "124bdeea-c7bc-4833-b89c-c184f056045c",
   "metadata": {},
   "outputs": [],
   "source": [
    "from trubrics.context import TrubricContext\n",
    "\n",
    "validations = robustness + performance + fairness + explainability + custom\n",
    "\n",
    "trubric_context = TrubricContext(\n",
    "    name=\"my_first_trubric\",\n",
    "    model_context_name=model_context.name,\n",
    "    model_context_version=model_context.version,\n",
    "    data_context_name=data_context.name,\n",
    "    data_context_version=data_context.version,\n",
    "    validations=validations,\n",
    ")\n",
    "\n",
    "trubric_context.save_local(path=\"../data\")"
   ]
  },
  {
   "cell_type": "code",
   "execution_count": null,
   "id": "018784d0-8dfb-468a-bdf2-f5644c92ed5b",
   "metadata": {},
   "outputs": [],
   "source": [
    "# or save to trubrics UI\n",
    "user_id = None  # enter User ID from trubrics manager here\n",
    "url = None  # enter api url for trubrics manager here\n",
    "\n",
    "trubric_context = TrubricContext(\n",
    "    name=\"my_first_trubric\",\n",
    "    model_context_name=model_context.name,\n",
    "    model_context_version=model_context.version,\n",
    "    data_context_name=data_context.name,\n",
    "    data_context_version=data_context.version,\n",
    "    metadata={\"tag\": \"master\"},\n",
    "    validations=validations,\n",
    ")\n",
    "\n",
    "\n",
    "try:\n",
    "    trubric_context.save_ui(url=url, user_id=user_id)\n",
    "    print(\"Trubric saved to UI.\")\n",
    "except Exception as e:\n",
    "    print(f\"Error in saving to trubrics manager:\\n{e}\")"
   ]
  },
  {
   "cell_type": "code",
   "execution_count": null,
   "id": "2dbff712-d650-4d60-9f19-ed3fe398f708",
   "metadata": {},
   "outputs": [],
   "source": [
    "trubric_context.dict()"
   ]
  },
  {
   "cell_type": "markdown",
   "id": "de1d6ef0-c169-4d79-ad6e-8872539370fa",
   "metadata": {},
   "source": [
    "## Execute trubric from file"
   ]
  },
  {
   "cell_type": "code",
   "execution_count": null,
   "id": "cd64e984-872c-4d04-8573-5dd1295e0dd3",
   "metadata": {},
   "outputs": [],
   "source": [
    "from trubrics.validations.run import run_trubric"
   ]
  },
  {
   "cell_type": "code",
   "execution_count": null,
   "id": "b4005f0b-9aaf-4ff9-bf66-2d3703ddd647",
   "metadata": {},
   "outputs": [],
   "source": [
    "trubric = TrubricContext.parse_file(\"../data/my_first_trubric.json\")\n",
    "\n",
    "all_validation_results = run_trubric(\n",
    "    data_context=data_context,\n",
    "    model_context=model_context,\n",
    "    custom_validator=model_custom_validator,\n",
    "    trubric=trubric\n",
    ")"
   ]
  },
  {
   "cell_type": "code",
   "execution_count": null,
   "id": "b9188a70-7b06-4ac3-a191-cdace29e4d56",
   "metadata": {},
   "outputs": [],
   "source": [
    "for validation_result in all_validation_results:\n",
    "    rich.print(f\"{validation_result.validation_type} - {validation_result.severity.upper()}.......{validation_result.outcome}\")"
   ]
  },
  {
   "cell_type": "code",
   "execution_count": null,
   "id": "69c7bff0-1d97-4311-beb1-c4404e37dd0f",
   "metadata": {},
   "outputs": [],
   "source": [
    "# or run from cli\n",
    "import os\n",
    "os.chdir(\"../..\")\n",
    "!make example-run-trubric \n",
    "os.chdir(\"examples/notebooks\")"
   ]
  },
  {
   "cell_type": "code",
   "execution_count": null,
   "id": "c84e4f08-c33d-4217-9594-2a0d5fe33e87",
   "metadata": {},
   "outputs": [],
   "source": []
  }
 ],
 "metadata": {
  "kernelspec": {
   "display_name": "trubrics-venv",
   "language": "python",
   "name": "trubrics-venv"
  },
  "language_info": {
   "codemirror_mode": {
    "name": "ipython",
    "version": 3
   },
   "file_extension": ".py",
   "mimetype": "text/x-python",
   "name": "python",
   "nbconvert_exporter": "python",
   "pygments_lexer": "ipython3",
   "version": "3.7.9"
  }
 },
 "nbformat": 4,
 "nbformat_minor": 5
}
