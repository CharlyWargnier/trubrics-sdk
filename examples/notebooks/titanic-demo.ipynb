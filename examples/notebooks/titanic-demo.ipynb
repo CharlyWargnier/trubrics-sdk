{
 "cells": [
  {
   "cell_type": "code",
   "execution_count": 1,
   "id": "38b47bf6",
   "metadata": {},
   "outputs": [],
   "source": [
    "import joblib\n",
    "import pandas as pd\n",
    "from sklearn.metrics import accuracy_score\n",
    "import json\n",
    "from examples.training import config\n",
    "from pathlib import Path"
   ]
  },
  {
   "cell_type": "code",
   "execution_count": 2,
   "id": "4541671c",
   "metadata": {},
   "outputs": [],
   "source": [
    "# load data\n",
    "relative_root = \"../..\"\n",
    "try:\n",
    "    preprocessed_train = pd.read_csv(Path(relative_root) / config.LOCAL_TRAIN_FILENAME)\n",
    "    preprocessed_test = pd.read_csv(Path(relative_root) / config.LOCAL_TEST_FILENAME)\n",
    "    rf_model = joblib.load(Path(relative_root) / config.LOCAL_MODEL_FILENAME)\n",
    "    with open(Path(relative_root) / config.LOCAL_FI_FILENAME, \"r\") as file:\n",
    "        feature_importance = json.loads(file.read())\n",
    "except FileNotFoundError:\n",
    "    raise FileNotFoundError(\"To generate these files, run `make train-titanic`\")"
   ]
  },
  {
   "cell_type": "markdown",
   "id": "558d7ae3",
   "metadata": {},
   "source": [
    "## Init trubrics model"
   ]
  },
  {
   "cell_type": "code",
   "execution_count": 3,
   "id": "a003e2c4-74bc-48f4-b766-2d1ccd8b5056",
   "metadata": {},
   "outputs": [],
   "source": [
    "from trubrics.context import DataContext, ModelContext"
   ]
  },
  {
   "cell_type": "code",
   "execution_count": 4,
   "id": "164b70d3-6aff-4fa2-ba51-524ef4f25699",
   "metadata": {},
   "outputs": [],
   "source": [
    "data_context = DataContext(\n",
    "    name=\"my_datasource\",\n",
    "    training_data=preprocessed_train,\n",
    "    testing_data=preprocessed_test,\n",
    "    target_column=config.TARGET\n",
    ")\n",
    "model_context = ModelContext(\n",
    "    name=\"my_model\",\n",
    "    version=\"0.1\",\n",
    "    estimator=rf_model,\n",
    "    evaluation_function=accuracy_score\n",
    ")"
   ]
  },
  {
   "cell_type": "code",
   "execution_count": 5,
   "id": "5e99bba3-065b-47bb-8858-7df580b9e032",
   "metadata": {},
   "outputs": [],
   "source": [
    "from trubrics.validators.base import Validator"
   ]
  },
  {
   "cell_type": "code",
   "execution_count": 6,
   "id": "b991339f-3318-4741-b0a1-8ab05533e818",
   "metadata": {},
   "outputs": [],
   "source": [
    "model_validator = Validator(data=data_context, model=model_context)"
   ]
  },
  {
   "cell_type": "markdown",
   "id": "c586484c-a49c-4e25-bb09-8df9008a8d95",
   "metadata": {
    "tags": []
   },
   "source": [
    "## DS example tests"
   ]
  },
  {
   "cell_type": "code",
   "execution_count": 7,
   "id": "76440fef-3b53-4b58-8a61-faef07b48207",
   "metadata": {},
   "outputs": [],
   "source": [
    "edge_case = {\n",
    "    \"Sex\": \"male\",\n",
    "    \"Embarked\": \"S\",\n",
    "    \"Title\": \"Master\",\n",
    "    \"Pclass\": 2,\n",
    "    \"Age\": 28,\n",
    "    \"SibSp\": 0,\n",
    "    \"Parch\": 0,\n",
    "    \"Fare\": 37\n",
    "}"
   ]
  },
  {
   "cell_type": "code",
   "execution_count": 8,
   "id": "fe0aa688-2622-49c3-8ee7-827b66362fac",
   "metadata": {},
   "outputs": [
    {
     "data": {
      "text/plain": [
       "{'validation_type': 'validate_single_edge_case',\n",
       " 'validation_kwargs': {'args': [],\n",
       "  'kwargs': {'edge_case_data': {'Sex': 'male',\n",
       "    'Embarked': 'S',\n",
       "    'Title': 'Master',\n",
       "    'Pclass': 2,\n",
       "    'Age': 28,\n",
       "    'SibSp': 0,\n",
       "    'Parch': 0,\n",
       "    'Fare': 37},\n",
       "   'desired_output': 0}},\n",
       " 'outcome': 'fail',\n",
       " 'result': {'prediction': '1'}}"
      ]
     },
     "execution_count": 8,
     "metadata": {},
     "output_type": "execute_result"
    }
   ],
   "source": [
    "robustness = [\n",
    "    model_validator.validate_single_edge_case(edge_case_data=edge_case, desired_output=0), # example of fail\n",
    "    model_validator.validate_single_edge_case(edge_case_data=edge_case, desired_output=1) # example of pass\n",
    "]\n",
    "robustness[0].dict()"
   ]
  },
  {
   "cell_type": "code",
   "execution_count": 9,
   "id": "90323425-1677-432e-a3c2-950565282e24",
   "metadata": {},
   "outputs": [
    {
     "data": {
      "text/plain": [
       "{'validation_type': 'validate_performance_against_threshold',\n",
       " 'validation_kwargs': {'args': [], 'kwargs': {'threshold': 0.8}},\n",
       " 'outcome': 'fail',\n",
       " 'result': {'performance': '0.7966101694915254'}}"
      ]
     },
     "execution_count": 9,
     "metadata": {},
     "output_type": "execute_result"
    }
   ],
   "source": [
    "performance = [\n",
    "    model_validator.validate_performance_against_threshold(threshold=0.8),\n",
    "    model_validator.validate_performance_against_threshold(threshold=0.75)\n",
    "]\n",
    "performance[0].dict()"
   ]
  },
  {
   "cell_type": "code",
   "execution_count": 10,
   "id": "6641f5c1-8978-4866-83a0-ac40c69f75d1",
   "metadata": {},
   "outputs": [
    {
     "data": {
      "text/plain": [
       "{'validation_type': 'validate_biased_performance_across_category',\n",
       " 'validation_kwargs': {'args': [],\n",
       "  'kwargs': {'category': 'Embarked', 'threshold': 0.1}},\n",
       " 'outcome': 'fail',\n",
       " 'result': {'max_performance_difference': '0.15235267245317496'}}"
      ]
     },
     "execution_count": 10,
     "metadata": {},
     "output_type": "execute_result"
    }
   ],
   "source": [
    "fairness = [\n",
    "    model_validator.validate_biased_performance_across_category(category=\"Embarked\", threshold=0.1),\n",
    "    model_validator.validate_biased_performance_across_category(category=\"Sex\", threshold=0.05)\n",
    "]\n",
    "fairness[0].dict()"
   ]
  },
  {
   "cell_type": "code",
   "execution_count": 11,
   "id": "ed68144d-70ef-438c-ba47-8141dbb7a731",
   "metadata": {},
   "outputs": [
    {
     "data": {
      "text/plain": [
       "{'validation_type': 'validate_feature_in_top_n_important_features',\n",
       " 'validation_kwargs': {'args': [],\n",
       "  'kwargs': {'feature': 'Sex_female',\n",
       "   'feature_importance': {'Pclass': 0.08027485982957666,\n",
       "    'Age': 0.2109814530574326,\n",
       "    'SibSp': 0.0537446367930372,\n",
       "    'Parch': 0.036290576979770735,\n",
       "    'Fare': 0.23012234475361906,\n",
       "    'Sex_female': 0.0923012684295021,\n",
       "    'Sex_male': 0.08321571192982573,\n",
       "    'Embarked_C': 0.01263434518233411,\n",
       "    'Embarked_Q': 0.007338584769864529,\n",
       "    'Embarked_S': 0.015720887116309576,\n",
       "    'Title_Capt': 0.000784360481368511,\n",
       "    'Title_Col': 0.0012917613604970604,\n",
       "    'Title_Dr': 0.0017767470075199022,\n",
       "    'Title_Major': 0.0007732933748357258,\n",
       "    'Title_Master': 0.009336584354394672,\n",
       "    'Title_Miss': 0.02496022744830678,\n",
       "    'Title_Mlle': 0.00014551965218339622,\n",
       "    'Title_Mme': 8.535494893915394e-05,\n",
       "    'Title_Mr': 0.11288027520793507,\n",
       "    'Title_Mrs': 0.021862741975250895,\n",
       "    'Title_Ms': 0.00027664450523918956,\n",
       "    'Title_Rev': 0.002315642203376659,\n",
       "    'Title_Sir': 0.0008861786388808405},\n",
       "   'top_n_features': 3}},\n",
       " 'outcome': 'fail',\n",
       " 'result': {'feature_importance_ranking': '3'}}"
      ]
     },
     "execution_count": 11,
     "metadata": {},
     "output_type": "execute_result"
    }
   ],
   "source": [
    "explainability = [\n",
    "    model_validator.validate_feature_in_top_n_important_features(feature=\"Sex_female\", feature_importance=feature_importance, top_n_features=3),\n",
    "    model_validator.validate_feature_in_top_n_important_features(feature=\"Age\", feature_importance=feature_importance, top_n_features=2)\n",
    "]\n",
    "explainability[0].dict()"
   ]
  },
  {
   "cell_type": "markdown",
   "id": "82f4d137-430b-400d-b77c-6dff3f4ef190",
   "metadata": {},
   "source": [
    "## Business user example test"
   ]
  },
  {
   "cell_type": "code",
   "execution_count": 12,
   "id": "20239fd9",
   "metadata": {},
   "outputs": [
    {
     "data": {
      "text/plain": [
       "{'feedback_type': 'Other',\n",
       " 'metadata': {'description': 'model seems to have more errors for passengers who paid less - is this normal?',\n",
       "  'what_if_input': {'Sex': {'0': 'male'},\n",
       "   'Embarked': {'0': 'S'},\n",
       "   'Title': {'0': 'Master'},\n",
       "   'Pclass': {'0': 2},\n",
       "   'Age': {'0': 28},\n",
       "   'SibSp': {'0': 0},\n",
       "   'Parch': {'0': 0},\n",
       "   'Fare': {'0': 37}}}}"
      ]
     },
     "metadata": {},
     "output_type": "display_data"
    }
   ],
   "source": [
    "from trubrics.utils.loader import get_business_feedback_data\n",
    "# read test data and run single outlier test\n",
    "try:\n",
    "    data = get_business_feedback_data(tracking=False)\n",
    "    display(data)\n",
    "except FileNotFoundError:\n",
    "    print(\"Please generate feedback from the streamlit app in order to read it back here\")"
   ]
  },
  {
   "cell_type": "markdown",
   "id": "a4840809-38fe-4da0-a6a7-dcdc8ab920e2",
   "metadata": {},
   "source": [
    "--> **DS response: \"It isn't normal, the model should not be more accurate for different groups of people. I'll add a test for this.\"**"
   ]
  },
  {
   "cell_type": "code",
   "execution_count": 13,
   "id": "870e0bb3-b995-483b-ba5e-975271486ad4",
   "metadata": {},
   "outputs": [],
   "source": [
    "from trubrics.base import BaseClassifier\n",
    "from trubrics.validators.validation_output import validation_output, validation_output_type\n",
    "\n",
    "\n",
    "class CustomValidator(BaseClassifier):\n",
    "    def __init__(self, **kwargs):\n",
    "        \"\"\"\n",
    "        Initlaise your class with BaseClassifier or BaseRegressor to use their methods\n",
    "        on your data and model contexts.\n",
    "        \"\"\"\n",
    "        super().__init__(**kwargs)\n",
    "\n",
    "    @validation_output\n",
    "    def validate_performance_for_different_fares(self, fare_cutoff: int = 50) -> validation_output_type:\n",
    "        \"\"\"\n",
    "        Write your custom validation function here.\n",
    "        \n",
    "        Notes\n",
    "        -----\n",
    "            The @validation_output decorator allows you to generate a Validation object,\n",
    "            and must be used to be able to save your validation as part of a Trubric.\n",
    "            This decorator requires you to return values with the same type as validation_output_type.\n",
    "        \"\"\"\n",
    "        \n",
    "        errors_df = self.explore_test_set_errors()\n",
    "        number_of_errors_by_fare_ratio = (\n",
    "            errors_df.loc[lambda x: x[\"Fare\"] <= fare_cutoff].shape[0]\n",
    "            / errors_df.loc[lambda x: x[\"Fare\"] > fare_cutoff].shape[0]\n",
    "        )\n",
    "        return (\n",
    "            number_of_errors_by_fare_ratio > 0.5 and number_of_errors_by_fare_ratio < 1.5,\n",
    "            {\"number_of_errors_by_fare_ratio\": round(number_of_errors_by_fare_ratio, 3)}\n",
    "        )"
   ]
  },
  {
   "cell_type": "code",
   "execution_count": 14,
   "id": "aecf1b64-6d66-44f5-955f-9fd75db8529e",
   "metadata": {},
   "outputs": [],
   "source": [
    "model_custom_validator = CustomValidator(data=data_context, model=model_context)"
   ]
  },
  {
   "cell_type": "code",
   "execution_count": 15,
   "id": "efcf10c3-2299-4cbb-860b-33e7b87208f9",
   "metadata": {},
   "outputs": [
    {
     "data": {
      "text/plain": [
       "ValidationContext(validation_type='validate_performance_for_different_fares', validation_kwargs={'args': [], 'kwargs': {'fare_cutoff': 25}}, outcome='pass', result={'number_of_errors_by_fare_ratio': '1.308'})"
      ]
     },
     "execution_count": 15,
     "metadata": {},
     "output_type": "execute_result"
    }
   ],
   "source": [
    "custom = [model_custom_validator.validate_performance_for_different_fares(fare_cutoff=25)]\n",
    "custom[0]"
   ]
  },
  {
   "cell_type": "markdown",
   "id": "6c45ce41-d3f0-4e98-b638-7fb0ff817971",
   "metadata": {},
   "source": [
    "## Save Trubric"
   ]
  },
  {
   "cell_type": "code",
   "execution_count": 16,
   "id": "124bdeea-c7bc-4833-b89c-c184f056045c",
   "metadata": {},
   "outputs": [],
   "source": [
    "from trubrics.context import TrubricContext\n",
    "\n",
    "validations = robustness + performance + fairness + explainability + custom\n",
    "\n",
    "TrubricContext(\n",
    "    model_context=model_context,\n",
    "    data_context=data_context,\n",
    "    validations=validations,\n",
    ").save(path=\"../data\")"
   ]
  },
  {
   "cell_type": "code",
   "execution_count": null,
   "id": "018784d0-8dfb-468a-bdf2-f5644c92ed5b",
   "metadata": {},
   "outputs": [],
   "source": []
  }
 ],
 "metadata": {
  "kernelspec": {
   "display_name": "trubrics-venv",
   "language": "python",
   "name": "trubrics-venv"
  },
  "language_info": {
   "codemirror_mode": {
    "name": "ipython",
    "version": 3
   },
   "file_extension": ".py",
   "mimetype": "text/x-python",
   "name": "python",
   "nbconvert_exporter": "python",
   "pygments_lexer": "ipython3",
   "version": "3.7.9"
  }
 },
 "nbformat": 4,
 "nbformat_minor": 5
}
