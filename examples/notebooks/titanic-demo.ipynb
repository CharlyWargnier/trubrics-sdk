{
 "cells": [
  {
   "cell_type": "code",
   "execution_count": 1,
   "id": "38b47bf6",
   "metadata": {},
   "outputs": [],
   "source": [
    "import pandas as pd\n",
    "\n",
    "from sklearn.ensemble import RandomForestClassifier\n",
    "from sklearn.preprocessing import OneHotEncoder, MinMaxScaler\n",
    "from sklearn.impute import SimpleImputer\n",
    "from sklearn.pipeline import Pipeline\n",
    "from sklearn.compose import ColumnTransformer\n",
    "from sklearn.model_selection import train_test_split\n",
    "from sklearn.metrics import accuracy_score\n",
    "import joblib"
   ]
  },
  {
   "cell_type": "code",
   "execution_count": 2,
   "id": "4541671c",
   "metadata": {},
   "outputs": [],
   "source": [
    "train_df = pd.read_csv(\"../data/titanic_train.csv\")"
   ]
  },
  {
   "cell_type": "markdown",
   "id": "a176bd43",
   "metadata": {},
   "source": [
    "## Preprocess"
   ]
  },
  {
   "cell_type": "code",
   "execution_count": 3,
   "id": "b49f9f5b",
   "metadata": {},
   "outputs": [],
   "source": [
    "def _strip_title(row):\n",
    "    return row.split(\",\")[1].split(\".\")[0].replace(\" \", \"\")\n",
    "\n",
    "def preprocess(df):\n",
    "    return (\n",
    "        df\n",
    "        .assign(Title=lambda x: x[\"Name\"].apply(_strip_title))\n",
    "        .assign(Fare=lambda x: x[\"Fare\"].round(2))\n",
    "        .drop([\"Ticket\", \"Cabin\", \"Name\", \"PassengerId\"], axis=1)\n",
    "    )\n",
    "\n",
    "\n",
    "preprocessed_train = train_df.pipe(preprocess)"
   ]
  },
  {
   "cell_type": "markdown",
   "id": "76cf76dc",
   "metadata": {},
   "source": [
    "## Train"
   ]
  },
  {
   "cell_type": "code",
   "execution_count": 4,
   "id": "f5e7f3be",
   "metadata": {},
   "outputs": [
    {
     "data": {
      "text/plain": [
       "['../models/rf_model.pkl']"
      ]
     },
     "execution_count": 4,
     "metadata": {},
     "output_type": "execute_result"
    }
   ],
   "source": [
    "def init_training(categorical_features, numerical_features):\n",
    "    numeric_pipeline = Pipeline(steps=[\n",
    "        ('impute', SimpleImputer(strategy='mean')),\n",
    "        ('scale', MinMaxScaler())\n",
    "    ])\n",
    "\n",
    "    categorical_pipeline = Pipeline(steps=[\n",
    "        ('impute', SimpleImputer(strategy='most_frequent')),\n",
    "        ('one-hot', OneHotEncoder(handle_unknown='ignore', sparse=False))\n",
    "    ])\n",
    "\n",
    "    processor = ColumnTransformer(transformers=[\n",
    "        ('number', numeric_pipeline, numerical_features),\n",
    "        ('category', categorical_pipeline, categorical_features)\n",
    "    ])\n",
    "\n",
    "    pipeline = Pipeline(steps=[\n",
    "        ('processor', processor),\n",
    "        ('regressor', RandomForestClassifier(random_state=88))\n",
    "    ])\n",
    "    return pipeline\n",
    "\n",
    "\n",
    "#config\n",
    "TARGET = \"Survived\"\n",
    "CATEGORICAL_COLS = [\"Sex\", \"Embarked\", \"Title\"]\n",
    "NUMERICAL_COLS = [col for col in preprocessed_train.columns if col not in CATEGORICAL_COLS + [TARGET]]\n",
    "\n",
    "#model\n",
    "training_pipeline = init_training(CATEGORICAL_COLS, NUMERICAL_COLS)\n",
    "X_train, X_test, y_train, y_test = train_test_split(\n",
    "    preprocessed_train[CATEGORICAL_COLS+NUMERICAL_COLS],\n",
    "    preprocessed_train[TARGET],\n",
    "    test_size=0.33,\n",
    "    random_state=88,\n",
    ")\n",
    "rf_model = training_pipeline.fit(X_train, y_train)\n",
    "\n",
    "#save\n",
    "X_train.assign(Survived=y_train).to_csv(\"../data/preprocessed_train.csv\", index=False)\n",
    "X_test.assign(Survived=y_test).to_csv(\"../data/preprocessed_test.csv\", index=False)\n",
    "joblib.dump(rf_model, '../models/rf_model.pkl')"
   ]
  },
  {
   "cell_type": "markdown",
   "id": "aaba7266",
   "metadata": {},
   "source": [
    "## Evaluate"
   ]
  },
  {
   "cell_type": "code",
   "execution_count": 5,
   "id": "f3b3f329",
   "metadata": {},
   "outputs": [
    {
     "data": {
      "text/plain": [
       "0.7966101694915254"
      ]
     },
     "execution_count": 5,
     "metadata": {},
     "output_type": "execute_result"
    }
   ],
   "source": [
    "accuracy = accuracy_score(rf_model.predict(X_test), y_test)\n",
    "accuracy"
   ]
  },
  {
   "cell_type": "markdown",
   "id": "4933b061",
   "metadata": {},
   "source": [
    "## Explain"
   ]
  },
  {
   "cell_type": "code",
   "execution_count": 6,
   "id": "041057f2",
   "metadata": {},
   "outputs": [],
   "source": [
    "ohe_cols_raw = (\n",
    "    rf_model\n",
    "    .named_steps[\"processor\"]\n",
    "    .named_transformers_[\"category\"]\n",
    "    .named_steps[\"one-hot\"]\n",
    "    .get_feature_names_out()\n",
    ")\n",
    "OHE_COLS = [\n",
    "    col\n",
    "    .replace(\"x0\", \"Sex\")\n",
    "    .replace(\"x1\", \"Embarked\")\n",
    "    .replace(\"x2\", \"Title\")\n",
    "    for col in ohe_cols_raw\n",
    "]"
   ]
  },
  {
   "cell_type": "code",
   "execution_count": 7,
   "id": "c01e034d",
   "metadata": {},
   "outputs": [
    {
     "data": {
      "text/plain": [
       "{'Pclass': 0.08027485982957666,\n",
       " 'Age': 0.2109814530574326,\n",
       " 'SibSp': 0.0537446367930372,\n",
       " 'Parch': 0.036290576979770735,\n",
       " 'Fare': 0.23012234475361906,\n",
       " 'Sex_female': 0.0923012684295021,\n",
       " 'Sex_male': 0.08321571192982573,\n",
       " 'Embarked_C': 0.01263434518233411,\n",
       " 'Embarked_Q': 0.007338584769864529,\n",
       " 'Embarked_S': 0.015720887116309576,\n",
       " 'Title_Capt': 0.000784360481368511,\n",
       " 'Title_Col': 0.0012917613604970604,\n",
       " 'Title_Dr': 0.0017767470075199022,\n",
       " 'Title_Major': 0.0007732933748357258,\n",
       " 'Title_Master': 0.009336584354394672,\n",
       " 'Title_Miss': 0.02496022744830678,\n",
       " 'Title_Mlle': 0.00014551965218339622,\n",
       " 'Title_Mme': 8.535494893915394e-05,\n",
       " 'Title_Mr': 0.11288027520793507,\n",
       " 'Title_Mrs': 0.021862741975250895,\n",
       " 'Title_Ms': 0.00027664450523918956,\n",
       " 'Title_Rev': 0.002315642203376659,\n",
       " 'Title_Sir': 0.0008861786388808405}"
      ]
     },
     "execution_count": 7,
     "metadata": {},
     "output_type": "execute_result"
    }
   ],
   "source": [
    "feature_importance = {key: value for key, value in zip(NUMERICAL_COLS+OHE_COLS, rf_model.named_steps[\"regressor\"].feature_importances_)}\n",
    "feature_importance"
   ]
  },
  {
   "cell_type": "markdown",
   "id": "558d7ae3",
   "metadata": {},
   "source": [
    "## Init trubrics model"
   ]
  },
  {
   "cell_type": "code",
   "execution_count": 8,
   "id": "a003e2c4-74bc-48f4-b766-2d1ccd8b5056",
   "metadata": {},
   "outputs": [],
   "source": [
    "from trubrics.context import DataContext, ModelContext"
   ]
  },
  {
   "cell_type": "code",
   "execution_count": 9,
   "id": "164b70d3-6aff-4fa2-ba51-524ef4f25699",
   "metadata": {},
   "outputs": [],
   "source": [
    "data_context = DataContext(\n",
    "    name=\"my_datasource\",\n",
    "    training_data=X_train.assign(Survived=y_train),\n",
    "    testing_data=X_test.assign(Survived=y_test),\n",
    "    target_column=\"Survived\"\n",
    ")\n",
    "model_context = ModelContext(\n",
    "    name=\"my_model\",\n",
    "    version=\"0.1\",\n",
    "    estimator=rf_model,\n",
    "    evaluation_function=accuracy_score\n",
    ")"
   ]
  },
  {
   "cell_type": "code",
   "execution_count": 10,
   "id": "5e99bba3-065b-47bb-8858-7df580b9e032",
   "metadata": {},
   "outputs": [],
   "source": [
    "from trubrics.validators.sklearn import Validator"
   ]
  },
  {
   "cell_type": "code",
   "execution_count": 11,
   "id": "b991339f-3318-4741-b0a1-8ab05533e818",
   "metadata": {},
   "outputs": [],
   "source": [
    "model_validator = Validator(data=data_context, model=model_context)"
   ]
  },
  {
   "cell_type": "markdown",
   "id": "c586484c-a49c-4e25-bb09-8df9008a8d95",
   "metadata": {
    "tags": []
   },
   "source": [
    "## DS example tests"
   ]
  },
  {
   "cell_type": "code",
   "execution_count": 12,
   "id": "76440fef-3b53-4b58-8a61-faef07b48207",
   "metadata": {},
   "outputs": [],
   "source": [
    "edge_case = {\n",
    "    \"Sex\": \"male\",\n",
    "    \"Embarked\": \"S\",\n",
    "    \"Title\": \"Master\",\n",
    "    \"Pclass\": 2,\n",
    "    \"Age\": 28,\n",
    "    \"SibSp\": 0,\n",
    "    \"Parch\": 0,\n",
    "    \"Fare\": 37\n",
    "}"
   ]
  },
  {
   "cell_type": "code",
   "execution_count": 13,
   "id": "fe0aa688-2622-49c3-8ee7-827b66362fac",
   "metadata": {},
   "outputs": [
    {
     "data": {
      "text/plain": [
       "{'validation_type': 'validate_single_edge_case',\n",
       " 'validation_kwargs': {'args': [],\n",
       "  'kwargs': {'edge_case_data': {'Sex': 'male',\n",
       "    'Embarked': 'S',\n",
       "    'Title': 'Master',\n",
       "    'Pclass': 2,\n",
       "    'Age': 28,\n",
       "    'SibSp': 0,\n",
       "    'Parch': 0,\n",
       "    'Fare': 37},\n",
       "   'desired_output': 0}},\n",
       " 'outcome': 'fail',\n",
       " 'result': {'prediction': 1}}"
      ]
     },
     "execution_count": 13,
     "metadata": {},
     "output_type": "execute_result"
    }
   ],
   "source": [
    "robustness = [\n",
    "    model_validator.validate_single_edge_case(edge_case_data=edge_case, desired_output=0), # example of fail\n",
    "    model_validator.validate_single_edge_case(edge_case_data=edge_case, desired_output=1) # example of pass\n",
    "]\n",
    "robustness[0].dict()"
   ]
  },
  {
   "cell_type": "code",
   "execution_count": 14,
   "id": "90323425-1677-432e-a3c2-950565282e24",
   "metadata": {},
   "outputs": [
    {
     "data": {
      "text/plain": [
       "{'validation_type': 'validate_performance_against_threshold',\n",
       " 'validation_kwargs': {'args': [], 'kwargs': {'threshold': 0.8}},\n",
       " 'outcome': 'fail',\n",
       " 'result': {'performance': 0.7966101694915254}}"
      ]
     },
     "execution_count": 14,
     "metadata": {},
     "output_type": "execute_result"
    }
   ],
   "source": [
    "performance = [\n",
    "    model_validator.validate_performance_against_threshold(threshold=0.8),\n",
    "    model_validator.validate_performance_against_threshold(threshold=0.75)\n",
    "]\n",
    "performance[0].dict()"
   ]
  },
  {
   "cell_type": "code",
   "execution_count": 15,
   "id": "6641f5c1-8978-4866-83a0-ac40c69f75d1",
   "metadata": {},
   "outputs": [
    {
     "data": {
      "text/plain": [
       "{'validation_type': 'validate_biased_performance_across_category',\n",
       " 'validation_kwargs': {'args': [],\n",
       "  'kwargs': {'category': 'Embarked', 'threshold': 0.1}},\n",
       " 'outcome': 'fail',\n",
       " 'result': {'max_performance_difference': 0.15235267245317496}}"
      ]
     },
     "execution_count": 15,
     "metadata": {},
     "output_type": "execute_result"
    }
   ],
   "source": [
    "fairness = [\n",
    "    model_validator.validate_biased_performance_across_category(category=\"Embarked\", threshold=0.1),\n",
    "    model_validator.validate_biased_performance_across_category(category=\"Sex\", threshold=0.05)\n",
    "]\n",
    "fairness[0].dict()"
   ]
  },
  {
   "cell_type": "code",
   "execution_count": 16,
   "id": "ed68144d-70ef-438c-ba47-8141dbb7a731",
   "metadata": {},
   "outputs": [
    {
     "data": {
      "text/plain": [
       "{'validation_type': 'validate_feature_in_top_n_important_features',\n",
       " 'validation_kwargs': {'args': [],\n",
       "  'kwargs': {'feature': 'Sex_female',\n",
       "   'feature_importance': {'Pclass': 0.08027485982957666,\n",
       "    'Age': 0.2109814530574326,\n",
       "    'SibSp': 0.0537446367930372,\n",
       "    'Parch': 0.036290576979770735,\n",
       "    'Fare': 0.23012234475361906,\n",
       "    'Sex_female': 0.0923012684295021,\n",
       "    'Sex_male': 0.08321571192982573,\n",
       "    'Embarked_C': 0.01263434518233411,\n",
       "    'Embarked_Q': 0.007338584769864529,\n",
       "    'Embarked_S': 0.015720887116309576,\n",
       "    'Title_Capt': 0.000784360481368511,\n",
       "    'Title_Col': 0.0012917613604970604,\n",
       "    'Title_Dr': 0.0017767470075199022,\n",
       "    'Title_Major': 0.0007732933748357258,\n",
       "    'Title_Master': 0.009336584354394672,\n",
       "    'Title_Miss': 0.02496022744830678,\n",
       "    'Title_Mlle': 0.00014551965218339622,\n",
       "    'Title_Mme': 8.535494893915394e-05,\n",
       "    'Title_Mr': 0.11288027520793507,\n",
       "    'Title_Mrs': 0.021862741975250895,\n",
       "    'Title_Ms': 0.00027664450523918956,\n",
       "    'Title_Rev': 0.002315642203376659,\n",
       "    'Title_Sir': 0.0008861786388808405},\n",
       "   'top_n_features': 3}},\n",
       " 'outcome': 'fail',\n",
       " 'result': {'feature_importance_ranking': 3}}"
      ]
     },
     "execution_count": 16,
     "metadata": {},
     "output_type": "execute_result"
    }
   ],
   "source": [
    "explainability = [\n",
    "    model_validator.validate_feature_in_top_n_important_features(feature=\"Sex_female\", feature_importance=feature_importance, top_n_features=3),\n",
    "    model_validator.validate_feature_in_top_n_important_features(feature=\"Age\", feature_importance=feature_importance, top_n_features=2)\n",
    "]\n",
    "explainability[0].dict()"
   ]
  },
  {
   "cell_type": "markdown",
   "id": "82f4d137-430b-400d-b77c-6dff3f4ef190",
   "metadata": {},
   "source": [
    "## Business user example test"
   ]
  },
  {
   "cell_type": "code",
   "execution_count": 17,
   "id": "20239fd9",
   "metadata": {},
   "outputs": [
    {
     "data": {
      "text/plain": [
       "{'feedback_type': 'Other',\n",
       " 'metadata': {'description': 'model seems to have more errors for passengers who paid less - is this normal?',\n",
       "  'what_if_input': {'Sex': {'0': 'male'},\n",
       "   'Embarked': {'0': 'S'},\n",
       "   'Title': {'0': 'Master'},\n",
       "   'Pclass': {'0': 2},\n",
       "   'Age': {'0': 28},\n",
       "   'SibSp': {'0': 0},\n",
       "   'Parch': {'0': 0},\n",
       "   'Fare': {'0': 37}}}}"
      ]
     },
     "execution_count": 17,
     "metadata": {},
     "output_type": "execute_result"
    }
   ],
   "source": [
    "from trubrics.utils.loader import get_business_feedback_data\n",
    "# read test data and run single outlier test\n",
    "data = get_business_feedback_data(tracking=False)\n",
    "data"
   ]
  },
  {
   "cell_type": "markdown",
   "id": "a4840809-38fe-4da0-a6a7-dcdc8ab920e2",
   "metadata": {},
   "source": [
    "--> **DS response: \"It isn't normal, the model should not be more accurate for different groups of people. I'll add a test for this.\"**"
   ]
  },
  {
   "cell_type": "code",
   "execution_count": 18,
   "id": "870e0bb3-b995-483b-ba5e-975271486ad4",
   "metadata": {},
   "outputs": [],
   "source": [
    "from trubrics.base import BaseClassifier\n",
    "\n",
    "\n",
    "class CustomValidator(BaseClassifier):\n",
    "    def __init__(self, **kwargs):\n",
    "        super().__init__(**kwargs)\n",
    "\n",
    "    def test_performance_for_different_fares(self, fare_cutoff:int = 50):\n",
    "        errors_df = self.explore_test_set_errors()\n",
    "        number_of_errors_by_fare_ratio = (\n",
    "            errors_df.loc[lambda x: x[\"Fare\"] <= fare_cutoff].shape[0]\n",
    "            / errors_df.loc[lambda x: x[\"Fare\"] > fare_cutoff].shape[0]\n",
    "        )\n",
    "        print(number_of_errors_by_fare_ratio)\n",
    "        return number_of_errors_by_fare_ratio > 0.5 and number_of_errors_by_fare_ratio < 1.5"
   ]
  },
  {
   "cell_type": "code",
   "execution_count": 19,
   "id": "aecf1b64-6d66-44f5-955f-9fd75db8529e",
   "metadata": {},
   "outputs": [],
   "source": [
    "model_custom_validator = CustomValidator(data=data_context, model=model_context)"
   ]
  },
  {
   "cell_type": "code",
   "execution_count": 20,
   "id": "efcf10c3-2299-4cbb-860b-33e7b87208f9",
   "metadata": {},
   "outputs": [
    {
     "name": "stdout",
     "output_type": "stream",
     "text": [
      "1.3076923076923077\n"
     ]
    },
    {
     "data": {
      "text/plain": [
       "True"
      ]
     },
     "execution_count": 20,
     "metadata": {},
     "output_type": "execute_result"
    }
   ],
   "source": [
    "model_custom_validator.test_performance_for_different_fares(fare_cutoff=25)"
   ]
  },
  {
   "cell_type": "markdown",
   "id": "6c45ce41-d3f0-4e98-b638-7fb0ff817971",
   "metadata": {},
   "source": [
    "## Save Trubric"
   ]
  },
  {
   "cell_type": "code",
   "execution_count": 22,
   "id": "3731c309-f2e7-432e-a943-81be307dbee2",
   "metadata": {},
   "outputs": [
    {
     "data": {
      "text/plain": [
       "[ValidationContext(validation_type='validate_single_edge_case', validation_kwargs={'args': [], 'kwargs': {'edge_case_data': {'Sex': 'male', 'Embarked': 'S', 'Title': 'Master', 'Pclass': 2, 'Age': 28, 'SibSp': 0, 'Parch': 0, 'Fare': 37}, 'desired_output': 0}}, outcome='fail', result={'prediction': 1}),\n",
       " ValidationContext(validation_type='validate_single_edge_case', validation_kwargs={'args': [], 'kwargs': {'edge_case_data': {'Sex': 'male', 'Embarked': 'S', 'Title': 'Master', 'Pclass': 2, 'Age': 28, 'SibSp': 0, 'Parch': 0, 'Fare': 37}, 'desired_output': 1}}, outcome='pass', result={'prediction': 1}),\n",
       " ValidationContext(validation_type='validate_performance_against_threshold', validation_kwargs={'args': [], 'kwargs': {'threshold': 0.8}}, outcome='fail', result={'performance': 0.7966101694915254}),\n",
       " ValidationContext(validation_type='validate_performance_against_threshold', validation_kwargs={'args': [], 'kwargs': {'threshold': 0.75}}, outcome='pass', result={'performance': 0.7966101694915254}),\n",
       " ValidationContext(validation_type='validate_biased_performance_across_category', validation_kwargs={'args': [], 'kwargs': {'category': 'Embarked', 'threshold': 0.1}}, outcome='fail', result={'max_performance_difference': 0.15235267245317496}),\n",
       " ValidationContext(validation_type='validate_biased_performance_across_category', validation_kwargs={'args': [], 'kwargs': {'category': 'Sex', 'threshold': 0.05}}, outcome='pass', result={'max_performance_difference': 0.0361426429642322}),\n",
       " ValidationContext(validation_type='validate_feature_in_top_n_important_features', validation_kwargs={'args': [], 'kwargs': {'feature': 'Sex_female', 'feature_importance': {'Pclass': 0.08027485982957666, 'Age': 0.2109814530574326, 'SibSp': 0.0537446367930372, 'Parch': 0.036290576979770735, 'Fare': 0.23012234475361906, 'Sex_female': 0.0923012684295021, 'Sex_male': 0.08321571192982573, 'Embarked_C': 0.01263434518233411, 'Embarked_Q': 0.007338584769864529, 'Embarked_S': 0.015720887116309576, 'Title_Capt': 0.000784360481368511, 'Title_Col': 0.0012917613604970604, 'Title_Dr': 0.0017767470075199022, 'Title_Major': 0.0007732933748357258, 'Title_Master': 0.009336584354394672, 'Title_Miss': 0.02496022744830678, 'Title_Mlle': 0.00014551965218339622, 'Title_Mme': 8.535494893915394e-05, 'Title_Mr': 0.11288027520793507, 'Title_Mrs': 0.021862741975250895, 'Title_Ms': 0.00027664450523918956, 'Title_Rev': 0.002315642203376659, 'Title_Sir': 0.0008861786388808405}, 'top_n_features': 3}}, outcome='fail', result={'feature_importance_ranking': 3}),\n",
       " ValidationContext(validation_type='validate_feature_in_top_n_important_features', validation_kwargs={'args': [], 'kwargs': {'feature': 'Age', 'feature_importance': {'Pclass': 0.08027485982957666, 'Age': 0.2109814530574326, 'SibSp': 0.0537446367930372, 'Parch': 0.036290576979770735, 'Fare': 0.23012234475361906, 'Sex_female': 0.0923012684295021, 'Sex_male': 0.08321571192982573, 'Embarked_C': 0.01263434518233411, 'Embarked_Q': 0.007338584769864529, 'Embarked_S': 0.015720887116309576, 'Title_Capt': 0.000784360481368511, 'Title_Col': 0.0012917613604970604, 'Title_Dr': 0.0017767470075199022, 'Title_Major': 0.0007732933748357258, 'Title_Master': 0.009336584354394672, 'Title_Miss': 0.02496022744830678, 'Title_Mlle': 0.00014551965218339622, 'Title_Mme': 8.535494893915394e-05, 'Title_Mr': 0.11288027520793507, 'Title_Mrs': 0.021862741975250895, 'Title_Ms': 0.00027664450523918956, 'Title_Rev': 0.002315642203376659, 'Title_Sir': 0.0008861786388808405}, 'top_n_features': 2}}, outcome='pass', result={'feature_importance_ranking': 1})]"
      ]
     },
     "execution_count": 22,
     "metadata": {},
     "output_type": "execute_result"
    }
   ],
   "source": [
    "validations"
   ]
  },
  {
   "cell_type": "code",
   "execution_count": 21,
   "id": "124bdeea-c7bc-4833-b89c-c184f056045c",
   "metadata": {},
   "outputs": [],
   "source": [
    "from trubrics.context import TrubricContext\n",
    "\n",
    "validations = robustness + performance + fairness + explainability\n",
    "\n",
    "TrubricContext(\n",
    "    model_context=model_context,\n",
    "    data_context=data_context,\n",
    "    validations=validations\n",
    ").save(path=\"../data\")"
   ]
  },
  {
   "cell_type": "markdown",
   "id": "c0f6bdec-4f75-4856-9ce8-99deca4471bd",
   "metadata": {},
   "source": [
    "- metadata field for Trubric json\n",
    "- evaluation function name in perfromance tests and in trubric context"
   ]
  },
  {
   "cell_type": "code",
   "execution_count": null,
   "id": "6b0c0dd2-3430-4351-bf6c-f06fcdf244e8",
   "metadata": {},
   "outputs": [],
   "source": []
  }
 ],
 "metadata": {
  "kernelspec": {
   "display_name": "trubrics-venv",
   "language": "python",
   "name": "trubrics-venv"
  },
  "language_info": {
   "codemirror_mode": {
    "name": "ipython",
    "version": 3
   },
   "file_extension": ".py",
   "mimetype": "text/x-python",
   "name": "python",
   "nbconvert_exporter": "python",
   "pygments_lexer": "ipython3",
   "version": "3.7.9"
  }
 },
 "nbformat": 4,
 "nbformat_minor": 5
}
