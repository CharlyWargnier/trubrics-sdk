{
 "cells": [
  {
   "cell_type": "code",
   "execution_count": null,
   "id": "6472a57f-d084-4504-a34f-fafdf2534323",
   "metadata": {},
   "outputs": [],
   "source": [
    "import sys\n",
    "relative_root = \"../..\"\n",
    "sys.path.append(relative_root)"
   ]
  },
  {
   "cell_type": "code",
   "execution_count": null,
   "id": "38b47bf6",
   "metadata": {},
   "outputs": [],
   "source": [
    "import joblib\n",
    "import pandas as pd\n",
    "import numpy as np\n",
    "from sklearn.model_selection import train_test_split\n",
    "import json\n",
    "from examples.training import house_prices_config\n",
    "from scipy.stats import skew\n",
    "from pathlib import Path"
   ]
  },
  {
   "cell_type": "code",
   "execution_count": null,
   "id": "d5416550-c045-4653-87fd-40e92658ddc9",
   "metadata": {},
   "outputs": [],
   "source": [
    "train = pd.read_csv(Path(relative_root) / house_prices_config.LOCAL_RAW_TRAIN_FILENAME)"
   ]
  },
  {
   "cell_type": "code",
   "execution_count": null,
   "id": "98fa492e-d345-4ca9-87d0-1710b3dd5764",
   "metadata": {},
   "outputs": [],
   "source": [
    "#log transform the target:\n",
    "train[\"SalePrice\"] = np.log1p(train[\"SalePrice\"])\n",
    "\n",
    "#log transform skewed numeric features:\n",
    "numeric_feats = train.dtypes[train.dtypes != \"object\"].index\n",
    "\n",
    "skewed_feats = train[numeric_feats].apply(lambda x: skew(x.dropna())) #compute skewness\n",
    "skewed_feats = skewed_feats[skewed_feats > 0.75]\n",
    "skewed_feats = skewed_feats.index\n",
    "\n",
    "train[skewed_feats] = np.log1p(train[skewed_feats])"
   ]
  },
  {
   "cell_type": "code",
   "execution_count": null,
   "id": "5e02fc44-f0bf-4716-b078-77526d6c05af",
   "metadata": {},
   "outputs": [],
   "source": [
    "train = pd.get_dummies(train)"
   ]
  },
  {
   "cell_type": "code",
   "execution_count": null,
   "id": "f5596b18-a309-45ee-a82f-9b9fb3d73d98",
   "metadata": {},
   "outputs": [],
   "source": [
    "#filling NA's with the mean of the column:\n",
    "train = train.fillna(train.mean())"
   ]
  },
  {
   "cell_type": "code",
   "execution_count": null,
   "id": "c1a306a6-f04e-4805-aab2-ffd5e4842d64",
   "metadata": {},
   "outputs": [],
   "source": [
    "#creating matrices for sklearn:\n",
    "features = [col for col in train.columns if col != \"SalePrice\"]\n",
    "X_train, X_test, y_train, y_test = train_test_split(\n",
    "    train[features],\n",
    "    train[\"SalePrice\"],\n",
    "    test_size=0.33,\n",
    "    random_state=88,\n",
    ")"
   ]
  },
  {
   "cell_type": "code",
   "execution_count": null,
   "id": "b7d55c44-c1ba-4c7d-b990-2fe19d6456b2",
   "metadata": {},
   "outputs": [],
   "source": [
    "from sklearn.linear_model import Ridge\n",
    "from sklearn.metrics import mean_squared_error"
   ]
  },
  {
   "cell_type": "code",
   "execution_count": null,
   "id": "f516dbf0-6c5f-414f-8355-498fc24c47cd",
   "metadata": {},
   "outputs": [],
   "source": [
    "model_ridge = Ridge(alpha = 10, random_state=88).fit(X_train, y_train)"
   ]
  },
  {
   "cell_type": "code",
   "execution_count": null,
   "id": "00d7f1bd-2807-4689-aa33-4e2c24b3ce5f",
   "metadata": {},
   "outputs": [],
   "source": [
    "predictions = model_ridge.predict(X_test)"
   ]
  },
  {
   "cell_type": "code",
   "execution_count": null,
   "id": "467c9327-ac3c-4071-98f2-851253bbbcd8",
   "metadata": {},
   "outputs": [],
   "source": [
    "mean_squared_error(predictions, y_test, squared=False)"
   ]
  },
  {
   "cell_type": "markdown",
   "id": "c6211976-3cdd-49a7-a7cd-adafdfd2b22a",
   "metadata": {
    "tags": []
   },
   "source": [
    "## Init trubrics context"
   ]
  },
  {
   "cell_type": "code",
   "execution_count": null,
   "id": "a003e2c4-74bc-48f4-b766-2d1ccd8b5056",
   "metadata": {},
   "outputs": [],
   "source": [
    "from trubrics.context import DataContext"
   ]
  },
  {
   "cell_type": "code",
   "execution_count": null,
   "id": "164b70d3-6aff-4fa2-ba51-524ef4f25699",
   "metadata": {},
   "outputs": [],
   "source": [
    "data_context = DataContext(\n",
    "    name=\"house_prices_dataset\",\n",
    "    version=0.1,\n",
    "    training_data=X_train.assign(SalePrice=y_train),\n",
    "    testing_data=X_test.assign(SalePrice=y_test),\n",
    "    minimum_functionality_data=X_test.assign(SalePrice=y_test).head(),\n",
    "    target=\"SalePrice\"\n",
    ")"
   ]
  },
  {
   "cell_type": "markdown",
   "id": "460122d2-8c9d-4e47-85c4-e8f4d0c18fa1",
   "metadata": {},
   "source": [
    "## Init trubrics validator"
   ]
  },
  {
   "cell_type": "code",
   "execution_count": null,
   "id": "5e99bba3-065b-47bb-8858-7df580b9e032",
   "metadata": {},
   "outputs": [],
   "source": [
    "from trubrics.validations import ModelValidator"
   ]
  },
  {
   "cell_type": "code",
   "execution_count": null,
   "id": "b991339f-3318-4741-b0a1-8ab05533e818",
   "metadata": {},
   "outputs": [],
   "source": [
    "model_validator = ModelValidator(data=data_context, model=model_ridge)"
   ]
  },
  {
   "cell_type": "code",
   "execution_count": null,
   "id": "e2b37a17-2451-4fa3-85a0-6d98dad73d71",
   "metadata": {},
   "outputs": [],
   "source": [
    "model_validator.validate_performance_against_threshold(metric=\"neg_root_mean_squared_error\", threshold=-0.15).dict()"
   ]
  },
  {
   "cell_type": "code",
   "execution_count": null,
   "id": "97598af7-2e80-4d8a-aa89-01af71b9c72b",
   "metadata": {},
   "outputs": [],
   "source": [
    "model_validator.validate_minimum_functionality_in_range(range_value=0.1, range_inclusive=True)"
   ]
  },
  {
   "cell_type": "code",
   "execution_count": null,
   "id": "079f17a2-a373-4dd3-bb93-324a4a174709",
   "metadata": {},
   "outputs": [],
   "source": []
  }
 ],
 "metadata": {
  "kernelspec": {
   "display_name": "trubrics-venv",
   "language": "python",
   "name": "trubrics-venv"
  },
  "language_info": {
   "codemirror_mode": {
    "name": "ipython",
    "version": 3
   },
   "file_extension": ".py",
   "mimetype": "text/x-python",
   "name": "python",
   "nbconvert_exporter": "python",
   "pygments_lexer": "ipython3",
   "version": "3.7.9"
  }
 },
 "nbformat": 4,
 "nbformat_minor": 5
}
