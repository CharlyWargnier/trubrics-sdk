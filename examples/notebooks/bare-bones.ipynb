{
 "cells": [
  {
   "cell_type": "markdown",
   "id": "ea1f4270",
   "metadata": {},
   "source": [
    "# Bare Bones Example"
   ]
  },
  {
   "cell_type": "code",
   "execution_count": 1,
   "id": "8bea10f0-d706-4574-8f14-1e7e033cc2c4",
   "metadata": {},
   "outputs": [],
   "source": [
    "from sklearn.metrics import accuracy_score"
   ]
  },
  {
   "cell_type": "code",
   "execution_count": 2,
   "id": "ff3cfd24-ad17-431f-8911-cf16ab53743b",
   "metadata": {},
   "outputs": [],
   "source": [
    "import joblib\n",
    "model = joblib.load(\"../models/rf_model.pkl\")  # requires saved model (can use titanic-demo.ipynb to generate this)"
   ]
  },
  {
   "cell_type": "code",
   "execution_count": 3,
   "id": "1c5683ce-6678-407e-b75d-21771ca45056",
   "metadata": {},
   "outputs": [
    {
     "data": {
      "text/html": [
       "<div>\n",
       "<style scoped>\n",
       "    .dataframe tbody tr th:only-of-type {\n",
       "        vertical-align: middle;\n",
       "    }\n",
       "\n",
       "    .dataframe tbody tr th {\n",
       "        vertical-align: top;\n",
       "    }\n",
       "\n",
       "    .dataframe thead th {\n",
       "        text-align: right;\n",
       "    }\n",
       "</style>\n",
       "<table border=\"1\" class=\"dataframe\">\n",
       "  <thead>\n",
       "    <tr style=\"text-align: right;\">\n",
       "      <th></th>\n",
       "      <th>Sex</th>\n",
       "      <th>Embarked</th>\n",
       "      <th>Title</th>\n",
       "      <th>Pclass</th>\n",
       "      <th>Age</th>\n",
       "      <th>SibSp</th>\n",
       "      <th>Parch</th>\n",
       "      <th>Fare</th>\n",
       "      <th>Survived</th>\n",
       "    </tr>\n",
       "  </thead>\n",
       "  <tbody>\n",
       "    <tr>\n",
       "      <th>0</th>\n",
       "      <td>male</td>\n",
       "      <td>S</td>\n",
       "      <td>Master</td>\n",
       "      <td>3</td>\n",
       "      <td>6.0</td>\n",
       "      <td>0</td>\n",
       "      <td>1</td>\n",
       "      <td>12.48</td>\n",
       "      <td>1</td>\n",
       "    </tr>\n",
       "    <tr>\n",
       "      <th>1</th>\n",
       "      <td>male</td>\n",
       "      <td>S</td>\n",
       "      <td>Mr</td>\n",
       "      <td>3</td>\n",
       "      <td>29.0</td>\n",
       "      <td>0</td>\n",
       "      <td>0</td>\n",
       "      <td>8.05</td>\n",
       "      <td>0</td>\n",
       "    </tr>\n",
       "    <tr>\n",
       "      <th>2</th>\n",
       "      <td>female</td>\n",
       "      <td>C</td>\n",
       "      <td>Miss</td>\n",
       "      <td>3</td>\n",
       "      <td>9.0</td>\n",
       "      <td>1</td>\n",
       "      <td>1</td>\n",
       "      <td>15.25</td>\n",
       "      <td>0</td>\n",
       "    </tr>\n",
       "    <tr>\n",
       "      <th>3</th>\n",
       "      <td>male</td>\n",
       "      <td>Q</td>\n",
       "      <td>Mr</td>\n",
       "      <td>3</td>\n",
       "      <td>NaN</td>\n",
       "      <td>0</td>\n",
       "      <td>0</td>\n",
       "      <td>15.50</td>\n",
       "      <td>0</td>\n",
       "    </tr>\n",
       "    <tr>\n",
       "      <th>4</th>\n",
       "      <td>male</td>\n",
       "      <td>C</td>\n",
       "      <td>Mr</td>\n",
       "      <td>3</td>\n",
       "      <td>NaN</td>\n",
       "      <td>0</td>\n",
       "      <td>0</td>\n",
       "      <td>7.23</td>\n",
       "      <td>1</td>\n",
       "    </tr>\n",
       "  </tbody>\n",
       "</table>\n",
       "</div>"
      ],
      "text/plain": [
       "      Sex Embarked   Title  Pclass   Age  SibSp  Parch   Fare  Survived\n",
       "0    male        S  Master       3   6.0      0      1  12.48         1\n",
       "1    male        S      Mr       3  29.0      0      0   8.05         0\n",
       "2  female        C    Miss       3   9.0      1      1  15.25         0\n",
       "3    male        Q      Mr       3   NaN      0      0  15.50         0\n",
       "4    male        C      Mr       3   NaN      0      0   7.23         1"
      ]
     },
     "execution_count": 3,
     "metadata": {},
     "output_type": "execute_result"
    }
   ],
   "source": [
    "import pandas as pd\n",
    "test_df = pd.read_csv(\"../data/preprocessed_test.csv\") # requires saved data (can use titanic-demo.ipynb to generate this)\n",
    "test_df.head()"
   ]
  },
  {
   "cell_type": "code",
   "execution_count": 4,
   "id": "3998902b-240b-447e-a807-40dc425e090e",
   "metadata": {},
   "outputs": [],
   "source": [
    "from trubrics.context import DataContext, ModelContext\n",
    "data_context = DataContext(\n",
    "    name=\"my_dataset\",\n",
    "    testing_data=test_df,\n",
    "    target_column=\"Survived\"\n",
    ")\n",
    "model_context = ModelContext(\n",
    "    name=\"my_model\",\n",
    "    version=\"0.1\",\n",
    "    estimator=model,\n",
    "    evaluation_function=accuracy_score\n",
    ")"
   ]
  },
  {
   "cell_type": "code",
   "execution_count": 5,
   "id": "572db6c0-a5a7-4b95-a77b-2ec744468602",
   "metadata": {},
   "outputs": [],
   "source": [
    "from trubrics.validators.base import Validator\n",
    "model_validator = Validator(data=data_context, model=model_context)"
   ]
  },
  {
   "cell_type": "code",
   "execution_count": 6,
   "id": "eefe00bd-51fb-4f05-b0ba-df4920c7dcd1",
   "metadata": {},
   "outputs": [
    {
     "data": {
      "text/plain": [
       "['Sex', 'Embarked', 'Title', 'Pclass', 'Age', 'SibSp', 'Parch', 'Fare']"
      ]
     },
     "execution_count": 6,
     "metadata": {},
     "output_type": "execute_result"
    }
   ],
   "source": [
    "# trubrics model validator has some utils methods...\n",
    "data_context.features"
   ]
  },
  {
   "cell_type": "code",
   "execution_count": 7,
   "id": "ea9769d2-0b9b-4e24-8ef9-68c88e4302ca",
   "metadata": {},
   "outputs": [
    {
     "data": {
      "text/plain": [
       "{'validation_type': 'validate_performance_against_threshold',\n",
       " 'validation_kwargs': {'args': [], 'kwargs': {'threshold': 0.8}},\n",
       " 'outcome': 'fail',\n",
       " 'result': {'performance': '0.7966101694915254'}}"
      ]
     },
     "execution_count": 7,
     "metadata": {},
     "output_type": "execute_result"
    }
   ],
   "source": [
    "# ... and many pre-built tests\n",
    "my_first_validation = model_validator.validate_performance_against_threshold(threshold=0.8)\n",
    "my_first_validation.dict()"
   ]
  },
  {
   "cell_type": "code",
   "execution_count": 8,
   "id": "05e69460-d921-4027-a5d3-602bdf4d1a42",
   "metadata": {},
   "outputs": [],
   "source": [
    "# ... and an object to save all of your tests in a json file\n",
    "from trubrics.context import TrubricContext\n",
    "\n",
    "TrubricContext(\n",
    "    name=\"my_first_trubric\",\n",
    "    model_context=model_context,\n",
    "    data_context=data_context,\n",
    "    validations=[my_first_validation],\n",
    ").save(path=\"../data\")"
   ]
  },
  {
   "cell_type": "code",
   "execution_count": null,
   "id": "9b8ce29a-33a1-4f23-94b9-765657097581",
   "metadata": {},
   "outputs": [],
   "source": []
  }
 ],
 "metadata": {
  "kernelspec": {
   "display_name": "trubrics-venv",
   "language": "python",
   "name": "trubrics-venv"
  },
  "language_info": {
   "codemirror_mode": {
    "name": "ipython",
    "version": 3
   },
   "file_extension": ".py",
   "mimetype": "text/x-python",
   "name": "python",
   "nbconvert_exporter": "python",
   "pygments_lexer": "ipython3",
   "version": "3.7.9"
  }
 },
 "nbformat": 4,
 "nbformat_minor": 5
}
