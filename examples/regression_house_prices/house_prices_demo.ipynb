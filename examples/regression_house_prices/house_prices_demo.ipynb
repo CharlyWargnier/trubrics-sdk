{
 "cells": [
  {
   "cell_type": "markdown",
   "id": "3063cf1d-ed74-415c-917a-10e5093ff108",
   "metadata": {},
   "source": [
    "This example of a regression model is from Kaggle's [house prices prediction](https://www.kaggle.com/c/house-prices-advanced-regression-techniques) use case."
   ]
  },
  {
   "cell_type": "markdown",
   "id": "4f55600c-0759-47d0-a0f6-0f13da58f177",
   "metadata": {
    "tags": []
   },
   "source": [
    "# Train a model"
   ]
  },
  {
   "cell_type": "code",
   "execution_count": null,
   "id": "38b47bf6",
   "metadata": {},
   "outputs": [],
   "source": [
    "import pandas as pd\n",
    "import numpy as np\n",
    "from sklearn.model_selection import train_test_split\n",
    "from scipy.stats import skew"
   ]
  },
  {
   "cell_type": "code",
   "execution_count": null,
   "id": "d5416550-c045-4653-87fd-40e92658ddc9",
   "metadata": {},
   "outputs": [],
   "source": [
    "train = pd.read_csv(\"./train.csv\")"
   ]
  },
  {
   "cell_type": "code",
   "execution_count": null,
   "id": "98fa492e-d345-4ca9-87d0-1710b3dd5764",
   "metadata": {},
   "outputs": [],
   "source": [
    "#log transform the target\n",
    "train[\"SalePrice\"] = np.log1p(train[\"SalePrice\"])\n",
    "\n",
    "#log transform skewed numeric features\n",
    "numeric_feats = train.dtypes[train.dtypes != \"object\"].index\n",
    "\n",
    "skewed_feats = train[numeric_feats].apply(lambda x: skew(x.dropna())) #compute skewness\n",
    "skewed_feats = skewed_feats[skewed_feats > 0.75]\n",
    "skewed_feats = skewed_feats.index\n",
    "\n",
    "train[skewed_feats] = np.log1p(train[skewed_feats])"
   ]
  },
  {
   "cell_type": "code",
   "execution_count": null,
   "id": "5e02fc44-f0bf-4716-b078-77526d6c05af",
   "metadata": {},
   "outputs": [],
   "source": [
    "train = pd.get_dummies(train)"
   ]
  },
  {
   "cell_type": "code",
   "execution_count": null,
   "id": "f5596b18-a309-45ee-a82f-9b9fb3d73d98",
   "metadata": {},
   "outputs": [],
   "source": [
    "#filling NA's with the mean of the column\n",
    "train = train.fillna(train.mean())"
   ]
  },
  {
   "cell_type": "code",
   "execution_count": null,
   "id": "c1a306a6-f04e-4805-aab2-ffd5e4842d64",
   "metadata": {},
   "outputs": [],
   "source": [
    "#creating matrices for sklearn\n",
    "features = [col for col in train.columns if col != \"SalePrice\"]\n",
    "X_train, X_test, y_train, y_test = train_test_split(\n",
    "    train[features],\n",
    "    train[\"SalePrice\"],\n",
    "    test_size=0.33,\n",
    "    random_state=88,\n",
    ")"
   ]
  },
  {
   "cell_type": "code",
   "execution_count": null,
   "id": "b7d55c44-c1ba-4c7d-b990-2fe19d6456b2",
   "metadata": {},
   "outputs": [],
   "source": [
    "from sklearn.linear_model import Ridge\n",
    "from sklearn.metrics import mean_squared_error"
   ]
  },
  {
   "cell_type": "code",
   "execution_count": null,
   "id": "f516dbf0-6c5f-414f-8355-498fc24c47cd",
   "metadata": {},
   "outputs": [],
   "source": [
    "model_ridge = Ridge(alpha = 10, random_state=88).fit(X_train, y_train)"
   ]
  },
  {
   "cell_type": "code",
   "execution_count": null,
   "id": "00d7f1bd-2807-4689-aa33-4e2c24b3ce5f",
   "metadata": {},
   "outputs": [],
   "source": [
    "predictions = model_ridge.predict(X_test)"
   ]
  },
  {
   "cell_type": "code",
   "execution_count": null,
   "id": "467c9327-ac3c-4071-98f2-851253bbbcd8",
   "metadata": {},
   "outputs": [],
   "source": [
    "mean_squared_error(predictions, y_test, squared=False)"
   ]
  },
  {
   "cell_type": "markdown",
   "id": "c6211976-3cdd-49a7-a7cd-adafdfd2b22a",
   "metadata": {
    "tags": []
   },
   "source": [
    "## Init DataContext"
   ]
  },
  {
   "cell_type": "code",
   "execution_count": null,
   "id": "a003e2c4-74bc-48f4-b766-2d1ccd8b5056",
   "metadata": {},
   "outputs": [],
   "source": [
    "from trubrics.context import DataContext"
   ]
  },
  {
   "cell_type": "code",
   "execution_count": null,
   "id": "164b70d3-6aff-4fa2-ba51-524ef4f25699",
   "metadata": {},
   "outputs": [],
   "source": [
    "data_context = DataContext(\n",
    "    name=\"house_prices_dataset\",\n",
    "    version=\"0.0.1\",\n",
    "    training_data=X_train.assign(SalePrice=y_train),\n",
    "    testing_data=X_test.assign(SalePrice=y_test),\n",
    "    minimum_functionality_data=X_test.assign(SalePrice=y_test).head(),\n",
    "    target=\"SalePrice\"\n",
    ")"
   ]
  },
  {
   "cell_type": "markdown",
   "id": "460122d2-8c9d-4e47-85c4-e8f4d0c18fa1",
   "metadata": {},
   "source": [
    "## Build model validations"
   ]
  },
  {
   "cell_type": "code",
   "execution_count": null,
   "id": "5e99bba3-065b-47bb-8858-7df580b9e032",
   "metadata": {},
   "outputs": [],
   "source": [
    "from trubrics.validations import ModelValidator"
   ]
  },
  {
   "cell_type": "code",
   "execution_count": null,
   "id": "b991339f-3318-4741-b0a1-8ab05533e818",
   "metadata": {},
   "outputs": [],
   "source": [
    "model_validator = ModelValidator(data=data_context, model=model_ridge)"
   ]
  },
  {
   "cell_type": "code",
   "execution_count": null,
   "id": "e2b37a17-2451-4fa3-85a0-6d98dad73d71",
   "metadata": {},
   "outputs": [],
   "source": [
    "validations = [\n",
    "    model_validator.validate_performance_against_threshold(metric=\"neg_root_mean_squared_error\", threshold=-0.15),\n",
    "    model_validator.validate_performance_between_train_and_test(metric=\"neg_root_mean_squared_error\", threshold=0.3),\n",
    "    model_validator.validate_minimum_functionality_in_range(range_value=0.1, range_inclusive=True)\n",
    "]"
   ]
  },
  {
   "cell_type": "markdown",
   "id": "f4d667c7-0633-4629-89cb-80b89f61403c",
   "metadata": {},
   "source": [
    "## Group validations in a trubric"
   ]
  },
  {
   "cell_type": "code",
   "execution_count": null,
   "id": "124bdeea-c7bc-4833-b89c-c184f056045c",
   "metadata": {},
   "outputs": [],
   "source": [
    "from trubrics.validations import Trubric\n",
    "\n",
    "trubric = Trubric(\n",
    "    name=\"regression_trubric\",\n",
    "    model_name=\"my_model\",\n",
    "    model_version=\"0.0.1\",\n",
    "    data_context_name=data_context.name,\n",
    "    data_context_version=data_context.version,\n",
    "    tags=[\"nb-demo\"],\n",
    "    validations=validations,\n",
    ")"
   ]
  },
  {
   "cell_type": "markdown",
   "id": "f3dfcdd2-8f49-432a-9abb-d8fd72a034f7",
   "metadata": {},
   "source": [
    "## Save Locally"
   ]
  },
  {
   "cell_type": "code",
   "execution_count": null,
   "id": "792e0cd3-8c54-459c-b7db-3f0134f6faf8",
   "metadata": {},
   "outputs": [],
   "source": [
    "# save trubric to a local .json\n",
    "trubric.save_local(path=\"regression_trubric.json\")"
   ]
  },
  {
   "cell_type": "markdown",
   "id": "a435f9af-8462-464e-8741-ba31267128ab",
   "metadata": {},
   "source": [
    "## Save trubric to the Trubrics platform"
   ]
  },
  {
   "cell_type": "markdown",
   "id": "bd4701e9-efc4-434b-b343-5429370c7c40",
   "metadata": {},
   "source": [
    "First, we run `trubrics init` to connect to the platform:"
   ]
  },
  {
   "cell_type": "code",
   "execution_count": null,
   "id": "74003a73-34c0-4710-9e5d-4cbb460b53a3",
   "metadata": {},
   "outputs": [],
   "source": [
    "import os\n",
    "import getpass\n",
    "os.environ[\"TRUBRICS_CONFIG_EMAIL\"] = input(\"Enter your Trubrics account email:\")\n",
    "os.environ[\"TRUBRICS_CONFIG_PASSWORD\"] = getpass.getpass(\"Enter your password:\")\n",
    "os.environ[\"TRUBRICS_PROJECT_NAME\"] = input(\"Enter your Trubrics project name:\")"
   ]
  },
  {
   "cell_type": "code",
   "execution_count": null,
   "id": "db3e51d2-bb3b-4071-aed6-7c11f77d7b77",
   "metadata": {},
   "outputs": [],
   "source": [
    "! trubrics init --trubrics-user --project-name \"$TRUBRICS_PROJECT_NAME\""
   ]
  },
  {
   "cell_type": "markdown",
   "id": "e0f7a99f-949e-4259-bd4f-072971f6812b",
   "metadata": {},
   "source": [
    "Now we can save our `trubric` (or `new_trubric`) with the save_ui() method directly from our notebook, or a python script:"
   ]
  },
  {
   "cell_type": "code",
   "execution_count": null,
   "id": "bf29db54-3c01-4bf2-9fea-6ecd3e983023",
   "metadata": {},
   "outputs": [],
   "source": [
    "try:\n",
    "    trubric.save_ui()\n",
    "except Exception as e:\n",
    "    print(f\"Error in saving to the Trubrics platform:\\n{e}\")"
   ]
  },
  {
   "cell_type": "markdown",
   "id": "15220c3a-26f0-4324-8114-eb5aa8859446",
   "metadata": {},
   "source": [
    "or we can save it within an automated pipeline with the CLI:"
   ]
  },
  {
   "cell_type": "code",
   "execution_count": null,
   "id": "da42a01d-5c4f-4ded-8000-660572bcb99b",
   "metadata": {},
   "outputs": [],
   "source": [
    "! trubrics run \\\n",
    "  --save-ui \\\n",
    "  --run-context-path titanic-example-trubric \\\n",
    "  --trubric-output-file-path \"cli_demo_trubric.json\""
   ]
  },
  {
   "cell_type": "markdown",
   "id": "6448034c-211c-4f2b-8e2a-e4b9f2c2b309",
   "metadata": {},
   "source": [
    "Note: this demo of our CLI will run our example trubric, not the trubric that we have saved in this tutorial."
   ]
  }
 ],
 "metadata": {
  "kernelspec": {
   "display_name": "venv37",
   "language": "python",
   "name": "venv37"
  },
  "language_info": {
   "codemirror_mode": {
    "name": "ipython",
    "version": 3
   },
   "file_extension": ".py",
   "mimetype": "text/x-python",
   "name": "python",
   "nbconvert_exporter": "python",
   "pygments_lexer": "ipython3",
   "version": "3.7.9"
  }
 },
 "nbformat": 4,
 "nbformat_minor": 5
}
