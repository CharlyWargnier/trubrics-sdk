{
 "cells": [
  {
   "cell_type": "code",
   "execution_count": null,
   "id": "9edf54a3",
   "metadata": {
    "_cell_guid": "b1076dfc-b9ad-4769-8c92-a6c4dae69d19",
    "_uuid": "8f2839f25d086af736a60e9eeb907d3b93b6e0e5",
    "papermill": {
     "duration": 0.092878,
     "end_time": "2022-02-28T23:24:54.078101",
     "exception": false,
     "start_time": "2022-02-28T23:24:53.985223",
     "status": "completed"
    },
    "tags": []
   },
   "outputs": [],
   "source": [
    "import numpy as np \n",
    "import pandas as pd \n",
    "import matplotlib.pyplot as plt"
   ]
  },
  {
   "cell_type": "code",
   "execution_count": null,
   "id": "6e906fcf-d8b3-4083-8fcb-d6a2687c2b5b",
   "metadata": {},
   "outputs": [],
   "source": [
    "path = 'store-sales-time-series-forecasting/'"
   ]
  },
  {
   "cell_type": "code",
   "execution_count": null,
   "id": "8ebac561",
   "metadata": {
    "papermill": {
     "duration": 2.927841,
     "end_time": "2022-02-28T23:24:57.066462",
     "exception": false,
     "start_time": "2022-02-28T23:24:54.138621",
     "status": "completed"
    },
    "tags": []
   },
   "outputs": [],
   "source": [
    "train_df = pd.read_csv(path + 'train.csv',index_col='id')\n",
    "test_df = pd.read_csv(path + 'test.csv',index_col='id')"
   ]
  },
  {
   "cell_type": "markdown",
   "id": "fdffb6ee",
   "metadata": {
    "papermill": {
     "duration": 0.055903,
     "end_time": "2022-02-28T23:24:57.179389",
     "exception": false,
     "start_time": "2022-02-28T23:24:57.123486",
     "status": "completed"
    },
    "tags": []
   },
   "source": [
    "# Explanatory Data Analysis"
   ]
  },
  {
   "cell_type": "code",
   "execution_count": null,
   "id": "2586f382",
   "metadata": {
    "papermill": {
     "duration": 20.559426,
     "end_time": "2022-02-28T23:25:17.934053",
     "exception": false,
     "start_time": "2022-02-28T23:24:57.374627",
     "status": "completed"
    },
    "tags": []
   },
   "outputs": [],
   "source": [
    "#change date datatype as datetime\n",
    "train_df.date = pd.to_datetime(train_df.date)\n",
    "test_df.date= pd.to_datetime(test_df.date)\n",
    "\n",
    "train_df['year'] = train_df.date.dt.year\n",
    "test_df['year'] = test_df.date.dt.year\n",
    "\n",
    "train_df['month'] = train_df.date.dt.month\n",
    "test_df['month'] = test_df.date.dt.month\n",
    "\n",
    "train_df['dayofmonth'] = train_df.date.dt.day\n",
    "test_df['dayofmonth'] = test_df.date.dt.day\n",
    "\n",
    "train_df['dayofweek'] = train_df.date.dt.dayofweek\n",
    "test_df['dayofweek'] = test_df.date.dt.dayofweek\n",
    "\n",
    "train_df['dayname'] = train_df.date.dt.strftime('%A')\n",
    "test_df['dayname'] = test_df.date.dt.strftime('%A')"
   ]
  },
  {
   "cell_type": "markdown",
   "id": "f67422c6",
   "metadata": {
    "papermill": {
     "duration": 0.093188,
     "end_time": "2022-02-28T23:25:18.119885",
     "exception": false,
     "start_time": "2022-02-28T23:25:18.026697",
     "status": "completed"
    },
    "tags": []
   },
   "source": [
    "<font size=4>In this competition, need to predict the sales of stores the last two weeks of August 2017. <font>"
   ]
  },
  {
   "cell_type": "markdown",
   "id": "05d09cad",
   "metadata": {
    "papermill": {
     "duration": 0.096201,
     "end_time": "2022-02-28T23:26:00.729363",
     "exception": false,
     "start_time": "2022-02-28T23:26:00.633162",
     "status": "completed"
    },
    "tags": []
   },
   "source": [
    "# Oil CSV"
   ]
  },
  {
   "cell_type": "code",
   "execution_count": null,
   "id": "1a9a19bc",
   "metadata": {
    "papermill": {
     "duration": 0.245829,
     "end_time": "2022-02-28T23:26:02.177641",
     "exception": false,
     "start_time": "2022-02-28T23:26:01.931812",
     "status": "completed"
    },
    "tags": []
   },
   "outputs": [],
   "source": [
    "import datetime\n",
    "\n",
    "oil = pd.read_csv(path + 'oil.csv',index_col='date')\n",
    "#some days are skipped. Filling up the gap.\n",
    "\n",
    "start_date = train_df.date.min() \n",
    "# from beggining of the train date and the end of test date\n",
    "number_of_days = 1704 #1703\n",
    "date_list = [(start_date + datetime.timedelta(days = day)).isoformat() for day in range(number_of_days)]\n",
    "\n",
    "date = (pd.Series(date_list)).to_frame()\n",
    "date.columns = ['date']\n",
    "date.date = pd.to_datetime(date.date)\n",
    "date['date_str'] = date.date.astype(str)\n",
    "oil['date_str'] = oil.index.astype(str)\n",
    "\n",
    "oil = pd.merge(date,oil,how='left',on='date_str')\n",
    "\n"
   ]
  },
  {
   "cell_type": "code",
   "execution_count": null,
   "id": "e4673f10",
   "metadata": {
    "papermill": {
     "duration": 0.105386,
     "end_time": "2022-02-28T23:26:02.795155",
     "exception": false,
     "start_time": "2022-02-28T23:26:02.689769",
     "status": "completed"
    },
    "tags": []
   },
   "outputs": [],
   "source": [
    "oil = oil.set_index('date').dcoilwtico.interpolate(method='linear').to_frame()\n",
    "#oil.set_index('date').dcoilwtico.plot();\n",
    "\n"
   ]
  },
  {
   "cell_type": "code",
   "execution_count": null,
   "id": "c1dac441",
   "metadata": {
    "papermill": {
     "duration": 0.121255,
     "end_time": "2022-02-28T23:26:03.010064",
     "exception": false,
     "start_time": "2022-02-28T23:26:02.888809",
     "status": "completed"
    },
    "tags": []
   },
   "outputs": [],
   "source": [
    "oil['date_str'] = oil.index.astype(str)\n"
   ]
  },
  {
   "cell_type": "code",
   "execution_count": null,
   "id": "990be0ea",
   "metadata": {
    "papermill": {
     "duration": 20.954696,
     "end_time": "2022-02-28T23:26:24.058281",
     "exception": false,
     "start_time": "2022-02-28T23:26:03.103585",
     "status": "completed"
    },
    "tags": []
   },
   "outputs": [],
   "source": [
    "# add oil price to the train date\n",
    "train_df['date_str'] = train_df.date.astype(str)\n",
    "\n",
    "train_df = pd.merge(train_df,oil,how='left',on='date_str')\n",
    "train_df.drop(columns='date_str',axis=1,inplace=True)\n"
   ]
  },
  {
   "cell_type": "code",
   "execution_count": null,
   "id": "d03f444d",
   "metadata": {
    "papermill": {
     "duration": 0.30112,
     "end_time": "2022-02-28T23:26:24.507580",
     "exception": false,
     "start_time": "2022-02-28T23:26:24.206460",
     "status": "completed"
    },
    "tags": []
   },
   "outputs": [],
   "source": [
    "test_df['date_str'] = test_df.date.astype(str)\n",
    "test_df = pd.merge(test_df,oil,how='left', on='date_str')\n",
    "\n",
    "test_df.drop(columns='date_str',axis=1,inplace=True)"
   ]
  },
  {
   "cell_type": "markdown",
   "id": "28485153",
   "metadata": {
    "papermill": {
     "duration": 0.097611,
     "end_time": "2022-02-28T23:26:25.416115",
     "exception": false,
     "start_time": "2022-02-28T23:26:25.318504",
     "status": "completed"
    },
    "tags": []
   },
   "source": [
    "<font size =4> Some product family (Home Care,Magazines,Home and Kitchen II,Produce,Home and Kitchen I)<br>\n",
    "    have slightly stronger correlationship with the oil price.\n",
    "    </font>"
   ]
  },
  {
   "cell_type": "markdown",
   "id": "66b5afc1",
   "metadata": {
    "papermill": {
     "duration": 0.097854,
     "end_time": "2022-02-28T23:26:25.611611",
     "exception": false,
     "start_time": "2022-02-28T23:26:25.513757",
     "status": "completed"
    },
    "tags": []
   },
   "source": [
    "# Stores CSV"
   ]
  },
  {
   "cell_type": "code",
   "execution_count": null,
   "id": "c8e3b48c",
   "metadata": {
    "papermill": {
     "duration": 1.134934,
     "end_time": "2022-02-28T23:26:26.843854",
     "exception": false,
     "start_time": "2022-02-28T23:26:25.708920",
     "status": "completed"
    },
    "tags": []
   },
   "outputs": [],
   "source": [
    "stores = pd.read_csv(path + 'stores.csv',index_col='store_nbr')\n",
    "train_df = pd.merge(train_df,stores,how='left',on='store_nbr')\n",
    "test_df = pd.merge(test_df,stores,how='left',on='store_nbr')"
   ]
  },
  {
   "cell_type": "markdown",
   "id": "f9874045",
   "metadata": {
    "papermill": {
     "duration": 0.169453,
     "end_time": "2022-02-28T23:26:35.126232",
     "exception": false,
     "start_time": "2022-02-28T23:26:34.956779",
     "status": "completed"
    },
    "tags": []
   },
   "source": [
    "# Holidays_Events.CSV"
   ]
  },
  {
   "cell_type": "code",
   "execution_count": null,
   "id": "f630479a",
   "metadata": {
    "papermill": {
     "duration": 26.210489,
     "end_time": "2022-02-28T23:27:01.456651",
     "exception": false,
     "start_time": "2022-02-28T23:26:35.246162",
     "status": "completed"
    },
    "tags": []
   },
   "outputs": [],
   "source": [
    "holiday_df = pd.read_csv(path + 'holidays_events.csv')\n",
    "holiday_df.query('transferred==True')\n",
    "\n",
    "# transferred day is not celebrated\n",
    "holiday_df = holiday_df.query('transferred ==False')\n",
    "holiday_df.description = holiday_df.description.str.replace('Traslado ','')\n",
    "\n",
    "#national\n",
    "national = holiday_df.query('locale==\"National\"')\n",
    "\n",
    "day_off = national.query('type!=\"Work Day\" or type!=\"Event\"').set_index('date')['description'].to_dict()\n",
    "\n",
    "train_df['date_str'] = train_df.date.astype(str)\n",
    "test_df['date_str'] = test_df.date.astype(str)\n",
    "\n",
    "train_df['national_holiday'] = [1 if a in day_off else 0 for a in train_df.date_str]\n",
    "test_df['national_holiday'] = [1 if a in day_off else 0 for a in test_df.date_str]\n",
    "\n",
    "event = national.query('type==\"Event\"').set_index('date')['description'].to_dict()\n",
    "\n",
    "train_df['national_event'] =[1 if a in event else 0 for a in train_df.date_str]\n",
    "test_df['national_event'] =[1 if a in event else 0 for a in test_df.date_str]\n",
    "\n",
    "work_day = national.query('type==\"Work Day\"').set_index('date')['description'].to_dict()\n",
    "train_df['national_workday'] = [1 if a in work_day else 0 for a in train_df.date_str]\n",
    "test_df['national_workday'] = [1 if a in work_day else 0 for a in test_df.date_str]\n",
    "\n",
    "#weekend\n",
    "train_df['weekend'] = [1 if a>=5 else 0 for a in train_df.dayofweek]\n",
    "test_df['weekend'] = [1 if a>=5 else 0 for a in test_df.dayofweek]"
   ]
  },
  {
   "cell_type": "code",
   "execution_count": null,
   "id": "b03c591e",
   "metadata": {
    "papermill": {
     "duration": 0.108616,
     "end_time": "2022-02-28T23:27:01.665969",
     "exception": false,
     "start_time": "2022-02-28T23:27:01.557353",
     "status": "completed"
    },
    "tags": []
   },
   "outputs": [],
   "source": [
    "train_df.columns"
   ]
  },
  {
   "cell_type": "code",
   "execution_count": null,
   "id": "137b6bbf",
   "metadata": {
    "papermill": {
     "duration": 1.949095,
     "end_time": "2022-02-28T23:27:03.714507",
     "exception": false,
     "start_time": "2022-02-28T23:27:01.765412",
     "status": "completed"
    },
    "tags": []
   },
   "outputs": [],
   "source": [
    "#locale\n",
    "#locale is corresponding to city of train_df\n",
    "local = holiday_df.query('locale==\"Local\"')\n",
    "local_dic = local.set_index('date').locale_name.to_dict()\n",
    "train_df['local_holiday']=[1 if b in local_dic and local_dic[b]== a else 0 for a,b in zip(train_df.city,train_df.date_str)]\n",
    "test_df['local_holiday']=[1 if b in local_dic and local_dic[b]== a else 0 for a,b in zip(test_df.city,test_df.date_str)]"
   ]
  },
  {
   "cell_type": "code",
   "execution_count": null,
   "id": "5a860b4f",
   "metadata": {
    "papermill": {
     "duration": 1.954202,
     "end_time": "2022-02-28T23:27:05.767999",
     "exception": false,
     "start_time": "2022-02-28T23:27:03.813797",
     "status": "completed"
    },
    "tags": []
   },
   "outputs": [],
   "source": [
    "#Regional\n",
    "#Regional is corresonding to state of train_df\n",
    "regional = holiday_df.query('locale==\"Regional\"')\n",
    "regional_dic = regional.set_index('date').locale_name.to_dict()\n",
    "train_df['regional_holiday']= [1 if b in regional_dic and regional_dic[b]== a else 0 for a,b in zip(train_df.state,train_df.date_str)]\n",
    "test_df['regional_holiday']= [1 if b in regional_dic and regional_dic[b]== a else 0 for a,b in zip(test_df.state,test_df.date_str)]\n",
    "\n"
   ]
  },
  {
   "cell_type": "markdown",
   "id": "b2f7622b",
   "metadata": {
    "papermill": {
     "duration": 0.107074,
     "end_time": "2022-02-28T23:27:05.982328",
     "exception": false,
     "start_time": "2022-02-28T23:27:05.875254",
     "status": "completed"
    },
    "tags": []
   },
   "source": [
    "# Transaction.CSV "
   ]
  },
  {
   "cell_type": "code",
   "execution_count": null,
   "id": "7f19ee80",
   "metadata": {
    "papermill": {
     "duration": 0.15552,
     "end_time": "2022-02-28T23:27:06.246068",
     "exception": false,
     "start_time": "2022-02-28T23:27:06.090548",
     "status": "completed"
    },
    "tags": []
   },
   "outputs": [],
   "source": [
    "transaction_df = pd.read_csv(path + 'transactions.csv')"
   ]
  },
  {
   "cell_type": "markdown",
   "id": "097c0aa2",
   "metadata": {
    "papermill": {
     "duration": 0.139147,
     "end_time": "2022-02-28T23:27:16.206703",
     "exception": false,
     "start_time": "2022-02-28T23:27:16.067556",
     "status": "completed"
    },
    "tags": []
   },
   "source": [
    "<fond size=4>\n",
    "    Every store have peak days in Christmas season. Some stores show upper trends."
   ]
  },
  {
   "cell_type": "markdown",
   "id": "40e4df6e",
   "metadata": {
    "papermill": {
     "duration": 0.13722,
     "end_time": "2022-02-28T23:27:16.484061",
     "exception": false,
     "start_time": "2022-02-28T23:27:16.346841",
     "status": "completed"
    },
    "tags": []
   },
   "source": [
    "# Preparing Data"
   ]
  },
  {
   "cell_type": "code",
   "execution_count": null,
   "id": "1f6ac841",
   "metadata": {
    "papermill": {
     "duration": 0.986906,
     "end_time": "2022-02-28T23:27:17.604825",
     "exception": false,
     "start_time": "2022-02-28T23:27:16.617919",
     "status": "completed"
    },
    "tags": []
   },
   "outputs": [],
   "source": [
    "len(train_df.query('date_str==\"2013-01-01\"'))"
   ]
  },
  {
   "cell_type": "code",
   "execution_count": null,
   "id": "36a0b8aa",
   "metadata": {
    "papermill": {
     "duration": 0.195928,
     "end_time": "2022-02-28T23:27:17.933347",
     "exception": false,
     "start_time": "2022-02-28T23:27:17.737419",
     "status": "completed"
    },
    "tags": []
   },
   "outputs": [],
   "source": [
    "#https://www.kaggle.com/c/store-sales-time-series-forecasting/discussion/291165\n",
    "# idea and codes comes from this discussion \n",
    "\n",
    "train_df.sales = np.log1p(train_df.sales)\n"
   ]
  },
  {
   "cell_type": "code",
   "execution_count": null,
   "id": "88ac5f2b",
   "metadata": {
    "papermill": {
     "duration": 2.714539,
     "end_time": "2022-02-28T23:27:21.050726",
     "exception": false,
     "start_time": "2022-02-28T23:27:18.336187",
     "status": "completed"
    },
    "tags": []
   },
   "outputs": [],
   "source": [
    "train_df['Istest'] = False\n",
    "test_df['Istest'] = True\n",
    "\n",
    "full = pd.concat((train_df,test_df))\n",
    "\n",
    "#remove leap year day\n",
    "#full = full.query('date_str !=\"2016-02-29\"')\n",
    "\n",
    "\n",
    "full['Lag_16'] = full['sales'].shift(1782*16)\n",
    "full['Lag_17'] = full['sales'].shift(1782*17)\n",
    "full['Lag_18'] = full['sales'].shift(1782*18)\n",
    "full['Lag_19'] = full['sales'].shift(1782*19)\n",
    "full['Lag_20'] = full['sales'].shift(1782*20)\n",
    "full[\"Lag_21\"] = full['sales'].shift(1782*21)\n",
    "full['Lag_22'] = full['sales'].shift(1782*22)\n",
    "full['Lag_28'] = full['sales'].shift(1782*28)\n",
    "full['Lag_31'] = full['sales'].shift(1782*31)\n",
    "\n",
    "full['Lag_365'] = full['sales'].shift(1782*365)\n",
    "\n",
    "\n",
    "train_df = full.query('Istest==False')\n",
    "test_df = full.query('Istest ==True')\n"
   ]
  },
  {
   "cell_type": "code",
   "execution_count": null,
   "id": "5eacfd8a",
   "metadata": {
    "papermill": {
     "duration": 0.608288,
     "end_time": "2022-02-28T23:27:21.791988",
     "exception": false,
     "start_time": "2022-02-28T23:27:21.183700",
     "status": "completed"
    },
    "tags": []
   },
   "outputs": [],
   "source": [
    "train_df = train_df.dropna(subset=['Lag_365'],axis=0)"
   ]
  },
  {
   "cell_type": "code",
   "execution_count": null,
   "id": "cf922635-7c82-49d4-aa1b-ac209f685844",
   "metadata": {},
   "outputs": [],
   "source": [
    "train_df"
   ]
  },
  {
   "cell_type": "code",
   "execution_count": null,
   "id": "8abd5ce0",
   "metadata": {
    "papermill": {
     "duration": 0.143748,
     "end_time": "2022-02-28T23:27:22.069235",
     "exception": false,
     "start_time": "2022-02-28T23:27:21.925487",
     "status": "completed"
    },
    "tags": []
   },
   "outputs": [],
   "source": [
    "FEATURES = ['store_nbr','family','onpromotion', 'year', 'month',\n",
    "       'dayofmonth', 'dayofweek','dcoilwtico', 'city', 'state',\n",
    "       'type', 'cluster', 'national_holiday', 'national_event',\n",
    "       'national_workday', 'weekend', 'local_holiday', 'regional_holiday','Lag_16','Lag_17','Lag_18','Lag_19','Lag_20','Lag_21','Lag_22','Lag_28','Lag_31','Lag_365']\n",
    "TARGET =['sales']\n",
    "\n"
   ]
  },
  {
   "cell_type": "code",
   "execution_count": null,
   "id": "a82fad0f",
   "metadata": {
    "papermill": {
     "duration": 3.495102,
     "end_time": "2022-02-28T23:27:25.697217",
     "exception": false,
     "start_time": "2022-02-28T23:27:22.202115",
     "status": "completed"
    },
    "tags": []
   },
   "outputs": [],
   "source": [
    "from sklearn import preprocessing\n",
    "categories = ['family','city','state','type']\n",
    "for i in categories:\n",
    "    encoder = preprocessing.LabelEncoder()\n",
    "    train_df[i] = encoder.fit_transform(train_df[i])\n",
    "    test_df[i] =  encoder.transform(test_df[i])"
   ]
  },
  {
   "cell_type": "code",
   "execution_count": null,
   "id": "4c376bb2",
   "metadata": {
    "papermill": {
     "duration": 0.752423,
     "end_time": "2022-02-28T23:27:26.584136",
     "exception": false,
     "start_time": "2022-02-28T23:27:25.831713",
     "status": "completed"
    },
    "tags": []
   },
   "outputs": [],
   "source": [
    "from sklearn.model_selection import train_test_split\n",
    "X_train,X_val,y_train,y_val = train_test_split(train_df,train_df[TARGET],test_size=0.05,shuffle=False)"
   ]
  },
  {
   "cell_type": "code",
   "execution_count": null,
   "id": "b57c4bf2-2f9a-4908-b67f-d3c638ad01b1",
   "metadata": {},
   "outputs": [],
   "source": [
    "y_train"
   ]
  },
  {
   "cell_type": "code",
   "execution_count": null,
   "id": "33b15f84",
   "metadata": {
    "papermill": {
     "duration": 3.856998,
     "end_time": "2022-02-28T23:27:30.578311",
     "exception": false,
     "start_time": "2022-02-28T23:27:26.721313",
     "status": "completed"
    },
    "tags": []
   },
   "outputs": [],
   "source": [
    "from sklearn.linear_model import LinearRegression, HuberRegressor\n",
    "from sklearn.metrics import mean_squared_log_error\n",
    "\n",
    "linear = LinearRegression()\n",
    "model = linear.fit(X_train[FEATURES],y_train)\n",
    "\n",
    "\n",
    "#plt.scatter(X_val.date,model.predict(X_val[FEATURES]))\n",
    "#plt.xticks(rotation=45)\n",
    "\n",
    "predictions= model.predict(X_val[FEATURES])\n",
    "predictions = [a if a>0 else 0 for a in predictions]\n",
    "print('MSLE: ' + str(mean_squared_log_error(y_val,predictions)))\n"
   ]
  },
  {
   "cell_type": "code",
   "execution_count": null,
   "id": "19d136fd-a333-4f78-9a8f-615abe8c5e3d",
   "metadata": {},
   "outputs": [],
   "source": [
    "from trubrics.context import DataContext"
   ]
  },
  {
   "cell_type": "code",
   "execution_count": null,
   "id": "a479322b-08a4-4bac-b1d0-bc5c0beec2db",
   "metadata": {},
   "outputs": [],
   "source": [
    "data_context = DataContext(\n",
    "    testing_data=X_val[FEATURES].assign(sales=y_val),\n",
    "    training_data=X_train[FEATURES].assign(sales=y_train),    \n",
    "    target=\"sales\"\n",
    ")"
   ]
  },
  {
   "cell_type": "code",
   "execution_count": null,
   "id": "eaa8c567-59fa-4b01-b60e-f6d3fadf597a",
   "metadata": {},
   "outputs": [],
   "source": [
    "data_context.testing_data.head()"
   ]
  },
  {
   "cell_type": "code",
   "execution_count": null,
   "id": "7c42f3e2-b4b0-466b-8513-b7b89429e349",
   "metadata": {},
   "outputs": [],
   "source": [
    "from trubrics.validations import ModelValidator"
   ]
  },
  {
   "cell_type": "code",
   "execution_count": null,
   "id": "408e47cc-5bdb-474e-8a3b-d083f1cbcf97",
   "metadata": {},
   "outputs": [],
   "source": [
    "from sklearn.metrics import mean_squared_log_error, make_scorer\n",
    "\n",
    "def custom_log_scorer(y_true, y_pred):\n",
    "    y_pred = [a if a > 0 else 0 for a in y_pred]\n",
    "    return mean_squared_log_error(y_true, y_pred)"
   ]
  },
  {
   "cell_type": "code",
   "execution_count": null,
   "id": "fbcf0ccb-cb30-49eb-9ad8-bbe6d51fc8bb",
   "metadata": {},
   "outputs": [],
   "source": [
    "model_validator = ModelValidator(data=data_context, model=model, custom_scorers={\"zero_neg_mean_squared_log_error\": make_scorer(custom_log_scorer, greater_is_better=False)})"
   ]
  },
  {
   "cell_type": "code",
   "execution_count": null,
   "id": "1b8deb43-4250-4d08-af22-70f72737cd53",
   "metadata": {},
   "outputs": [],
   "source": [
    "validations = [\n",
    "    model_validator.validate_inference_time(threshold=0.05, n_executions=1),\n",
    "    model_validator.validate_performance_against_threshold(metric=\"zero_neg_mean_squared_log_error\", threshold=-0.2),\n",
    "    model_validator.validate_test_performance_against_dummy(metric=\"zero_neg_mean_squared_log_error\", strategy=\"mean\"),\n",
    "    model_validator.validate_performance_between_train_and_test(metric=\"zero_neg_mean_squared_log_error\", threshold=0.2),\n",
    "]"
   ]
  },
  {
   "cell_type": "code",
   "execution_count": null,
   "id": "67435281-d157-48e0-a381-9287f86f325f",
   "metadata": {},
   "outputs": [],
   "source": [
    "for validation in validations:\n",
    "    print(validation.dict()[\"validation_type\"], validation.dict()[\"outcome\"], validation.dict()[\"result\"])"
   ]
  },
  {
   "cell_type": "code",
   "execution_count": null,
   "id": "662fcbdc-6fd5-47df-9b2c-9e9a4cff07ae",
   "metadata": {},
   "outputs": [],
   "source": [
    "from xgboost import XGBRegressor\n",
    "\n",
    "xgb = XGBRegressor(tree_method='hist',n_estimators=500)\n",
    "xgb.fit(\n",
    "    X_train[FEATURES],\n",
    "    y_train,\n",
    "    eval_set=[(X_train[FEATURES],y_train),(X_val[FEATURES], y_val)],\n",
    "    verbose=False,\n",
    "    early_stopping_rounds=10\n",
    ")\n",
    "\n",
    "#plt.scatter(X_val.date,xgb.predict(X_val[FEATURES]))\n",
    "#plt.xticks(rotation=45)\n",
    "\n",
    "#predictions have negative. Changed negative values to 0.\n",
    "predictions= xgb.predict(X_val[FEATURES])\n",
    "predictions = [a if a>0 else 0 for a in predictions]\n",
    "print('MSLE: ',mean_squared_log_error(y_val,predictions))"
   ]
  },
  {
   "cell_type": "code",
   "execution_count": null,
   "id": "ee6ad504-427c-418f-bcfb-a2d31ea525c0",
   "metadata": {},
   "outputs": [],
   "source": [
    "model_validator = ModelValidator(data=data_context, model=xgb, custom_scorers={\"zero_neg_mean_squared_log_error\": make_scorer(custom_log_scorer, greater_is_better=False)})"
   ]
  },
  {
   "cell_type": "code",
   "execution_count": null,
   "id": "2784ac97-d4a0-4144-a136-5d53a4803d0e",
   "metadata": {},
   "outputs": [],
   "source": [
    "validations = [\n",
    "    model_validator.validate_inference_time(threshold=0.05, n_executions=1),\n",
    "    model_validator.validate_performance_against_threshold(metric=\"zero_neg_mean_squared_log_error\", threshold=-0.2),\n",
    "    model_validator.validate_test_performance_against_dummy(metric=\"zero_neg_mean_squared_log_error\", strategy=\"mean\"),\n",
    "    model_validator.validate_performance_between_train_and_test(metric=\"zero_neg_mean_squared_log_error\", threshold=0.2),\n",
    "    model_validator.validate_feature_in_top_n_important_features(feature=\"Lag_16\", top_n_features=2)\n",
    "]"
   ]
  },
  {
   "cell_type": "code",
   "execution_count": null,
   "id": "921c2b33-83f1-4165-b05e-50bbca68b718",
   "metadata": {},
   "outputs": [],
   "source": [
    "for validation in validations:\n",
    "    display(validation.dict()[\"validation_type\"], validation.dict()[\"outcome\"], validation.dict()[\"result\"])\n",
    "    print()"
   ]
  },
  {
   "cell_type": "code",
   "execution_count": null,
   "id": "244ff535-9c03-4c6f-ae8d-4b666c608ec7",
   "metadata": {},
   "outputs": [],
   "source": [
    "fi = validations[-1].dict()[\"result\"][\"feature_importance\"]\n",
    "plt.figure(figsize=(10,10))\n",
    "plt.barh(range(len(fi)), fi.values(), tick_label=list(fi.keys()))\n",
    "plt.show()"
   ]
  },
  {
   "cell_type": "code",
   "execution_count": null,
   "id": "723e9329-35e7-424c-9e68-a2cff0678bd6",
   "metadata": {},
   "outputs": [],
   "source": [
    "WRITE = False\n",
    "\n",
    "if WRITE:\n",
    "    import joblib\n",
    "    joblib.dump(xgb, path + \"xgb.joblib\")\n",
    "    data_context.testing_data.to_csv(path + \"sample_x_test.csv\", index=False)"
   ]
  }
 ],
 "metadata": {
  "kernelspec": {
   "display_name": "Python 3 (ipykernel)",
   "language": "python",
   "name": "python3"
  },
  "language_info": {
   "codemirror_mode": {
    "name": "ipython",
    "version": 3
   },
   "file_extension": ".py",
   "mimetype": "text/x-python",
   "name": "python",
   "nbconvert_exporter": "python",
   "pygments_lexer": "ipython3",
   "version": "3.7.9"
  },
  "papermill": {
   "default_parameters": {},
   "duration": 420.853772,
   "end_time": "2022-02-28T23:31:45.790583",
   "environment_variables": {},
   "exception": null,
   "input_path": "__notebook__.ipynb",
   "output_path": "__notebook__.ipynb",
   "parameters": {},
   "start_time": "2022-02-28T23:24:44.936811",
   "version": "2.3.3"
  }
 },
 "nbformat": 4,
 "nbformat_minor": 5
}
