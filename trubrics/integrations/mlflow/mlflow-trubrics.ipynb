{
 "cells": [
  {
   "cell_type": "markdown",
   "id": "2f095321-068a-44ff-9c21-2dfcb4ca3db1",
   "metadata": {},
   "source": [
    "## Train model"
   ]
  },
  {
   "cell_type": "code",
   "execution_count": null,
   "id": "619527c8-c3e4-4794-8629-9b38be8ba3fa",
   "metadata": {
    "tags": []
   },
   "outputs": [],
   "source": [
    "import shap\n",
    "from sklearn.ensemble import GradientBoostingClassifier\n",
    "from sklearn.model_selection import train_test_split\n",
    "from sklearn.dummy import DummyClassifier\n",
    "import mlflow\n",
    "from mlflow.models import MetricThreshold\n",
    "\n",
    "# load UCI Adult Data Set; segment it into training and test sets\n",
    "X, y = shap.datasets.adult()\n",
    "X_train, X_test, y_train, y_test = train_test_split(\n",
    "    X, y, test_size=0.33, random_state=42\n",
    ")\n",
    "\n",
    "# train a candidate XGBoost model\n",
    "candidate_model = GradientBoostingClassifier().fit(X_train, y_train)\n",
    "\n",
    "# train a baseline dummy model\n",
    "baseline_model = DummyClassifier(strategy=\"uniform\").fit(X_train, y_train)\n",
    "\n",
    "# construct an evaluation dataset from the test set\n",
    "eval_data = X_test\n",
    "eval_data[\"label\"] = y_test"
   ]
  },
  {
   "cell_type": "markdown",
   "id": "8517c8be-0dc4-4cd7-8e94-1672f5671403",
   "metadata": {
    "tags": []
   },
   "source": [
    "## Run trubrics validations"
   ]
  },
  {
   "cell_type": "code",
   "execution_count": null,
   "id": "0c291747-7d45-440b-86d4-1473b7e4ab55",
   "metadata": {
    "tags": []
   },
   "outputs": [],
   "source": [
    "from trubrics.context import DataContext\n",
    "\n",
    "data_context = DataContext(\n",
    "    target=\"label\", testing_data=eval_data\n",
    ")"
   ]
  },
  {
   "cell_type": "code",
   "execution_count": null,
   "id": "aaf91b7b-e20e-4ad4-88bb-d9cc79e36b2e",
   "metadata": {
    "tags": []
   },
   "outputs": [],
   "source": [
    "from trubrics.validations import ModelValidator\n",
    "\n",
    "model_validator = ModelValidator(data=data_context, model=candidate_model)"
   ]
  },
  {
   "cell_type": "code",
   "execution_count": null,
   "id": "11bc0715-c925-4e9a-8a71-e934cc57901a",
   "metadata": {
    "tags": []
   },
   "outputs": [],
   "source": [
    "validations = [\n",
    "    model_validator.validate_performance_against_threshold(metric=\"accuracy\", threshold=0.8),\n",
    "    model_validator.validate_performance_against_threshold(metric=\"recall\", threshold=0.9),\n",
    "]"
   ]
  },
  {
   "cell_type": "code",
   "execution_count": null,
   "id": "e53e38e2-e563-4d62-987f-72ba0acb8649",
   "metadata": {
    "tags": []
   },
   "outputs": [],
   "source": [
    "from trubrics.validations import Trubric"
   ]
  },
  {
   "cell_type": "code",
   "execution_count": null,
   "id": "780ecfa9-de12-4ace-9108-c06fe8fee522",
   "metadata": {
    "tags": []
   },
   "outputs": [],
   "source": [
    "trubric = Trubric(\n",
    "    name=\"mlflow-demo\",\n",
    "    data_context_name=data_context.name,\n",
    "    data_context_version=data_context.version,\n",
    "    validations=validations\n",
    ")"
   ]
  },
  {
   "cell_type": "markdown",
   "id": "92ad1b1d-f40e-4ea2-857e-f023e8331682",
   "metadata": {},
   "source": [
    "## Save to mlflow"
   ]
  },
  {
   "cell_type": "code",
   "execution_count": null,
   "id": "a053b6d0-a567-44a6-973a-ae2e57990233",
   "metadata": {
    "tags": []
   },
   "outputs": [],
   "source": [
    "# Define criteria for model to be validated against\n",
    "thresholds = {\n",
    "    \"accuracy_score\": MetricThreshold(\n",
    "        threshold=0.8,  # accuracy should be >=0.8\n",
    "        min_absolute_change=0.05,  # accuracy should be at least 0.05 greater than baseline model accuracy\n",
    "        min_relative_change=0.05,  # accuracy should be at least 5 percent greater than baseline model accuracy\n",
    "        higher_is_better=True,\n",
    "    ),\n",
    "}\n",
    "\n",
    "with mlflow.start_run() as run:\n",
    "    candidate_model_uri = mlflow.sklearn.log_model(\n",
    "        candidate_model, \"candidate_model\"\n",
    "    ).model_uri\n",
    "    baseline_model_uri = mlflow.sklearn.log_model(\n",
    "        baseline_model, \"baseline_model\"\n",
    "    ).model_uri\n",
    "    \n",
    "    mlflow.log_dict(trubric.dict(), artifact_file=\"demo-trubric.json\")\n",
    "\n",
    "    mlflow.evaluate(\n",
    "        candidate_model_uri,\n",
    "        eval_data,\n",
    "        targets=\"label\",\n",
    "        model_type=\"classifier\",\n",
    "        validation_thresholds=thresholds,\n",
    "        baseline_model=baseline_model_uri,\n",
    "    )"
   ]
  },
  {
   "cell_type": "code",
   "execution_count": null,
   "id": "2788e8af-de1f-4486-8bd3-f51b05179067",
   "metadata": {},
   "outputs": [],
   "source": []
  }
 ],
 "metadata": {
  "kernelspec": {
   "display_name": "venv39",
   "language": "python",
   "name": "venv39"
  },
  "language_info": {
   "codemirror_mode": {
    "name": "ipython",
    "version": 3
   },
   "file_extension": ".py",
   "mimetype": "text/x-python",
   "name": "python",
   "nbconvert_exporter": "python",
   "pygments_lexer": "ipython3",
   "version": "3.9.0"
  }
 },
 "nbformat": 4,
 "nbformat_minor": 5
}
