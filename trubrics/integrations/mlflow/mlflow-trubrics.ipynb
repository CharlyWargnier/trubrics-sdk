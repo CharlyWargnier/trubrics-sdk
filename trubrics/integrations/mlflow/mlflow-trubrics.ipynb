{
 "cells": [
  {
   "cell_type": "markdown",
   "id": "2f095321-068a-44ff-9c21-2dfcb4ca3db1",
   "metadata": {},
   "source": [
    "## Train model"
   ]
  },
  {
   "cell_type": "code",
   "execution_count": null,
   "id": "619527c8-c3e4-4794-8629-9b38be8ba3fa",
   "metadata": {
    "tags": []
   },
   "outputs": [],
   "source": [
    "# load UCI Adult Data Set; segment it into training and test sets\n",
    "X, y = shap.datasets.adult()\n",
    "X_train, X_test, y_train, y_test = train_test_split(\n",
    "    X, y, test_size=0.33, random_state=42\n",
    ")\n",
    "\n",
    "# train a candidate XGBoost model\n",
    "candidate_model = GradientBoostingClassifier().fit(X_train, y_train)\n",
    "\n",
    "# train a baseline dummy model\n",
    "baseline_model = DummyClassifier(strategy=\"uniform\").fit(X_train, y_train)\n",
    "\n",
    "# construct an evaluation dataset from the test set\n",
    "eval_data = X_test\n",
    "eval_data[\"label\"] = y_test"
   ]
  },
  {
   "cell_type": "markdown",
   "id": "94c01edd-fbe0-4acc-988a-df623c973a7f",
   "metadata": {},
   "source": [
    "## Set Trubrics DataContext"
   ]
  },
  {
   "cell_type": "code",
   "execution_count": null,
   "id": "edd2e59b-6414-4742-9d33-16df751749c6",
   "metadata": {
    "tags": []
   },
   "outputs": [],
   "source": [
    "data_context = DataContext(\n",
    "    target=\"label\", testing_data=eval_data\n",
    ")"
   ]
  },
  {
   "cell_type": "markdown",
   "id": "8517c8be-0dc4-4cd7-8e94-1672f5671403",
   "metadata": {
    "tags": []
   },
   "source": [
    "## Build validations with Trubrics"
   ]
  },
  {
   "cell_type": "code",
   "execution_count": null,
   "id": "bf1cea89-b674-4782-a412-c27ea30da9d2",
   "metadata": {},
   "outputs": [],
   "source": [
    "BUILD = False"
   ]
  },
  {
   "cell_type": "code",
   "execution_count": null,
   "id": "11bc0715-c925-4e9a-8a71-e934cc57901a",
   "metadata": {
    "tags": []
   },
   "outputs": [],
   "source": [
    "if BUILD:\n",
    "    model_validator = ModelValidator(data=data_context, model=candidate_model)\n",
    "    validations = [\n",
    "        model_validator.validate_performance_against_threshold(metric=\"accuracy\", threshold=0.8),\n",
    "        model_validator.validate_performance_against_threshold(metric=\"recall\", threshold=0.61, severity=\"warning\"),\n",
    "    ]\n",
    "\n",
    "    rich.print(validations[0], validations[1])\n",
    "\n",
    "    trubric = Trubric(\n",
    "        name=\"mlflow-demo\",\n",
    "        data_context_name=data_context.name,\n",
    "        data_context_version=data_context.version,\n",
    "        validations=validations\n",
    "    )\n",
    "\n",
    "    trubric.save_local(path=\"./my_first_trubric.json\")"
   ]
  },
  {
   "cell_type": "markdown",
   "id": "9c54ad49-2355-4552-b235-69f29667882a",
   "metadata": {
    "tags": []
   },
   "source": [
    "## Execute the trubric from file"
   ]
  },
  {
   "cell_type": "markdown",
   "id": "48562cf5-310f-4e21-8828-bc15b5c9f2f7",
   "metadata": {},
   "source": [
    "The `TrubricRun` object allows you to pull in a Trubric from file, and run that directly against any model and DataContext."
   ]
  },
  {
   "cell_type": "code",
   "execution_count": null,
   "id": "cd64e984-872c-4d04-8573-5dd1295e0dd3",
   "metadata": {},
   "outputs": [],
   "source": [
    "from trubrics.validations.run import TrubricRun"
   ]
  },
  {
   "cell_type": "code",
   "execution_count": null,
   "id": "b4005f0b-9aaf-4ff9-bf66-2d3703ddd647",
   "metadata": {},
   "outputs": [],
   "source": [
    "trubric_from_file = Trubric.parse_file(\"./my_first_trubric.json\")\n",
    "\n",
    "trubric_run_context = TrubricRun(\n",
    "    data_context=data_context,\n",
    "    model=candidate_model,\n",
    "    trubric=trubric_from_file,\n",
    "    tags=[\"nb-demo-new\"],\n",
    "    failing_severity=\"error\",\n",
    ")"
   ]
  },
  {
   "cell_type": "markdown",
   "id": "92ad1b1d-f40e-4ea2-857e-f023e8331682",
   "metadata": {
    "tags": []
   },
   "source": [
    "## Save to mlflow"
   ]
  },
  {
   "cell_type": "code",
   "execution_count": null,
   "id": "a053b6d0-a567-44a6-973a-ae2e57990233",
   "metadata": {
    "tags": []
   },
   "outputs": [],
   "source": [
    "with mlflow.start_run() as run:\n",
    "    candidate_model_uri = mlflow.sklearn.log_model(candidate_model, \"candidate_model\").model_uri\n",
    "    mlflow.evaluate(\n",
    "        candidate_model_uri,\n",
    "        eval_data,\n",
    "        targets=\"label\",\n",
    "        model_type=\"classifier\",\n",
    "        evaluators=\"trubrics\",\n",
    "        evaluator_config={\"trubric_run\": trubric_run_context}\n",
    "    )"
   ]
  },
  {
   "cell_type": "code",
   "execution_count": null,
   "id": "3098f9c5-0972-4aa8-b93b-e4544fa10a5f",
   "metadata": {},
   "outputs": [],
   "source": []
  }
 ],
 "metadata": {
  "kernelspec": {
   "display_name": "venv39",
   "language": "python",
   "name": "venv39"
  },
  "language_info": {
   "codemirror_mode": {
    "name": "ipython",
    "version": 3
   },
   "file_extension": ".py",
   "mimetype": "text/x-python",
   "name": "python",
   "nbconvert_exporter": "python",
   "pygments_lexer": "ipython3",
   "version": "3.9.0"
  }
 },
 "nbformat": 4,
 "nbformat_minor": 5
}
