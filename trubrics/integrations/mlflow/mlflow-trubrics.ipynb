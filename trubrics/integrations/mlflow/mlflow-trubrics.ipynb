{
 "cells": [
  {
   "cell_type": "code",
   "execution_count": null,
   "id": "a4bd6f46-9f03-4e14-a760-bcb991f94e91",
   "metadata": {
    "tags": []
   },
   "outputs": [],
   "source": [
    "import shap\n",
    "\n",
    "from sklearn.model_selection import train_test_split\n",
    "from sklearn.ensemble import GradientBoostingClassifier\n",
    "\n",
    "import mlflow"
   ]
  },
  {
   "cell_type": "markdown",
   "id": "2f095321-068a-44ff-9c21-2dfcb4ca3db1",
   "metadata": {},
   "source": [
    "## Train model"
   ]
  },
  {
   "cell_type": "code",
   "execution_count": null,
   "id": "619527c8-c3e4-4794-8629-9b38be8ba3fa",
   "metadata": {
    "tags": []
   },
   "outputs": [],
   "source": [
    "# load UCI Adult Data Set; segment it into training and test sets\n",
    "X, y = shap.datasets.adult()\n",
    "X_train, X_test, y_train, y_test = train_test_split(\n",
    "    X, y, test_size=0.33, random_state=42\n",
    ")\n",
    "\n",
    "# train a candidate XGBoost model\n",
    "model = GradientBoostingClassifier().fit(X_train, y_train)\n",
    "\n",
    "# construct an evaluation dataset from the test set\n",
    "eval_data = X_test\n",
    "eval_data[\"label\"] = y_test"
   ]
  },
  {
   "cell_type": "markdown",
   "id": "92ad1b1d-f40e-4ea2-857e-f023e8331682",
   "metadata": {
    "tags": []
   },
   "source": [
    "## Save to mlflow with Trubrics validation"
   ]
  },
  {
   "cell_type": "code",
   "execution_count": null,
   "id": "a053b6d0-a567-44a6-973a-ae2e57990233",
   "metadata": {
    "tags": []
   },
   "outputs": [],
   "source": [
    "with mlflow.start_run() as run:\n",
    "    model_uri = mlflow.sklearn.log_model(model, \"sklearn_model\").model_uri\n",
    "\n",
    "    mlflow.evaluate(\n",
    "        model=model_uri,\n",
    "        model_type=\"classifier\",\n",
    "        data=eval_data,\n",
    "        targets=\"label\",\n",
    "        evaluators=\"trubrics\",\n",
    "        evaluator_config={\n",
    "            \"trubric_path\": \"./my_first_trubric.json\",\n",
    "            \"model\": model\n",
    "        }\n",
    "    )"
   ]
  },
  {
   "cell_type": "markdown",
   "id": "8517c8be-0dc4-4cd7-8e94-1672f5671403",
   "metadata": {
    "tags": []
   },
   "source": [
    "## Build validations with Trubrics"
   ]
  },
  {
   "cell_type": "code",
   "execution_count": null,
   "id": "bf1cea89-b674-4782-a412-c27ea30da9d2",
   "metadata": {},
   "outputs": [],
   "source": [
    "BUILD = False"
   ]
  },
  {
   "cell_type": "code",
   "execution_count": null,
   "id": "11bc0715-c925-4e9a-8a71-e934cc57901a",
   "metadata": {
    "tags": []
   },
   "outputs": [],
   "source": [
    "if BUILD:\n",
    "    from trubrics.context import DataContext\n",
    "    from trubrics.validations import ModelValidator, Trubric\n",
    "    data_context = DataContext(\n",
    "        target=\"label\", testing_data=eval_data\n",
    "    )\n",
    "    model_validator = ModelValidator(data=data_context, model=model)\n",
    "    validations = [\n",
    "        model_validator.validate_performance_against_threshold(metric=\"accuracy\", threshold=0.8),\n",
    "        model_validator.validate_performance_against_threshold(metric=\"recall\", threshold=0.61, severity=\"warning\"),\n",
    "    ]\n",
    "\n",
    "    rich.print(validations[0], validations[1])\n",
    "\n",
    "    trubric = Trubric(\n",
    "        name=\"mlflow-demo\",\n",
    "        data_context_name=data_context.name,\n",
    "        data_context_version=data_context.version,\n",
    "        validations=validations\n",
    "    )\n",
    "\n",
    "    trubric.save_local(path=\"./my_first_trubric.json\")"
   ]
  }
 ],
 "metadata": {
  "kernelspec": {
   "display_name": "venv39",
   "language": "python",
   "name": "venv39"
  },
  "language_info": {
   "codemirror_mode": {
    "name": "ipython",
    "version": 3
   },
   "file_extension": ".py",
   "mimetype": "text/x-python",
   "name": "python",
   "nbconvert_exporter": "python",
   "pygments_lexer": "ipython3",
   "version": "3.9.0"
  }
 },
 "nbformat": 4,
 "nbformat_minor": 5
}
